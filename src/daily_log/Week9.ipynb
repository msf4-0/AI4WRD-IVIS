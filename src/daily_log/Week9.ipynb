{
 "cells": [
  {
   "cell_type": "markdown",
   "source": [
    "# Init"
   ],
   "metadata": {}
  },
  {
   "cell_type": "code",
   "execution_count": 12,
   "source": [
    "from IPython.display import display\n",
    "from typing import List,Dict\n",
    "import os\n",
    "import sys\n",
    "import psycopg2\n",
    "from psycopg2.extras import NamedTupleCursor\n",
    "\n",
    "os.chdir('/home/rchuzh/programming/image_labelling_shrdc')\n",
    "from pathlib import Path\n",
    "Path.cwd()\n",
    "SRC = Path('/home/rchuzh/programming/image_labelling_shrdc/src')  # ROOT folder -> ./src\n",
    "LIB_PATH = SRC / \"lib\"\n",
    "\n",
    "if str(LIB_PATH) not in sys.path:\n",
    "    sys.path.insert(0, str(LIB_PATH))  # ./lib\n",
    "else:\n",
    "    pass"
   ],
   "outputs": [],
   "metadata": {}
  },
  {
   "cell_type": "code",
   "execution_count": 13,
   "source": [
    "from data_manager.database_manager import db_fetchone,db_no_fetch,db_fetchall\n",
    "from core.utils.log import log_info,log_error\n",
    "dsn = \"host=localhost port=5432 dbname=eye user=shrdc password=shrdc\"\n",
    "def init_connection(dsn=None, connection_factory=None, cursor_factory=None, **kwargs):\n",
    "    \"\"\" Connect to the PostgreSQL database server \"\"\"\n",
    "\n",
    "    try:\n",
    "        # read connection parameters\n",
    "        # params = config()\n",
    "\n",
    "        # connect to the PostgreSQL server\n",
    "        log_info('Connecting to the PostgreSQL database...')\n",
    "        if kwargs:\n",
    "            conn = psycopg2.connect(**kwargs)\n",
    "\n",
    "        else:\n",
    "            conn = psycopg2.connect(dsn, connection_factory, cursor_factory)\n",
    "\n",
    "        # create a cursor\n",
    "        with conn:\n",
    "            with conn.cursor(cursor_factory=NamedTupleCursor) as cur:\n",
    "\n",
    "                # execute a statement\n",
    "                cur.execute('SELECT version();')\n",
    "                conn.commit()\n",
    "\n",
    "                # display the PostgreSQL database server version\n",
    "                db_version = cur.fetchone().version\n",
    "                log_info(f\"PostgreSQL database version: {db_version}\")\n",
    "                log_info(f\"PostgreSQL connection status: {conn.info.status}\")\n",
    "                log_info(\n",
    "                    f\"You are connected to database '{conn.info.dbname}' as user '{conn.info.user}' on host '{conn.info.host}' at port '{conn.info.port}'.\")\n",
    "        return conn\n",
    "    except (Exception, psycopg2.DatabaseError) as error:\n",
    "        log_error(error)\n",
    "        conn = None\n"
   ],
   "outputs": [],
   "metadata": {}
  },
  {
   "cell_type": "code",
   "execution_count": 14,
   "source": [
    "conn=init_connection(dsn)"
   ],
   "outputs": [
    {
     "output_type": "stream",
     "name": "stderr",
     "text": [
      "2021-08-02 22:40:42.041 INFO    root: Connecting to the PostgreSQL database...\n",
      "2021-08-02 22:40:42.048 INFO    root: PostgreSQL database version: PostgreSQL 13.3 (Ubuntu 13.3-1.pgdg20.04+1) on x86_64-pc-linux-gnu, compiled by gcc (Ubuntu 9.3.0-17ubuntu1~20.04) 9.3.0, 64-bit\n",
      "2021-08-02 22:40:42.049 INFO    root: PostgreSQL connection status: 0\n",
      "2021-08-02 22:40:42.049 INFO    root: You are connected to database 'eye' as user 'shrdc' on host 'localhost' at port '5432'.\n"
     ]
    }
   ],
   "metadata": {}
  },
  {
   "cell_type": "code",
   "execution_count": 15,
   "source": [
    "from typing import Union,List,Dict,Optional\n",
    "import pandas as pd\n",
    "def create_dataframe(data: Union[List, Dict, pd.Series], column_names: List = None, sort: bool = False, sort_by: Optional[str] = None, asc:bool=True,date_time_format: bool = False) -> pd.DataFrame:\n",
    "    if data:\n",
    "\n",
    "        df = pd.DataFrame(data, columns=column_names)\n",
    "        df.index.name = ('No.')\n",
    "        if date_time_format:\n",
    "            df['Date/Time'] = pd.to_datetime(df['Date/Time'],\n",
    "                                             format='%Y-%m-%d %H:%M:%S')\n",
    "\n",
    "            # df.sort_values(by=['Date/Time'], inplace=True,\n",
    "            #                ascending=False, ignore_index=True)\n",
    "        if sort:\n",
    "\n",
    "            df.sort_values(by=[sort_by], inplace=True,\n",
    "                           ascending=asc, ignore_index=True)\n",
    "\n",
    "            # dfStyler = df.style.set_properties(**{'text-align': 'center'})\n",
    "            # dfStyler.set_table_styles(\n",
    "            #     [dict(selector='th', props=[('text-align', 'center')])])\n",
    "\n",
    "        return df"
   ],
   "outputs": [],
   "metadata": {}
  },
  {
   "cell_type": "markdown",
   "source": [
    "# 2/8/2021"
   ],
   "metadata": {}
  },
  {
   "cell_type": "code",
   "execution_count": 5,
   "source": [
    "query_sql=\"\"\"\n",
    "SELECT\n",
    "            id AS \"ID\",\n",
    "            name AS \"Name\",\n",
    "            dataset_size AS \"Dataset Size\",\n",
    "            updated_at AS \"Date/Time\",\n",
    "            description AS \"Description\",\n",
    "            dataset_path AS \"Dataset Path\",\n",
    "            (SELECT dt.name AS \"Deployment Type\" from public.deployment_type dt where dt.id = d.deployment_id)\n",
    "        FROM\n",
    "            public.dataset d;\n",
    "\"\"\""
   ],
   "outputs": [],
   "metadata": {}
  },
  {
   "cell_type": "code",
   "execution_count": 6,
   "source": [
    "query,column_names=db_fetchall(query_sql,conn,fetch_col_name=True)\n",
    "query"
   ],
   "outputs": [
    {
     "output_type": "execute_result",
     "data": {
      "text/plain": [
       "[Record(ID=2, Name='My Second Dataset', Dataset_Size=4, Date_Time=datetime.datetime(2021, 7, 20, 14, 35, 18, 643911, tzinfo=psycopg2.tz.FixedOffsetTimezone(offset=480, name=None)), Description=None, Dataset_Path='/home/rchuzh/.local/share/integrated-vision-inspection-system/app_media/dataset/My-Second-Dataset', Deployment_Type='Object Detection with Bounding Boxes'),\n",
       " Record(ID=3, Name='My Third Dataset', Dataset_Size=4, Date_Time=datetime.datetime(2021, 7, 20, 14, 38, 58, 453171, tzinfo=psycopg2.tz.FixedOffsetTimezone(offset=480, name=None)), Description=None, Dataset_Path='/home/rchuzh/.local/share/integrated-vision-inspection-system/app_media/dataset/My-Third-Dataset', Deployment_Type='Object Detection with Bounding Boxes'),\n",
       " Record(ID=4, Name='My Fourth Dataset', Dataset_Size=4, Date_Time=datetime.datetime(2021, 7, 21, 20, 22, 29, 803351, tzinfo=psycopg2.tz.FixedOffsetTimezone(offset=480, name=None)), Description='asdadsfads', Dataset_Path='/home/rchuzh/.local/share/integrated-vision-inspection-system/app_media/dataset/My-Fourth-Dataset', Deployment_Type='Object Detection with Bounding Boxes')]"
      ]
     },
     "metadata": {},
     "execution_count": 6
    }
   ],
   "metadata": {}
  },
  {
   "cell_type": "code",
   "execution_count": 7,
   "source": [
    "selection=[x.ID for x in query if x.Name==\"My Third Dataset\"][0]\n",
    "selection"
   ],
   "outputs": [
    {
     "output_type": "execute_result",
     "data": {
      "text/plain": [
       "3"
      ]
     },
     "metadata": {},
     "execution_count": 7
    }
   ],
   "metadata": {}
  },
  {
   "cell_type": "code",
   "execution_count": 8,
   "source": [
    "dataset_tmp = []\n",
    "if query:\n",
    "    for dataset in query:\n",
    "\n",
    "        converted_datetime = dataset.Date_Time.strftime(\n",
    "            '%Y-%m-%d %H:%M:%S')\n",
    "\n",
    "        # convert datetime with TZ to (2021-07-30 12:12:12) format\n",
    "        dataset = dataset._replace(\n",
    "            Date_Time=converted_datetime)\n",
    "        dataset_tmp.append(dataset)"
   ],
   "outputs": [],
   "metadata": {}
  },
  {
   "cell_type": "code",
   "execution_count": 9,
   "source": [
    "df=create_dataframe(dataset_tmp,column_names=column_names,sort=True,sort_by='ID',asc=True,date_time_format=True)"
   ],
   "outputs": [],
   "metadata": {}
  },
  {
   "cell_type": "code",
   "execution_count": 11,
   "source": [
    "df_loc=df.loc[:,\"ID\":\"Date/Time\"]\n",
    "df_loc"
   ],
   "outputs": [
    {
     "output_type": "execute_result",
     "data": {
      "text/plain": [
       "   ID               Name  Dataset Size           Date/Time\n",
       "0   2  My Second Dataset             4 2021-07-20 14:35:18\n",
       "1   3   My Third Dataset             4 2021-07-20 14:38:58\n",
       "2   4  My Fourth Dataset             4 2021-07-21 20:22:29"
      ],
      "text/html": [
       "<div>\n",
       "<style scoped>\n",
       "    .dataframe tbody tr th:only-of-type {\n",
       "        vertical-align: middle;\n",
       "    }\n",
       "\n",
       "    .dataframe tbody tr th {\n",
       "        vertical-align: top;\n",
       "    }\n",
       "\n",
       "    .dataframe thead th {\n",
       "        text-align: right;\n",
       "    }\n",
       "</style>\n",
       "<table border=\"1\" class=\"dataframe\">\n",
       "  <thead>\n",
       "    <tr style=\"text-align: right;\">\n",
       "      <th></th>\n",
       "      <th>ID</th>\n",
       "      <th>Name</th>\n",
       "      <th>Dataset Size</th>\n",
       "      <th>Date/Time</th>\n",
       "    </tr>\n",
       "  </thead>\n",
       "  <tbody>\n",
       "    <tr>\n",
       "      <th>0</th>\n",
       "      <td>2</td>\n",
       "      <td>My Second Dataset</td>\n",
       "      <td>4</td>\n",
       "      <td>2021-07-20 14:35:18</td>\n",
       "    </tr>\n",
       "    <tr>\n",
       "      <th>1</th>\n",
       "      <td>3</td>\n",
       "      <td>My Third Dataset</td>\n",
       "      <td>4</td>\n",
       "      <td>2021-07-20 14:38:58</td>\n",
       "    </tr>\n",
       "    <tr>\n",
       "      <th>2</th>\n",
       "      <td>4</td>\n",
       "      <td>My Fourth Dataset</td>\n",
       "      <td>4</td>\n",
       "      <td>2021-07-21 20:22:29</td>\n",
       "    </tr>\n",
       "  </tbody>\n",
       "</table>\n",
       "</div>"
      ]
     },
     "metadata": {},
     "execution_count": 11
    }
   ],
   "metadata": {}
  },
  {
   "cell_type": "code",
   "execution_count": null,
   "source": [],
   "outputs": [],
   "metadata": {}
  }
 ],
 "metadata": {
  "orig_nbformat": 4,
  "language_info": {
   "name": "python",
   "version": "3.8.3",
   "mimetype": "text/x-python",
   "codemirror_mode": {
    "name": "ipython",
    "version": 3
   },
   "pygments_lexer": "ipython3",
   "nbconvert_exporter": "python",
   "file_extension": ".py"
  },
  "kernelspec": {
   "name": "python3",
   "display_name": "Python 3.8.3 64-bit ('project': conda)"
  },
  "interpreter": {
   "hash": "ba56c48e8eb9be168e0389a843d6b05eb98b350e2a11ebd3aad5a11a665ac5a1"
  }
 },
 "nbformat": 4,
 "nbformat_minor": 2
}