{
 "cells": [
  {
   "cell_type": "markdown",
   "source": [
    "# Init"
   ],
   "metadata": {}
  },
  {
   "cell_type": "code",
   "execution_count": 1,
   "source": [
    "from IPython.display import display\n",
    "from typing import List,Dict\n",
    "import os\n",
    "import sys\n",
    "import psycopg2\n",
    "from psycopg2.extras import NamedTupleCursor\n",
    "\n",
    "os.chdir('/home/rchuzh/programming/image_labelling_shrdc')\n",
    "from pathlib import Path\n",
    "Path.cwd()\n",
    "SRC = Path('/home/rchuzh/programming/image_labelling_shrdc/src')  # ROOT folder -> ./src\n",
    "LIB_PATH = SRC / \"lib\"\n",
    "\n",
    "if str(LIB_PATH) not in sys.path:\n",
    "    sys.path.insert(0, str(LIB_PATH))  # ./lib\n",
    "else:\n",
    "    pass"
   ],
   "outputs": [],
   "metadata": {}
  },
  {
   "cell_type": "code",
   "execution_count": 2,
   "source": [
    "from data_manager.database_manager import db_fetchone,db_no_fetch,db_fetchall\n",
    "from core.utils.log import log_info,log_error\n",
    "dsn = \"host=localhost port=5432 dbname=eye user=shrdc password=shrdc\"\n",
    "def init_connection(dsn=None, connection_factory=None, cursor_factory=None, **kwargs):\n",
    "    \"\"\" Connect to the PostgreSQL database server \"\"\"\n",
    "\n",
    "    try:\n",
    "        # read connection parameters\n",
    "        # params = config()\n",
    "\n",
    "        # connect to the PostgreSQL server\n",
    "        log_info('Connecting to the PostgreSQL database...')\n",
    "        if kwargs:\n",
    "            conn = psycopg2.connect(**kwargs)\n",
    "\n",
    "        else:\n",
    "            conn = psycopg2.connect(dsn, connection_factory, cursor_factory)\n",
    "\n",
    "        # create a cursor\n",
    "        with conn:\n",
    "            with conn.cursor(cursor_factory=NamedTupleCursor) as cur:\n",
    "\n",
    "                # execute a statement\n",
    "                cur.execute('SELECT version();')\n",
    "                conn.commit()\n",
    "\n",
    "                # display the PostgreSQL database server version\n",
    "                db_version = cur.fetchone().version\n",
    "                log_info(f\"PostgreSQL database version: {db_version}\")\n",
    "                log_info(f\"PostgreSQL connection status: {conn.info.status}\")\n",
    "                log_info(\n",
    "                    f\"You are connected to database '{conn.info.dbname}' as user '{conn.info.user}' on host '{conn.info.host}' at port '{conn.info.port}'.\")\n",
    "        return conn\n",
    "    except (Exception, psycopg2.DatabaseError) as error:\n",
    "        log_error(error)\n",
    "        conn = None\n"
   ],
   "outputs": [],
   "metadata": {}
  },
  {
   "cell_type": "code",
   "execution_count": 3,
   "source": [
    "conn=init_connection(dsn)"
   ],
   "outputs": [
    {
     "output_type": "stream",
     "name": "stderr",
     "text": [
      "2021-08-06 12:24:18.273 INFO    root: Connecting to the PostgreSQL database...\n",
      "2021-08-06 12:24:18.306 INFO    root: PostgreSQL database version: PostgreSQL 13.3 (Ubuntu 13.3-1.pgdg20.04+1) on x86_64-pc-linux-gnu, compiled by gcc (Ubuntu 9.3.0-17ubuntu1~20.04) 9.3.0, 64-bit\n",
      "2021-08-06 12:24:18.308 INFO    root: PostgreSQL connection status: 0\n",
      "2021-08-06 12:24:18.312 INFO    root: You are connected to database 'eye' as user 'shrdc' on host 'localhost' at port '5432'.\n"
     ]
    }
   ],
   "metadata": {}
  },
  {
   "cell_type": "code",
   "execution_count": 4,
   "source": [
    "from typing import Union,List,Dict,Optional\n",
    "import pandas as pd\n",
    "def create_dataframe(data: Union[List, Dict, pd.Series], column_names: List = None, sort: bool = False, sort_by: Optional[str] = None, asc:bool=True,date_time_format: bool = False) -> pd.DataFrame:\n",
    "    if data:\n",
    "\n",
    "        df = pd.DataFrame(data, columns=column_names)\n",
    "        df.index.name = ('No.')\n",
    "        if date_time_format:\n",
    "            df['Date/Time'] = pd.to_datetime(df['Date/Time'],\n",
    "                                             format='%Y-%m-%d %H:%M:%S')\n",
    "\n",
    "            # df.sort_values(by=['Date/Time'], inplace=True,\n",
    "            #                ascending=False, ignore_index=True)\n",
    "        if sort:\n",
    "\n",
    "            df.sort_values(by=[sort_by], inplace=True,\n",
    "                           ascending=asc, ignore_index=True)\n",
    "\n",
    "            # dfStyler = df.style.set_properties(**{'text-align': 'center'})\n",
    "            # dfStyler.set_table_styles(\n",
    "            #     [dict(selector='th', props=[('text-align', 'center')])])\n",
    "\n",
    "        return df"
   ],
   "outputs": [],
   "metadata": {}
  },
  {
   "cell_type": "markdown",
   "source": [
    "# 2/8/2021"
   ],
   "metadata": {}
  },
  {
   "cell_type": "code",
   "execution_count": 54,
   "source": [
    "query_sql=\"\"\"\n",
    "SELECT\n",
    "            id AS \"ID\",\n",
    "            name AS \"Name\",\n",
    "            dataset_size AS \"Dataset Size\",\n",
    "              (SELECT ft.name AS \"Filetype\" from public.filetype ft where ft.id = d.filetype_id),\n",
    "            updated_at AS \"Date/Time\",\n",
    "            description AS \"Description\",\n",
    "            dataset_path AS \"Dataset Path\"\n",
    "          \n",
    "        FROM\n",
    "            public.dataset d;\n",
    "\"\"\""
   ],
   "outputs": [],
   "metadata": {}
  },
  {
   "cell_type": "code",
   "execution_count": 55,
   "source": [
    "query,column_names=db_fetchall(query_sql,conn,fetch_col_name=True,return_dict=False)\n",
    "\n"
   ],
   "outputs": [
    {
     "output_type": "stream",
     "name": "stderr",
     "text": [
      "2021-08-06 14:21:09.337 ERROR   root: relation \"public.file_type\" does not exist\n",
      "LINE 6:             (SELECT ft.name AS \"File Type\" from public.file_...\n",
      "                                                        ^\n",
      "\n"
     ]
    },
    {
     "output_type": "error",
     "ename": "TypeError",
     "evalue": "cannot unpack non-iterable NoneType object",
     "traceback": [
      "\u001b[0;31m---------------------------------------------------------------------------\u001b[0m",
      "\u001b[0;31mTypeError\u001b[0m                                 Traceback (most recent call last)",
      "\u001b[0;32m<ipython-input-55-760b94d6862c>\u001b[0m in \u001b[0;36m<module>\u001b[0;34m\u001b[0m\n\u001b[0;32m----> 1\u001b[0;31m \u001b[0mquery\u001b[0m\u001b[0;34m,\u001b[0m\u001b[0mcolumn_names\u001b[0m\u001b[0;34m=\u001b[0m\u001b[0mdb_fetchall\u001b[0m\u001b[0;34m(\u001b[0m\u001b[0mquery_sql\u001b[0m\u001b[0;34m,\u001b[0m\u001b[0mconn\u001b[0m\u001b[0;34m,\u001b[0m\u001b[0mfetch_col_name\u001b[0m\u001b[0;34m=\u001b[0m\u001b[0;32mTrue\u001b[0m\u001b[0;34m,\u001b[0m\u001b[0mreturn_dict\u001b[0m\u001b[0;34m=\u001b[0m\u001b[0;32mFalse\u001b[0m\u001b[0;34m)\u001b[0m\u001b[0;34m\u001b[0m\u001b[0;34m\u001b[0m\u001b[0m\n\u001b[0m\u001b[1;32m      2\u001b[0m \u001b[0;34m\u001b[0m\u001b[0m\n",
      "\u001b[0;31mTypeError\u001b[0m: cannot unpack non-iterable NoneType object"
     ]
    }
   ],
   "metadata": {}
  },
  {
   "cell_type": "code",
   "execution_count": null,
   "source": [
    "[dict(row) for row in query]"
   ],
   "outputs": [],
   "metadata": {}
  },
  {
   "cell_type": "code",
   "execution_count": 7,
   "source": [
    "selection=[x.ID for x in query if x.Name==\"My Third Dataset\"][0]\n",
    "selection"
   ],
   "outputs": [
    {
     "output_type": "execute_result",
     "data": {
      "text/plain": [
       "3"
      ]
     },
     "metadata": {},
     "execution_count": 7
    }
   ],
   "metadata": {}
  },
  {
   "cell_type": "code",
   "execution_count": 8,
   "source": [
    "dataset_tmp = []\n",
    "if query:\n",
    "    for dataset in query:\n",
    "\n",
    "        converted_datetime = dataset.Date_Time.strftime(\n",
    "            '%Y-%m-%d %H:%M:%S')\n",
    "\n",
    "        # convert datetime with TZ to (2021-07-30 12:12:12) format\n",
    "        dataset = dataset._replace(\n",
    "            Date_Time=converted_datetime)\n",
    "        dataset_tmp.append(dataset)"
   ],
   "outputs": [],
   "metadata": {}
  },
  {
   "cell_type": "code",
   "execution_count": 9,
   "source": [
    "df=create_dataframe(dataset_tmp,column_names=column_names,sort=True,sort_by='ID',asc=True,date_time_format=True)"
   ],
   "outputs": [],
   "metadata": {}
  },
  {
   "cell_type": "code",
   "execution_count": 10,
   "source": [
    "df_loc=df.loc[:,\"ID\":\"Date/Time\"]\n",
    "df_loc\n",
    "df"
   ],
   "outputs": [
    {
     "output_type": "execute_result",
     "data": {
      "text/plain": [
       "   ID               Name  Dataset Size Filetype           Date/Time  \\\n",
       "0   2  My Second Dataset             4    Image 2021-08-03 21:49:23   \n",
       "1   3   My Third Dataset             4    Image 2021-08-03 21:49:23   \n",
       "2   4  My Fourth Dataset             4    Image 2021-08-03 21:49:23   \n",
       "\n",
       "  Description                                       Dataset Path  \n",
       "0        None  /home/rchuzh/.local/share/integrated-vision-in...  \n",
       "1        None  /home/rchuzh/.local/share/integrated-vision-in...  \n",
       "2  asdadsfads  /home/rchuzh/.local/share/integrated-vision-in...  "
      ],
      "text/html": [
       "<div>\n",
       "<style scoped>\n",
       "    .dataframe tbody tr th:only-of-type {\n",
       "        vertical-align: middle;\n",
       "    }\n",
       "\n",
       "    .dataframe tbody tr th {\n",
       "        vertical-align: top;\n",
       "    }\n",
       "\n",
       "    .dataframe thead th {\n",
       "        text-align: right;\n",
       "    }\n",
       "</style>\n",
       "<table border=\"1\" class=\"dataframe\">\n",
       "  <thead>\n",
       "    <tr style=\"text-align: right;\">\n",
       "      <th></th>\n",
       "      <th>ID</th>\n",
       "      <th>Name</th>\n",
       "      <th>Dataset Size</th>\n",
       "      <th>Filetype</th>\n",
       "      <th>Date/Time</th>\n",
       "      <th>Description</th>\n",
       "      <th>Dataset Path</th>\n",
       "    </tr>\n",
       "  </thead>\n",
       "  <tbody>\n",
       "    <tr>\n",
       "      <th>0</th>\n",
       "      <td>2</td>\n",
       "      <td>My Second Dataset</td>\n",
       "      <td>4</td>\n",
       "      <td>Image</td>\n",
       "      <td>2021-08-03 21:49:23</td>\n",
       "      <td>None</td>\n",
       "      <td>/home/rchuzh/.local/share/integrated-vision-in...</td>\n",
       "    </tr>\n",
       "    <tr>\n",
       "      <th>1</th>\n",
       "      <td>3</td>\n",
       "      <td>My Third Dataset</td>\n",
       "      <td>4</td>\n",
       "      <td>Image</td>\n",
       "      <td>2021-08-03 21:49:23</td>\n",
       "      <td>None</td>\n",
       "      <td>/home/rchuzh/.local/share/integrated-vision-in...</td>\n",
       "    </tr>\n",
       "    <tr>\n",
       "      <th>2</th>\n",
       "      <td>4</td>\n",
       "      <td>My Fourth Dataset</td>\n",
       "      <td>4</td>\n",
       "      <td>Image</td>\n",
       "      <td>2021-08-03 21:49:23</td>\n",
       "      <td>asdadsfads</td>\n",
       "      <td>/home/rchuzh/.local/share/integrated-vision-in...</td>\n",
       "    </tr>\n",
       "  </tbody>\n",
       "</table>\n",
       "</div>"
      ]
     },
     "metadata": {},
     "execution_count": 10
    }
   ],
   "metadata": {}
  },
  {
   "cell_type": "code",
   "execution_count": 75,
   "source": [
    "df_dict=df.to_dict(orient='index')"
   ],
   "outputs": [],
   "metadata": {}
  },
  {
   "cell_type": "code",
   "execution_count": 78,
   "source": [
    "if df_dict.get(3):\n",
    "    print(\"yes\")\n",
    "else:\n",
    "    print(\"no\")"
   ],
   "outputs": [
    {
     "output_type": "stream",
     "name": "stdout",
     "text": [
      "no\n"
     ]
    }
   ],
   "metadata": {}
  },
  {
   "cell_type": "code",
   "execution_count": 56,
   "source": [
    "name=(df_loc[df_loc[\"ID\"]==3].Name)[1]\n",
    "name"
   ],
   "outputs": [
    {
     "output_type": "execute_result",
     "data": {
      "text/plain": [
       "'My Third Dataset'"
      ]
     },
     "metadata": {},
     "execution_count": 56
    }
   ],
   "metadata": {}
  },
  {
   "cell_type": "code",
   "execution_count": 63,
   "source": [
    "df_loc.loc[df_loc[\"ID\"]==3,'Name'].values[0]"
   ],
   "outputs": [
    {
     "output_type": "execute_result",
     "data": {
      "text/plain": [
       "'My Third Dataset'"
      ]
     },
     "metadata": {},
     "execution_count": 63
    }
   ],
   "metadata": {}
  },
  {
   "cell_type": "code",
   "execution_count": 79,
   "source": [
    "some_dict={'one':[{'name':'hello','info':'sadfa'},{'name':'test','info':'jvhjfgh'}]}"
   ],
   "outputs": [],
   "metadata": {}
  },
  {
   "cell_type": "code",
   "execution_count": 84,
   "source": [
    "multi_dict={}\n",
    "for outerkey,innerDict in some_dict.items():\n",
    "    for innerkey,value in some_dict.items():\n",
    "        multi_dict[(outerkey,innerkey)]=value"
   ],
   "outputs": [],
   "metadata": {}
  },
  {
   "cell_type": "code",
   "execution_count": 86,
   "source": [
    "pd.DataFrame.from_dict(multi_dict)"
   ],
   "outputs": [
    {
     "output_type": "execute_result",
     "data": {
      "text/plain": [
       "                                   one\n",
       "                                   one\n",
       "0   {'name': 'hello', 'info': 'sadfa'}\n",
       "1  {'name': 'test', 'info': 'jvhjfgh'}"
      ],
      "text/html": [
       "<div>\n",
       "<style scoped>\n",
       "    .dataframe tbody tr th:only-of-type {\n",
       "        vertical-align: middle;\n",
       "    }\n",
       "\n",
       "    .dataframe tbody tr th {\n",
       "        vertical-align: top;\n",
       "    }\n",
       "\n",
       "    .dataframe thead tr th {\n",
       "        text-align: left;\n",
       "    }\n",
       "</style>\n",
       "<table border=\"1\" class=\"dataframe\">\n",
       "  <thead>\n",
       "    <tr>\n",
       "      <th></th>\n",
       "      <th>one</th>\n",
       "    </tr>\n",
       "    <tr>\n",
       "      <th></th>\n",
       "      <th>one</th>\n",
       "    </tr>\n",
       "  </thead>\n",
       "  <tbody>\n",
       "    <tr>\n",
       "      <th>0</th>\n",
       "      <td>{'name': 'hello', 'info': 'sadfa'}</td>\n",
       "    </tr>\n",
       "    <tr>\n",
       "      <th>1</th>\n",
       "      <td>{'name': 'test', 'info': 'jvhjfgh'}</td>\n",
       "    </tr>\n",
       "  </tbody>\n",
       "</table>\n",
       "</div>"
      ]
     },
     "metadata": {},
     "execution_count": 86
    }
   ],
   "metadata": {}
  },
  {
   "cell_type": "code",
   "execution_count": null,
   "source": [
    "test=[1,2,3,4,5]\n",
    "for z in zip(test[:],test[1:]):\n",
    "    # if x==y:\n",
    "    #     pass\n",
    "    # else:\n",
    "    #     print(\"Not equal\")\n",
    "    for i in z:\n",
    "        print(i)"
   ],
   "outputs": [],
   "metadata": {}
  },
  {
   "cell_type": "code",
   "execution_count": 18,
   "source": [
    "# MIME: type/subtype\n",
    "#get filetype \n",
    "import mimetypes\n",
    "from pathlib import Path\n",
    "from streamlit.uploaded_file_manager import UploadedFile\n",
    "filepath=Path('/home/rchuzh/Documents/aruco/train/IMG_20210315_181136.jpg'\n",
    ")\n",
    "def get_filetype(file:Union[str,Path,UploadedFile]):\n",
    "    if isinstance(file,(str,Path)):\n",
    "        mime_type=mimetypes.guess_type(file)[0]\n",
    "        filetype=str(Path(mime_type).parent)\n",
    "    elif isinstance(file,UploadedFile):\n",
    "        mime_type=file.type\n",
    "        \n",
    "    filetype=str(Path(mime_type).parent)\n",
    "    return filetype"
   ],
   "outputs": [],
   "metadata": {}
  },
  {
   "cell_type": "code",
   "execution_count": 11,
   "source": [
    "file_tuple=[Path('/home/rchuzh/Documents/aruco/train/IMG_20210315_181136.jpg'\n",
    "),Path('/home/rchuzh/Documents/aruco/test/IMG_20210315_181130.jpg')]\n",
    "filetype1,filetype2=list(map(get_filetype,file_tuple))"
   ],
   "outputs": [
    {
     "output_type": "error",
     "ename": "NameError",
     "evalue": "name 'get_filetype' is not defined",
     "traceback": [
      "\u001b[0;31m---------------------------------------------------------------------------\u001b[0m",
      "\u001b[0;31mNameError\u001b[0m                                 Traceback (most recent call last)",
      "\u001b[0;32m<ipython-input-11-38cb42c2dfd2>\u001b[0m in \u001b[0;36m<module>\u001b[0;34m\u001b[0m\n\u001b[1;32m      1\u001b[0m file_tuple=[Path('/home/rchuzh/Documents/aruco/train/IMG_20210315_181136.jpg'\n\u001b[1;32m      2\u001b[0m ),Path('/home/rchuzh/Documents/aruco/test/IMG_20210315_181130.jpg')]\n\u001b[0;32m----> 3\u001b[0;31m \u001b[0mfiletype1\u001b[0m\u001b[0;34m,\u001b[0m\u001b[0mfiletype2\u001b[0m\u001b[0;34m=\u001b[0m\u001b[0mlist\u001b[0m\u001b[0;34m(\u001b[0m\u001b[0mmap\u001b[0m\u001b[0;34m(\u001b[0m\u001b[0mget_filetype\u001b[0m\u001b[0;34m,\u001b[0m\u001b[0mfile_tuple\u001b[0m\u001b[0;34m)\u001b[0m\u001b[0;34m)\u001b[0m\u001b[0;34m\u001b[0m\u001b[0;34m\u001b[0m\u001b[0m\n\u001b[0m",
      "\u001b[0;31mNameError\u001b[0m: name 'get_filetype' is not defined"
     ]
    }
   ],
   "metadata": {}
  },
  {
   "cell_type": "code",
   "execution_count": 26,
   "source": [
    "filetype1,filetype2"
   ],
   "outputs": [
    {
     "output_type": "execute_result",
     "data": {
      "text/plain": [
       "('image', 'image')"
      ]
     },
     "metadata": {},
     "execution_count": 26
    }
   ],
   "metadata": {}
  },
  {
   "cell_type": "code",
   "execution_count": 8,
   "source": [
    "# compare 2 values\n",
    "def compare_filetypes(file_tuple:tuple):\n",
    "    filetype1,filetype2=list(map(get_filetype,file_tuple))\n",
    "    \n",
    "    print(file_tuple)\n",
    "    if filetype1==filetype2:\n",
    "        return True\n",
    "    else:\n",
    "        \n",
    "        return False"
   ],
   "outputs": [],
   "metadata": {}
  },
  {
   "cell_type": "code",
   "execution_count": 9,
   "source": [
    "uploaded_files=[1,2,3,4,4]\n",
    "\n",
    "\n",
    "filetypes=map(compare_filetypes,zip(uploaded_files[:],uploaded_files[1:]))\n",
    "for filetype in filetypes:\n",
    "    if filetype:\n",
    "        log_info(\"Filetype passed\")\n",
    "        pass\n",
    "    else:\n",
    "        log_error(\"Filetype different\")\n",
    "        break"
   ],
   "outputs": [
    {
     "output_type": "stream",
     "name": "stderr",
     "text": [
      "2021-08-04 09:20:29.278 ERROR   root: Filetype different\n"
     ]
    },
    {
     "output_type": "stream",
     "name": "stdout",
     "text": [
      "(1, 2)\n"
     ]
    }
   ],
   "metadata": {}
  },
  {
   "cell_type": "code",
   "execution_count": 18,
   "source": [
    "# fileuploader consist of more tha one file upload\n",
    "# if one file then no execution of callback\n",
    "def check_filetype_category(uploaded_files:Union[str,Path,UploadedFile]):\n",
    "    if uploaded_files:\n",
    "        if len(uploaded_files)==1:\n",
    "            filetype=get_filetype(uploaded_files)\n",
    "\n",
    "        else:\n",
    "            filetypes=map(compare_filetypes,zip(uploaded_files[:],uploaded_files[1:]))\n",
    "            for filetype in filetypes:\n",
    "                if filetype:\n",
    "                    log_info(\"Filetype passed\")\n",
    "                    pass\n",
    "                else:\n",
    "                    log_error(\"Filetype different\")\n",
    "                    break\n",
    "\n"
   ],
   "outputs": [
    {
     "output_type": "error",
     "ename": "SyntaxError",
     "evalue": "unexpected EOF while parsing (<ipython-input-18-d4711ecc504b>, line 4)",
     "traceback": [
      "\u001b[0;36m  File \u001b[0;32m\"<ipython-input-18-d4711ecc504b>\"\u001b[0;36m, line \u001b[0;32m4\u001b[0m\n\u001b[0;31m    \u001b[0m\n\u001b[0m    ^\u001b[0m\n\u001b[0;31mSyntaxError\u001b[0m\u001b[0;31m:\u001b[0m unexpected EOF while parsing\n"
     ]
    }
   ],
   "metadata": {}
  },
  {
   "cell_type": "code",
   "execution_count": 14,
   "source": [
    "numbers1=[1,2,3,4]\n",
    "numbers2=[5,6,7,8]\n",
    "number=Path('3')\n",
    "result=map(lambda x,y:x+y,numbers1,numbers2) #iterator\n",
    "result=list(result)\n",
    "result\n",
    "isinstance(number,Path)"
   ],
   "outputs": [
    {
     "output_type": "execute_result",
     "data": {
      "text/plain": [
       "True"
      ]
     },
     "metadata": {},
     "execution_count": 14
    }
   ],
   "metadata": {}
  },
  {
   "cell_type": "code",
   "execution_count": 16,
   "source": [
    "number=[3]\n",
    "len(number)"
   ],
   "outputs": [
    {
     "output_type": "execute_result",
     "data": {
      "text/plain": [
       "1"
      ]
     },
     "metadata": {},
     "execution_count": 16
    }
   ],
   "metadata": {}
  },
  {
   "cell_type": "markdown",
   "source": [
    "# 4/8/2021"
   ],
   "metadata": {}
  },
  {
   "cell_type": "code",
   "execution_count": 1,
   "source": [
    "def trace(f):\n",
    "    def wrap(*args,**kwargs):\n",
    "        print(f\"[TRACE] func: {f.__name__}, args: {args}, kwargs: {kwargs}\")\n",
    "        return f(*args,**kwargs)\n",
    "    return wrap"
   ],
   "outputs": [],
   "metadata": {}
  },
  {
   "cell_type": "code",
   "execution_count": 2,
   "source": [
    "@trace\n",
    "def add_two(x):\n",
    "    return x+2"
   ],
   "outputs": [],
   "metadata": {}
  },
  {
   "cell_type": "code",
   "execution_count": 3,
   "source": [
    "add_two(3)"
   ],
   "outputs": [
    {
     "output_type": "stream",
     "name": "stdout",
     "text": [
      "[TRACE] func: add_two, args: (3,), kwargs: {}\n"
     ]
    },
    {
     "output_type": "execute_result",
     "data": {
      "text/plain": [
       "5"
      ]
     },
     "metadata": {},
     "execution_count": 3
    }
   ],
   "metadata": {}
  },
  {
   "cell_type": "code",
   "execution_count": 10,
   "source": [
    "(trace(lambda x:x**2))(3)"
   ],
   "outputs": [
    {
     "output_type": "stream",
     "name": "stdout",
     "text": [
      "[TRACE] func: <lambda>, args: (3,), kwargs: {}\n"
     ]
    },
    {
     "output_type": "execute_result",
     "data": {
      "text/plain": [
       "9"
      ]
     },
     "metadata": {},
     "execution_count": 10
    }
   ],
   "metadata": {}
  },
  {
   "cell_type": "code",
   "execution_count": 5,
   "source": [
    "add_two=lambda x:x**2"
   ],
   "outputs": [],
   "metadata": {}
  },
  {
   "cell_type": "code",
   "execution_count": 9,
   "source": [
    "print(trace(add_two)(3))"
   ],
   "outputs": [
    {
     "output_type": "stream",
     "name": "stdout",
     "text": [
      "[TRACE] func: <lambda>, args: (3,), kwargs: {}\n",
      "9\n"
     ]
    }
   ],
   "metadata": {}
  },
  {
   "cell_type": "code",
   "execution_count": 35,
   "source": [
    "14%5"
   ],
   "outputs": [
    {
     "output_type": "execute_result",
     "data": {
      "text/plain": [
       "4"
      ]
     },
     "metadata": {},
     "execution_count": 35
    }
   ],
   "metadata": {}
  },
  {
   "cell_type": "code",
   "execution_count": 38,
   "source": [
    "import os\n",
    "stat=os.stat('/home/rchuzh/Documents/aruco/train/IMG_20210315_181136.jpg')"
   ],
   "outputs": [],
   "metadata": {}
  },
  {
   "cell_type": "code",
   "execution_count": 39,
   "source": [
    "stat"
   ],
   "outputs": [
    {
     "output_type": "execute_result",
     "data": {
      "text/plain": [
       "os.stat_result(st_mode=33204, st_ino=4862438, st_dev=66309, st_nlink=1, st_uid=1000, st_gid=1000, st_size=1038614, st_atime=1628184478, st_mtime=1616384801, st_ctime=1617272005)"
      ]
     },
     "metadata": {},
     "execution_count": 39
    }
   ],
   "metadata": {}
  },
  {
   "cell_type": "code",
   "execution_count": 13,
   "source": [
    "from time import ctime\n",
    "import time\n",
    "ctime(stat.st_mtime)    #local time\n",
    "time.strftime('%Y-%m-%d', time.localtime(stat.st_mtime))"
   ],
   "outputs": [
    {
     "output_type": "execute_result",
     "data": {
      "text/plain": [
       "'2021-03-22'"
      ]
     },
     "metadata": {},
     "execution_count": 13
    }
   ],
   "metadata": {}
  },
  {
   "cell_type": "code",
   "execution_count": 40,
   "source": [
    "from datetime import datetime\n",
    "mtime=datetime.fromtimestamp(stat.st_mtime).strftime('%Y-%m-%d')\n",
    "# '%Y-%m-%d %H:%M:%S'\n"
   ],
   "outputs": [],
   "metadata": {}
  },
  {
   "cell_type": "code",
   "execution_count": 41,
   "source": [
    "print(mtime)"
   ],
   "outputs": [
    {
     "output_type": "stream",
     "name": "stdout",
     "text": [
      "2021-03-22\n"
     ]
    }
   ],
   "metadata": {}
  },
  {
   "cell_type": "code",
   "execution_count": 45,
   "source": [
    "import os\n",
    "from glob import iglob,glob\n",
    "from datetime import datetime\n",
    "def get_data_name_list(name,dataset_path, data_name_list_full: Dict = {}):\n",
    "    \"\"\"Obtain list of data in the dataset \n",
    "        - Iterative glob through the dataset directory\n",
    "        - Obtain filename using pathlib.Path(<'filepath/*'>).name\n",
    "\n",
    "    Returns:\n",
    "        Dict[dict]: Dataset name as key to a List of data in the dataset directory\n",
    "    \"\"\"\n",
    "    # IF dataset info already exist -> get from Dict\n",
    "    if data_name_list_full.get(name) and (len(data_name_list_full.get(name))) == len([file for file in Path(dataset_path).iterdir() if file.is_file()]):\n",
    "\n",
    "        data_name_list = data_name_list_full.get(name)\n",
    "        log_info(\"Enter top\")\n",
    "        return data_name_list\n",
    "\n",
    "    else:\n",
    "        if dataset_path:\n",
    "            log_info(\"Enter bottom\")\n",
    "\n",
    "            dataset_path = dataset_path + \"/*\"\n",
    "            log_info(dataset_path)\n",
    "            \n",
    "# i need    \n",
    "# {'id':data_name,'filetype':self.filetype,'created_at':os.stat().st_mtime}\n",
    "            data_info = {}\n",
    "            data_info_tmp=[]\n",
    "            # Glob through dataset directory\n",
    "            for data_path in iglob(dataset_path):\n",
    "                \n",
    "                log_info(f\"Globbing {data_path}......\")\n",
    "                data_info['id'] = Path(data_path).name\n",
    "                data_info['filetype'] ='Image'\n",
    "\n",
    "                # Get File Modified Time\n",
    "                data_modified_time_epoch = os.stat(str(data_path)).st_mtime\n",
    "                data_modified_time = datetime.fromtimestamp(data_modified_time_epoch\n",
    "                                                            ).strftime('%Y-%m-%d')\n",
    "                data_info['created'] = data_modified_time\n",
    "                data_info_tmp.append(data_info)\n",
    "            data_name_list_full[name] = data_info_tmp\n",
    "\n",
    "        return data_name_list_full\n"
   ],
   "outputs": [],
   "metadata": {}
  },
  {
   "cell_type": "code",
   "execution_count": 44,
   "source": [
    "dataset_info=df.loc[1,:]\n",
    "dataset_info_dict=dataset_info.to_dict()\n",
    "dataset_info_dict"
   ],
   "outputs": [
    {
     "output_type": "execute_result",
     "data": {
      "text/plain": [
       "{'ID': 3,\n",
       " 'Name': 'My Third Dataset',\n",
       " 'Dataset Size': 4,\n",
       " 'Filetype': 'Image',\n",
       " 'Date/Time': Timestamp('2021-08-03 21:49:23'),\n",
       " 'Description': None,\n",
       " 'Dataset Path': '/home/rchuzh/.local/share/integrated-vision-inspection-system/app_media/dataset/My-Third-Dataset'}"
      ]
     },
     "metadata": {},
     "execution_count": 44
    }
   ],
   "metadata": {}
  },
  {
   "cell_type": "code",
   "execution_count": 48,
   "source": [
    "data_name_list=get_data_name_list(dataset_info_dict['Name'],dataset_info_dict['Dataset Path'])"
   ],
   "outputs": [
    {
     "output_type": "stream",
     "name": "stderr",
     "text": [
      "2021-08-06 13:00:43.871 INFO    root: Enter top\n"
     ]
    }
   ],
   "metadata": {}
  },
  {
   "cell_type": "code",
   "execution_count": 49,
   "source": [
    "data_name_list"
   ],
   "outputs": [
    {
     "output_type": "execute_result",
     "data": {
      "text/plain": [
       "[{'id': 'IMG_20210315_184236.jpg',\n",
       "  'filetype': 'Image',\n",
       "  'created': '2021-07-20'},\n",
       " {'id': 'IMG_20210315_184236.jpg',\n",
       "  'filetype': 'Image',\n",
       "  'created': '2021-07-20'},\n",
       " {'id': 'IMG_20210315_184236.jpg',\n",
       "  'filetype': 'Image',\n",
       "  'created': '2021-07-20'},\n",
       " {'id': 'IMG_20210315_184236.jpg',\n",
       "  'filetype': 'Image',\n",
       "  'created': '2021-07-20'}]"
      ]
     },
     "metadata": {},
     "execution_count": 49
    }
   ],
   "metadata": {}
  },
  {
   "cell_type": "code",
   "execution_count": 51,
   "source": [
    "file_list=[file for file in Path(dataset_info_dict['Dataset Path']).iterdir() if file.is_file()]"
   ],
   "outputs": [],
   "metadata": {}
  },
  {
   "cell_type": "code",
   "execution_count": 53,
   "source": [
    "len(file_list) == len(data_name_list)"
   ],
   "outputs": [
    {
     "output_type": "execute_result",
     "data": {
      "text/plain": [
       "True"
      ]
     },
     "metadata": {},
     "execution_count": 53
    }
   ],
   "metadata": {}
  },
  {
   "cell_type": "code",
   "execution_count": null,
   "source": [],
   "outputs": [],
   "metadata": {}
  }
 ],
 "metadata": {
  "orig_nbformat": 4,
  "language_info": {
   "name": "python",
   "version": "3.8.3",
   "mimetype": "text/x-python",
   "codemirror_mode": {
    "name": "ipython",
    "version": 3
   },
   "pygments_lexer": "ipython3",
   "nbconvert_exporter": "python",
   "file_extension": ".py"
  },
  "kernelspec": {
   "name": "python3",
   "display_name": "Python 3.8.3 64-bit ('project': conda)"
  },
  "interpreter": {
   "hash": "ba56c48e8eb9be168e0389a843d6b05eb98b350e2a11ebd3aad5a11a665ac5a1"
  }
 },
 "nbformat": 4,
 "nbformat_minor": 2
}