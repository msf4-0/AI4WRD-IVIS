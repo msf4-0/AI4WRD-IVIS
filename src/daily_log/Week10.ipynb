{
 "cells": [
  {
   "cell_type": "markdown",
   "source": [
    "# Init"
   ],
   "metadata": {}
  },
  {
   "cell_type": "code",
   "execution_count": 3,
   "source": [
    "from IPython.display import display\n",
    "from typing import List,Dict\n",
    "import os\n",
    "import sys\n",
    "import psycopg2\n",
    "from psycopg2.extras import NamedTupleCursor\n",
    "\n",
    "os.chdir('/home/rchuzh/programming/image_labelling_shrdc')\n",
    "from pathlib import Path\n",
    "Path.cwd()\n",
    "SRC = Path('/home/rchuzh/programming/image_labelling_shrdc/src')  # ROOT folder -> ./src\n",
    "LIB_PATH = SRC / \"lib\"\n",
    "\n",
    "if str(LIB_PATH) not in sys.path:\n",
    "    sys.path.insert(0, str(LIB_PATH))  # ./lib\n",
    "else:\n",
    "    pass"
   ],
   "outputs": [],
   "metadata": {}
  },
  {
   "cell_type": "code",
   "execution_count": 4,
   "source": [
    "from data_manager.database_manager import db_fetchone,db_no_fetch,db_fetchall\n",
    "from core.utils.log import log_info,log_error\n",
    "dsn = \"host=localhost port=5432 dbname=eye user=shrdc password=shrdc\"\n",
    "def init_connection(dsn=None, connection_factory=None, cursor_factory=None, **kwargs):\n",
    "    \"\"\" Connect to the PostgreSQL database server \"\"\"\n",
    "\n",
    "    try:\n",
    "        # read connection parameters\n",
    "        # params = config()\n",
    "\n",
    "        # connect to the PostgreSQL server\n",
    "        log_info('Connecting to the PostgreSQL database...')\n",
    "        if kwargs:\n",
    "            conn = psycopg2.connect(**kwargs)\n",
    "\n",
    "        else:\n",
    "            conn = psycopg2.connect(dsn, connection_factory, cursor_factory)\n",
    "\n",
    "        # create a cursor\n",
    "        with conn:\n",
    "            with conn.cursor(cursor_factory=NamedTupleCursor) as cur:\n",
    "\n",
    "                # execute a statement\n",
    "                cur.execute('SELECT version();')\n",
    "                conn.commit()\n",
    "\n",
    "                # display the PostgreSQL database server version\n",
    "                db_version = cur.fetchone().version\n",
    "                log_info(f\"PostgreSQL database version: {db_version}\")\n",
    "                log_info(f\"PostgreSQL connection status: {conn.info.status}\")\n",
    "                log_info(\n",
    "                    f\"You are connected to database '{conn.info.dbname}' as user '{conn.info.user}' on host '{conn.info.host}' at port '{conn.info.port}'.\")\n",
    "        return conn\n",
    "    except (Exception, psycopg2.DatabaseError) as error:\n",
    "        log_error(error)\n",
    "        conn = None\n"
   ],
   "outputs": [],
   "metadata": {}
  },
  {
   "cell_type": "code",
   "execution_count": 5,
   "source": [
    "conn=init_connection(dsn)"
   ],
   "outputs": [
    {
     "output_type": "stream",
     "name": "stderr",
     "text": [
      "2021-08-18 17:57:04.780 INFO    root: Connecting to the PostgreSQL database...\n",
      "2021-08-18 17:57:04.792 INFO    root: PostgreSQL database version: PostgreSQL 13.4 (Ubuntu 13.4-1.pgdg20.04+1) on x86_64-pc-linux-gnu, compiled by gcc (Ubuntu 9.3.0-17ubuntu1~20.04) 9.3.0, 64-bit\n",
      "2021-08-18 17:57:04.793 INFO    root: PostgreSQL connection status: 0\n",
      "2021-08-18 17:57:04.794 INFO    root: You are connected to database 'eye' as user 'shrdc' on host 'localhost' at port '5432'.\n"
     ]
    }
   ],
   "metadata": {}
  },
  {
   "cell_type": "code",
   "execution_count": 6,
   "source": [
    "from typing import Union,List,Dict,Optional\n",
    "import pandas as pd\n",
    "def create_dataframe(data: Union[List, Dict, pd.Series], column_names: List = None, sort: bool = False, sort_by: Optional[str] = None, asc:bool=True,date_time_format: bool = False) -> pd.DataFrame:\n",
    "    if data:\n",
    "\n",
    "        df = pd.DataFrame(data, columns=column_names)\n",
    "        df.index.name = ('No.')\n",
    "        if date_time_format:\n",
    "            df['Date/Time'] = pd.to_datetime(df['Date/Time'],\n",
    "                                             format='%Y-%m-%d %H:%M:%S')\n",
    "\n",
    "            # df.sort_values(by=['Date/Time'], inplace=True,\n",
    "            #                ascending=False, ignore_index=True)\n",
    "        if sort:\n",
    "\n",
    "            df.sort_values(by=[sort_by], inplace=True,\n",
    "                           ascending=asc, ignore_index=True)\n",
    "\n",
    "            # dfStyler = df.style.set_properties(**{'text-align': 'center'})\n",
    "            # dfStyler.set_table_styles(\n",
    "            #     [dict(selector='th', props=[('text-align', 'center')])])\n",
    "\n",
    "        return df"
   ],
   "outputs": [],
   "metadata": {}
  },
  {
   "cell_type": "markdown",
   "source": [
    "# 9/8/2021"
   ],
   "metadata": {}
  },
  {
   "cell_type": "code",
   "execution_count": 5,
   "source": [
    "query_sql=\"\"\"\n",
    " SELECT\n",
    "                                        p.id as \"ID\",\n",
    "                                        p.name as \"Name\",\n",
    "                                        description as \"Description\",\n",
    "                                        dt.name as \"Deployment Type\",\n",
    "                                        p.updated_at as \"Date/Time\"\n",
    "                                        \n",
    "                                    FROM\n",
    "                                        public.project p\n",
    "                                        LEFT JOIN deployment_type dt ON dt.id = p.deployment_id;\n",
    "                                    \"\"\""
   ],
   "outputs": [],
   "metadata": {}
  },
  {
   "cell_type": "code",
   "execution_count": 20,
   "source": [
    "query_sql=\"\"\"SELECT\n",
    "                                editor_config\n",
    "                            FROM\n",
    "                                public.editor\n",
    "                            WHERE\n",
    "                                project_id = 1;\"\"\""
   ],
   "outputs": [],
   "metadata": {}
  },
  {
   "cell_type": "code",
   "execution_count": 14,
   "source": [
    "query,column_names=db_fetchall(query_sql,conn,fetch_col_name=True,return_dict=True)\n",
    "\n"
   ],
   "outputs": [],
   "metadata": {}
  },
  {
   "cell_type": "code",
   "execution_count": null,
   "source": [
    "query"
   ],
   "outputs": [],
   "metadata": {}
  },
  {
   "cell_type": "code",
   "execution_count": null,
   "source": [
    "[dict(row) for row in query]"
   ],
   "outputs": [],
   "metadata": {}
  },
  {
   "cell_type": "code",
   "execution_count": null,
   "source": [
    "selection=[x.ID for x in query if x.Name==\"My Third Dataset\"][0]\n",
    "selection"
   ],
   "outputs": [
    {
     "output_type": "execute_result",
     "data": {
      "text/plain": [
       "3"
      ]
     },
     "metadata": {},
     "execution_count": 7
    }
   ],
   "metadata": {}
  },
  {
   "cell_type": "code",
   "execution_count": 14,
   "source": [
    "dataset_tmp = []\n",
    "if query:\n",
    "    for dataset in query:\n",
    "\n",
    "        converted_datetime = dataset.Date_Time.strftime(\n",
    "            '%Y-%m-%d %H:%M:%S')\n",
    "\n",
    "        # convert datetime with TZ to (2021-07-30 12:12:12) format\n",
    "        dataset = dataset._replace(\n",
    "            Date_Time=converted_datetime)\n",
    "        dataset_tmp.append(dataset)"
   ],
   "outputs": [],
   "metadata": {}
  },
  {
   "cell_type": "code",
   "execution_count": 15,
   "source": [
    "df=create_dataframe(dataset_tmp,column_names=column_names,sort=True,sort_by='ID',asc=True,date_time_format=True)"
   ],
   "outputs": [],
   "metadata": {}
  },
  {
   "cell_type": "code",
   "execution_count": 16,
   "source": [
    "df_loc=df.loc[:,\"ID\":\"Date/Time\"]\n",
    "df_loc\n",
    "df"
   ],
   "outputs": [
    {
     "output_type": "execute_result",
     "data": {
      "text/plain": [
       "    ID                  Name                           Description  \\\n",
       "0    2         First Project  This project is for object detection   \n",
       "1    3        Second Project           Second project entry test\\n   \n",
       "2    4      My Third Project                   Third project entry   \n",
       "3    5     My Fourth Project                  Fourth project entry   \n",
       "4    6      My Fifth Project                   Fifth project entry   \n",
       "5    7      My Sixth Project                   Sixth project entry   \n",
       "6    8                    My                                  None   \n",
       "7   12       My Sixth Projec                                  None   \n",
       "8   24    My Seventh Project          Some seventh project entry\\n   \n",
       "9   29      My Eight Project                   Eight Project Entry   \n",
       "10  31      My Ninth Project                   Ninth Project entry   \n",
       "11  33      My Tenth Project                   Ninth Project entry   \n",
       "12  34   My Eleventh Project                    11th project entry   \n",
       "13  35    My Twelfth Project                    12th project entry   \n",
       "14  36  My Thirteen Project                     13th project entry   \n",
       "15  37   My Fourteen Project                          14th Project   \n",
       "16  38    My Fifteen Project                    15th project entry   \n",
       "17  39    My Sixteen Project                    16th project entry   \n",
       "\n",
       "                         Deployment Type           Date/Time  \n",
       "0   Object Detection with Bounding Boxes 2021-07-21 10:01:09  \n",
       "1   Object Detection with Bounding Boxes 2021-07-22 23:19:30  \n",
       "2                   Image Classification 2021-07-22 23:53:46  \n",
       "3   Object Detection with Bounding Boxes 2021-07-23 00:06:10  \n",
       "4   Object Detection with Bounding Boxes 2021-07-23 00:28:35  \n",
       "5   Object Detection with Bounding Boxes 2021-07-23 00:39:59  \n",
       "6                   Image Classification 2021-08-12 13:32:00  \n",
       "7                                   None 2021-08-12 13:34:03  \n",
       "8                   Image Classification 2021-08-12 14:24:56  \n",
       "9   Object Detection with Bounding Boxes 2021-08-17 00:44:27  \n",
       "10  Object Detection with Bounding Boxes 2021-08-17 00:45:13  \n",
       "11  Object Detection with Bounding Boxes 2021-08-17 00:52:21  \n",
       "12  Object Detection with Bounding Boxes 2021-08-17 01:03:56  \n",
       "13  Object Detection with Bounding Boxes 2021-08-17 01:11:47  \n",
       "14  Object Detection with Bounding Boxes 2021-08-17 01:14:34  \n",
       "15  Object Detection with Bounding Boxes 2021-08-17 01:17:08  \n",
       "16  Object Detection with Bounding Boxes 2021-08-17 01:27:39  \n",
       "17  Object Detection with Bounding Boxes 2021-08-17 09:08:28  "
      ],
      "text/html": [
       "<div>\n",
       "<style scoped>\n",
       "    .dataframe tbody tr th:only-of-type {\n",
       "        vertical-align: middle;\n",
       "    }\n",
       "\n",
       "    .dataframe tbody tr th {\n",
       "        vertical-align: top;\n",
       "    }\n",
       "\n",
       "    .dataframe thead th {\n",
       "        text-align: right;\n",
       "    }\n",
       "</style>\n",
       "<table border=\"1\" class=\"dataframe\">\n",
       "  <thead>\n",
       "    <tr style=\"text-align: right;\">\n",
       "      <th></th>\n",
       "      <th>ID</th>\n",
       "      <th>Name</th>\n",
       "      <th>Description</th>\n",
       "      <th>Deployment Type</th>\n",
       "      <th>Date/Time</th>\n",
       "    </tr>\n",
       "  </thead>\n",
       "  <tbody>\n",
       "    <tr>\n",
       "      <th>0</th>\n",
       "      <td>2</td>\n",
       "      <td>First Project</td>\n",
       "      <td>This project is for object detection</td>\n",
       "      <td>Object Detection with Bounding Boxes</td>\n",
       "      <td>2021-07-21 10:01:09</td>\n",
       "    </tr>\n",
       "    <tr>\n",
       "      <th>1</th>\n",
       "      <td>3</td>\n",
       "      <td>Second Project</td>\n",
       "      <td>Second project entry test\\n</td>\n",
       "      <td>Object Detection with Bounding Boxes</td>\n",
       "      <td>2021-07-22 23:19:30</td>\n",
       "    </tr>\n",
       "    <tr>\n",
       "      <th>2</th>\n",
       "      <td>4</td>\n",
       "      <td>My Third Project</td>\n",
       "      <td>Third project entry</td>\n",
       "      <td>Image Classification</td>\n",
       "      <td>2021-07-22 23:53:46</td>\n",
       "    </tr>\n",
       "    <tr>\n",
       "      <th>3</th>\n",
       "      <td>5</td>\n",
       "      <td>My Fourth Project</td>\n",
       "      <td>Fourth project entry</td>\n",
       "      <td>Object Detection with Bounding Boxes</td>\n",
       "      <td>2021-07-23 00:06:10</td>\n",
       "    </tr>\n",
       "    <tr>\n",
       "      <th>4</th>\n",
       "      <td>6</td>\n",
       "      <td>My Fifth Project</td>\n",
       "      <td>Fifth project entry</td>\n",
       "      <td>Object Detection with Bounding Boxes</td>\n",
       "      <td>2021-07-23 00:28:35</td>\n",
       "    </tr>\n",
       "    <tr>\n",
       "      <th>5</th>\n",
       "      <td>7</td>\n",
       "      <td>My Sixth Project</td>\n",
       "      <td>Sixth project entry</td>\n",
       "      <td>Object Detection with Bounding Boxes</td>\n",
       "      <td>2021-07-23 00:39:59</td>\n",
       "    </tr>\n",
       "    <tr>\n",
       "      <th>6</th>\n",
       "      <td>8</td>\n",
       "      <td>My</td>\n",
       "      <td>None</td>\n",
       "      <td>Image Classification</td>\n",
       "      <td>2021-08-12 13:32:00</td>\n",
       "    </tr>\n",
       "    <tr>\n",
       "      <th>7</th>\n",
       "      <td>12</td>\n",
       "      <td>My Sixth Projec</td>\n",
       "      <td>None</td>\n",
       "      <td>None</td>\n",
       "      <td>2021-08-12 13:34:03</td>\n",
       "    </tr>\n",
       "    <tr>\n",
       "      <th>8</th>\n",
       "      <td>24</td>\n",
       "      <td>My Seventh Project</td>\n",
       "      <td>Some seventh project entry\\n</td>\n",
       "      <td>Image Classification</td>\n",
       "      <td>2021-08-12 14:24:56</td>\n",
       "    </tr>\n",
       "    <tr>\n",
       "      <th>9</th>\n",
       "      <td>29</td>\n",
       "      <td>My Eight Project</td>\n",
       "      <td>Eight Project Entry</td>\n",
       "      <td>Object Detection with Bounding Boxes</td>\n",
       "      <td>2021-08-17 00:44:27</td>\n",
       "    </tr>\n",
       "    <tr>\n",
       "      <th>10</th>\n",
       "      <td>31</td>\n",
       "      <td>My Ninth Project</td>\n",
       "      <td>Ninth Project entry</td>\n",
       "      <td>Object Detection with Bounding Boxes</td>\n",
       "      <td>2021-08-17 00:45:13</td>\n",
       "    </tr>\n",
       "    <tr>\n",
       "      <th>11</th>\n",
       "      <td>33</td>\n",
       "      <td>My Tenth Project</td>\n",
       "      <td>Ninth Project entry</td>\n",
       "      <td>Object Detection with Bounding Boxes</td>\n",
       "      <td>2021-08-17 00:52:21</td>\n",
       "    </tr>\n",
       "    <tr>\n",
       "      <th>12</th>\n",
       "      <td>34</td>\n",
       "      <td>My Eleventh Project</td>\n",
       "      <td>11th project entry</td>\n",
       "      <td>Object Detection with Bounding Boxes</td>\n",
       "      <td>2021-08-17 01:03:56</td>\n",
       "    </tr>\n",
       "    <tr>\n",
       "      <th>13</th>\n",
       "      <td>35</td>\n",
       "      <td>My Twelfth Project</td>\n",
       "      <td>12th project entry</td>\n",
       "      <td>Object Detection with Bounding Boxes</td>\n",
       "      <td>2021-08-17 01:11:47</td>\n",
       "    </tr>\n",
       "    <tr>\n",
       "      <th>14</th>\n",
       "      <td>36</td>\n",
       "      <td>My Thirteen Project</td>\n",
       "      <td>13th project entry</td>\n",
       "      <td>Object Detection with Bounding Boxes</td>\n",
       "      <td>2021-08-17 01:14:34</td>\n",
       "    </tr>\n",
       "    <tr>\n",
       "      <th>15</th>\n",
       "      <td>37</td>\n",
       "      <td>My Fourteen Project</td>\n",
       "      <td>14th Project</td>\n",
       "      <td>Object Detection with Bounding Boxes</td>\n",
       "      <td>2021-08-17 01:17:08</td>\n",
       "    </tr>\n",
       "    <tr>\n",
       "      <th>16</th>\n",
       "      <td>38</td>\n",
       "      <td>My Fifteen Project</td>\n",
       "      <td>15th project entry</td>\n",
       "      <td>Object Detection with Bounding Boxes</td>\n",
       "      <td>2021-08-17 01:27:39</td>\n",
       "    </tr>\n",
       "    <tr>\n",
       "      <th>17</th>\n",
       "      <td>39</td>\n",
       "      <td>My Sixteen Project</td>\n",
       "      <td>16th project entry</td>\n",
       "      <td>Object Detection with Bounding Boxes</td>\n",
       "      <td>2021-08-17 09:08:28</td>\n",
       "    </tr>\n",
       "  </tbody>\n",
       "</table>\n",
       "</div>"
      ]
     },
     "metadata": {},
     "execution_count": 16
    }
   ],
   "metadata": {}
  },
  {
   "cell_type": "code",
   "execution_count": null,
   "source": [
    "df_dict=df.to_dict(orient='index')"
   ],
   "outputs": [],
   "metadata": {}
  },
  {
   "cell_type": "code",
   "execution_count": null,
   "source": [
    "if df_dict.get(3):\n",
    "    print(\"yes\")\n",
    "else:\n",
    "    print(\"no\")"
   ],
   "outputs": [
    {
     "output_type": "stream",
     "name": "stdout",
     "text": [
      "no\n"
     ]
    }
   ],
   "metadata": {}
  },
  {
   "cell_type": "code",
   "execution_count": null,
   "source": [
    "name=(df_loc[df_loc[\"ID\"]==3].Name)[1]\n",
    "name"
   ],
   "outputs": [
    {
     "output_type": "execute_result",
     "data": {
      "text/plain": [
       "'My Third Dataset'"
      ]
     },
     "metadata": {},
     "execution_count": 56
    }
   ],
   "metadata": {}
  },
  {
   "cell_type": "code",
   "execution_count": null,
   "source": [
    "df_loc.loc[df_loc[\"ID\"]==3,'Name'].values[0]"
   ],
   "outputs": [
    {
     "output_type": "execute_result",
     "data": {
      "text/plain": [
       "'My Third Dataset'"
      ]
     },
     "metadata": {},
     "execution_count": 12
    }
   ],
   "metadata": {}
  },
  {
   "cell_type": "code",
   "execution_count": null,
   "source": [
    "some_dict={'one':[{'name':'hello','info':'sadfa'},{'name':'test','info':'jvhjfgh'}]}"
   ],
   "outputs": [],
   "metadata": {}
  },
  {
   "cell_type": "code",
   "execution_count": null,
   "source": [
    "multi_dict={}\n",
    "for outerkey,innerDict in some_dict.items():\n",
    "    for innerkey,value in some_dict.items():\n",
    "        multi_dict[(outerkey,innerkey)]=value"
   ],
   "outputs": [],
   "metadata": {}
  },
  {
   "cell_type": "code",
   "execution_count": null,
   "source": [
    "pd.DataFrame.from_dict(multi_dict)"
   ],
   "outputs": [
    {
     "output_type": "execute_result",
     "data": {
      "text/plain": [
       "                                   one\n",
       "                                   one\n",
       "0   {'name': 'hello', 'info': 'sadfa'}\n",
       "1  {'name': 'test', 'info': 'jvhjfgh'}"
      ],
      "text/html": [
       "<div>\n",
       "<style scoped>\n",
       "    .dataframe tbody tr th:only-of-type {\n",
       "        vertical-align: middle;\n",
       "    }\n",
       "\n",
       "    .dataframe tbody tr th {\n",
       "        vertical-align: top;\n",
       "    }\n",
       "\n",
       "    .dataframe thead tr th {\n",
       "        text-align: left;\n",
       "    }\n",
       "</style>\n",
       "<table border=\"1\" class=\"dataframe\">\n",
       "  <thead>\n",
       "    <tr>\n",
       "      <th></th>\n",
       "      <th>one</th>\n",
       "    </tr>\n",
       "    <tr>\n",
       "      <th></th>\n",
       "      <th>one</th>\n",
       "    </tr>\n",
       "  </thead>\n",
       "  <tbody>\n",
       "    <tr>\n",
       "      <th>0</th>\n",
       "      <td>{'name': 'hello', 'info': 'sadfa'}</td>\n",
       "    </tr>\n",
       "    <tr>\n",
       "      <th>1</th>\n",
       "      <td>{'name': 'test', 'info': 'jvhjfgh'}</td>\n",
       "    </tr>\n",
       "  </tbody>\n",
       "</table>\n",
       "</div>"
      ]
     },
     "metadata": {},
     "execution_count": 86
    }
   ],
   "metadata": {}
  },
  {
   "cell_type": "code",
   "execution_count": null,
   "source": [
    "test=[1,2,3,4,5]\n",
    "for z in zip(test[:],test[1:]):\n",
    "    # if x==y:\n",
    "    #     pass\n",
    "    # else:\n",
    "    #     print(\"Not equal\")\n",
    "    for i in z:\n",
    "        print(i)"
   ],
   "outputs": [],
   "metadata": {}
  },
  {
   "cell_type": "code",
   "execution_count": null,
   "source": [
    "# MIME: type/subtype\n",
    "#get filetype \n",
    "import mimetypes\n",
    "from pathlib import Path\n",
    "from streamlit.uploaded_file_manager import UploadedFile\n",
    "filepath=Path('/home/rchuzh/Documents/aruco/train/IMG_20210315_181136.jpg'\n",
    ")\n",
    "def get_filetype(file:Union[str,Path,UploadedFile]):\n",
    "    if isinstance(file,(str,Path)):\n",
    "        mime_type=mimetypes.guess_type(file)[0]\n",
    "        filetype=str(Path(mime_type).parent)\n",
    "    elif isinstance(file,UploadedFile):\n",
    "        mime_type=file.type\n",
    "        \n",
    "    filetype=str(Path(mime_type).parent)\n",
    "    return filetype"
   ],
   "outputs": [],
   "metadata": {}
  },
  {
   "cell_type": "code",
   "execution_count": null,
   "source": [
    "file_tuple=[Path('/home/rchuzh/Documents/aruco/train/IMG_20210315_181136.jpg'\n",
    "),Path('/home/rchuzh/Documents/aruco/test/IMG_20210315_181130.jpg')]\n",
    "filetype1,filetype2=list(map(get_filetype,file_tuple))"
   ],
   "outputs": [
    {
     "output_type": "error",
     "ename": "NameError",
     "evalue": "name 'get_filetype' is not defined",
     "traceback": [
      "\u001b[0;31m---------------------------------------------------------------------------\u001b[0m",
      "\u001b[0;31mNameError\u001b[0m                                 Traceback (most recent call last)",
      "\u001b[0;32m<ipython-input-11-38cb42c2dfd2>\u001b[0m in \u001b[0;36m<module>\u001b[0;34m\u001b[0m\n\u001b[1;32m      1\u001b[0m file_tuple=[Path('/home/rchuzh/Documents/aruco/train/IMG_20210315_181136.jpg'\n\u001b[1;32m      2\u001b[0m ),Path('/home/rchuzh/Documents/aruco/test/IMG_20210315_181130.jpg')]\n\u001b[0;32m----> 3\u001b[0;31m \u001b[0mfiletype1\u001b[0m\u001b[0;34m,\u001b[0m\u001b[0mfiletype2\u001b[0m\u001b[0;34m=\u001b[0m\u001b[0mlist\u001b[0m\u001b[0;34m(\u001b[0m\u001b[0mmap\u001b[0m\u001b[0;34m(\u001b[0m\u001b[0mget_filetype\u001b[0m\u001b[0;34m,\u001b[0m\u001b[0mfile_tuple\u001b[0m\u001b[0;34m)\u001b[0m\u001b[0;34m)\u001b[0m\u001b[0;34m\u001b[0m\u001b[0;34m\u001b[0m\u001b[0m\n\u001b[0m",
      "\u001b[0;31mNameError\u001b[0m: name 'get_filetype' is not defined"
     ]
    }
   ],
   "metadata": {}
  },
  {
   "cell_type": "code",
   "execution_count": null,
   "source": [
    "filetype1,filetype2"
   ],
   "outputs": [
    {
     "output_type": "execute_result",
     "data": {
      "text/plain": [
       "('image', 'image')"
      ]
     },
     "metadata": {},
     "execution_count": 26
    }
   ],
   "metadata": {}
  },
  {
   "cell_type": "code",
   "execution_count": null,
   "source": [
    "# compare 2 values\n",
    "def compare_filetypes(file_tuple:tuple):\n",
    "    filetype1,filetype2=list(map(get_filetype,file_tuple))\n",
    "    \n",
    "    print(file_tuple)\n",
    "    if filetype1==filetype2:\n",
    "        return True\n",
    "    else:\n",
    "        \n",
    "        return False"
   ],
   "outputs": [],
   "metadata": {}
  },
  {
   "cell_type": "code",
   "execution_count": null,
   "source": [
    "uploaded_files=[1,2,3,4,4]\n",
    "\n",
    "\n",
    "filetypes=map(compare_filetypes,zip(uploaded_files[:],uploaded_files[1:]))\n",
    "for filetype in filetypes:\n",
    "    if filetype:\n",
    "        log_info(\"Filetype passed\")\n",
    "        pass\n",
    "    else:\n",
    "        log_error(\"Filetype different\")\n",
    "        break"
   ],
   "outputs": [
    {
     "output_type": "stream",
     "name": "stderr",
     "text": [
      "2021-08-04 09:20:29.278 ERROR   root: Filetype different\n"
     ]
    },
    {
     "output_type": "stream",
     "name": "stdout",
     "text": [
      "(1, 2)\n"
     ]
    }
   ],
   "metadata": {}
  },
  {
   "cell_type": "code",
   "execution_count": null,
   "source": [
    "# fileuploader consist of more tha one file upload\n",
    "# if one file then no execution of callback\n",
    "def check_filetype_category(uploaded_files:Union[str,Path,UploadedFile]):\n",
    "    if uploaded_files:\n",
    "        if len(uploaded_files)==1:\n",
    "            filetype=get_filetype(uploaded_files)\n",
    "\n",
    "        else:\n",
    "            filetypes=map(compare_filetypes,zip(uploaded_files[:],uploaded_files[1:]))\n",
    "            for filetype in filetypes:\n",
    "                if filetype:\n",
    "                    log_info(\"Filetype passed\")\n",
    "                    pass\n",
    "                else:\n",
    "                    log_error(\"Filetype different\")\n",
    "                    break\n",
    "\n"
   ],
   "outputs": [
    {
     "output_type": "error",
     "ename": "SyntaxError",
     "evalue": "unexpected EOF while parsing (<ipython-input-18-d4711ecc504b>, line 4)",
     "traceback": [
      "\u001b[0;36m  File \u001b[0;32m\"<ipython-input-18-d4711ecc504b>\"\u001b[0;36m, line \u001b[0;32m4\u001b[0m\n\u001b[0;31m    \u001b[0m\n\u001b[0m    ^\u001b[0m\n\u001b[0;31mSyntaxError\u001b[0m\u001b[0;31m:\u001b[0m unexpected EOF while parsing\n"
     ]
    }
   ],
   "metadata": {}
  },
  {
   "cell_type": "code",
   "execution_count": null,
   "source": [
    "numbers1=[1,2,3,4]\n",
    "numbers2=[5,6,7,8]\n",
    "number=Path('3')\n",
    "result=map(lambda x,y:x+y,numbers1,numbers2) #iterator\n",
    "result=list(result)\n",
    "result\n",
    "isinstance(number,Path)"
   ],
   "outputs": [
    {
     "output_type": "execute_result",
     "data": {
      "text/plain": [
       "True"
      ]
     },
     "metadata": {},
     "execution_count": 14
    }
   ],
   "metadata": {}
  },
  {
   "cell_type": "code",
   "execution_count": null,
   "source": [
    "number=[3]\n",
    "len(number)"
   ],
   "outputs": [
    {
     "output_type": "execute_result",
     "data": {
      "text/plain": [
       "1"
      ]
     },
     "metadata": {},
     "execution_count": 16
    }
   ],
   "metadata": {}
  },
  {
   "cell_type": "code",
   "execution_count": 7,
   "source": [
    "import shutil\n",
    "from pathlib import Path\n",
    "from core.utils.file_handler import delete_file_directory"
   ],
   "outputs": [],
   "metadata": {}
  },
  {
   "cell_type": "code",
   "execution_count": 8,
   "source": [
    "test_file='readme.txt'\n",
    "directory='/home/rchuzh/Documents'\n",
    "filepath=Path(directory)/test_file\n",
    "filepath"
   ],
   "outputs": [
    {
     "output_type": "execute_result",
     "data": {
      "text/plain": [
       "PosixPath('/home/rchuzh/Documents/readme.txt')"
      ]
     },
     "metadata": {},
     "execution_count": 8
    }
   ],
   "metadata": {}
  },
  {
   "cell_type": "code",
   "execution_count": 9,
   "source": [
    "delete_file_directory(filepath)"
   ],
   "outputs": [
    {
     "output_type": "stream",
     "name": "stderr",
     "text": [
      "2021-08-09 10:58:35.358 INFO    root: /home/rchuzh/Documents/readme.txt\n",
      "2021-08-09 10:58:35.362 ERROR   root: Invalid path given......\n"
     ]
    }
   ],
   "metadata": {}
  },
  {
   "cell_type": "code",
   "execution_count": 12,
   "source": [
    "random_folder='some_random_folder'\n",
    "folder_path=Path(directory)/random_folder\n",
    "folder_path"
   ],
   "outputs": [
    {
     "output_type": "execute_result",
     "data": {
      "text/plain": [
       "PosixPath('/home/rchuzh/Documents/some_random_folder')"
      ]
     },
     "metadata": {},
     "execution_count": 12
    }
   ],
   "metadata": {}
  },
  {
   "cell_type": "code",
   "execution_count": 13,
   "source": [
    "delete_file_directory(folder_path)"
   ],
   "outputs": [
    {
     "output_type": "stream",
     "name": "stderr",
     "text": [
      "2021-08-09 10:59:01.548 INFO    root: /home/rchuzh/Documents/some_random_folder\n",
      "2021-08-09 10:59:01.554 INFO    root: Successfully deleted some_random_folder folder\n"
     ]
    }
   ],
   "metadata": {}
  },
  {
   "cell_type": "markdown",
   "source": [
    "## Check if file exist in dataset"
   ],
   "metadata": {}
  },
  {
   "cell_type": "code",
   "execution_count": 5,
   "source": [
    "dataset_path=Path(\"/home/rchuzh/.local/share/integrated-vision-inspection-system/app_media/dataset/My-Third-Dataset\")\n",
    "new_data_path=Path(\"/home/rchuzh/Documents/aruco/train/*.jpg\")"
   ],
   "outputs": [],
   "metadata": {}
  },
  {
   "cell_type": "code",
   "execution_count": 6,
   "source": [
    "from time import perf_counter\n",
    "from timeit import timeit\n",
    "perf_metrics=[]"
   ],
   "outputs": [],
   "metadata": {}
  },
  {
   "cell_type": "code",
   "execution_count": 27,
   "source": [
    "from glob import iglob\n",
    "new_data_list_name=[Path(x).name for x in iglob(str(new_data_path))]\n",
    "len(new_data_list_name)\n",
    "iglob_time=timeit(\"\"\"[Path(x).name for x in iglob(str(new_data_path))]\"\"\",setup=\"from glob import iglob;from pathlib import Path; new_data_path=Path('/home/rchuzh/Documents/aruco/train/*.jpg')\",number=10)\n",
    "iglob_time"
   ],
   "outputs": [
    {
     "output_type": "execute_result",
     "data": {
      "text/plain": [
       "0.039029192994348705"
      ]
     },
     "metadata": {},
     "execution_count": 27
    }
   ],
   "metadata": {}
  },
  {
   "cell_type": "code",
   "execution_count": null,
   "source": [
    "def check_if_exist(dataset_path):\n",
    "    exist=[]\n",
    "    for new_data in new_data_list_name:\n",
    "        _filepath=dataset_path/new_data\n",
    "        if _filepath.is_file():\n",
    "            exist.append(new_data)\n",
    "        else:\n",
    "            log_info(f\"{new_data} is NEW!!!!\")\n",
    "\n",
    "\n"
   ],
   "outputs": [],
   "metadata": {}
  },
  {
   "cell_type": "code",
   "execution_count": 33,
   "source": [
    "list(set([1,2,3,4,4,4,3,4]))\n"
   ],
   "outputs": [
    {
     "output_type": "execute_result",
     "data": {
      "text/plain": [
       "[1, 2, 3, 4]"
      ]
     },
     "metadata": {},
     "execution_count": 33
    }
   ],
   "metadata": {}
  },
  {
   "cell_type": "code",
   "execution_count": 35,
   "source": [
    "list(set([1,2,3,4,4,4,3,4]+[5,6,7,8,1,2,5,5,6,8,8]))"
   ],
   "outputs": [
    {
     "output_type": "execute_result",
     "data": {
      "text/plain": [
       "[1, 2, 3, 4, 5, 6, 7, 8]"
      ]
     },
     "metadata": {},
     "execution_count": 35
    }
   ],
   "metadata": {}
  },
  {
   "cell_type": "code",
   "execution_count": 36,
   "source": [
    "from tqdm import tqdm\n",
    "from time import sleep\n",
    "x=list(range(1000000))\n",
    "for i in tqdm(x,desc='test',unit='test',ascii =\"123456789$\"):\n",
    "    sleep(0)\n",
    "    pass"
   ],
   "outputs": [
    {
     "output_type": "stream",
     "name": "stderr",
     "text": [
      "test: 100%|$$$$$$$$$$| 1000000/1000000 [00:02<00:00, 355570.33test/s]\n"
     ]
    }
   ],
   "metadata": {}
  },
  {
   "cell_type": "code",
   "execution_count": 2,
   "source": [
    "x,y=(None,None)"
   ],
   "outputs": [],
   "metadata": {}
  },
  {
   "cell_type": "code",
   "execution_count": 23,
   "source": [
    "from enum import IntEnum,Enum\n",
    "class DataPermission(IntEnum):\n",
    "    ViewOnly = 0\n",
    "    Append = 1\n",
    "\n",
    "    def __str__(self):\n",
    "        return self.name\n",
    "\n",
    "    @classmethod\n",
    "    def from_string(cls, s):\n",
    "        try:\n",
    "            return DataPermission[s]\n",
    "        except KeyError:\n",
    "            raise ValueError()\n"
   ],
   "outputs": [],
   "metadata": {}
  },
  {
   "cell_type": "code",
   "execution_count": 24,
   "source": [
    "DataPermission.from_string('ViewOnly')"
   ],
   "outputs": [
    {
     "output_type": "execute_result",
     "data": {
      "text/plain": [
       "<DataPermission.ViewOnly: 0>"
      ]
     },
     "metadata": {},
     "execution_count": 24
    }
   ],
   "metadata": {}
  },
  {
   "cell_type": "markdown",
   "source": [
    "# 11/8/2021"
   ],
   "metadata": {}
  },
  {
   "cell_type": "code",
   "execution_count": 7,
   "source": [
    "from appdirs import *"
   ],
   "outputs": [],
   "metadata": {}
  },
  {
   "cell_type": "code",
   "execution_count": 8,
   "source": [
    "appname=\"SuperApp\"\n",
    "appauthor=\"shrdc\"\n",
    "user_log_dir(appname,appauthor)"
   ],
   "outputs": [
    {
     "output_type": "execute_result",
     "data": {
      "text/plain": [
       "'/home/rchuzh/.cache/SuperApp/log'"
      ]
     },
     "metadata": {},
     "execution_count": 8
    }
   ],
   "metadata": {}
  },
  {
   "cell_type": "code",
   "execution_count": 15,
   "source": [
    "from core.utils.file_handler import get_config_dir,get_data_dir\n",
    "\n",
    "dataset_name='My Second Dataset'\n",
    "BASE_DATA_DIR = Path(get_data_dir())\n",
    "MEDIA_ROOT = BASE_DATA_DIR / 'app_media'\n",
    "DATASET_DIR = MEDIA_ROOT / 'dataset'\n",
    "PRE_TRAINED_MODEL_DIR = MEDIA_ROOT / 'pre-trained-models'\n",
    "PROJECT_DIR = MEDIA_ROOT / 'project'"
   ],
   "outputs": [],
   "metadata": {}
  },
  {
   "cell_type": "code",
   "execution_count": 12,
   "source": [
    "print(BASE_DATA_DIR,MEDIA_ROOT,DATASET_DIR,PRE_TRAINED_MODEL_DIR,PROJECT_DIR)"
   ],
   "outputs": [
    {
     "output_type": "stream",
     "name": "stdout",
     "text": [
      "/home/rchuzh/.local/share/integrated-vision-inspection-system /home/rchuzh/.local/share/integrated-vision-inspection-system/app_media /home/rchuzh/.local/share/integrated-vision-inspection-system/app_media/dataset /home/rchuzh/.local/share/integrated-vision-inspection-system/app_media/pre-trained-models /home/rchuzh/.local/share/integrated-vision-inspection-system/app_media/project\n"
     ]
    }
   ],
   "metadata": {}
  },
  {
   "cell_type": "code",
   "execution_count": 22,
   "source": [
    "dataset_path=\"/home/rchuzh/.local/share/integrated-vision-inspection-system/app_media/dataset/my-fifth-dataset\"\n",
    "dataset_path = Path(dataset_path) / \"./*\"\n",
    "dataset_path"
   ],
   "outputs": [
    {
     "output_type": "execute_result",
     "data": {
      "text/plain": [
       "PosixPath('/home/rchuzh/.local/share/integrated-vision-inspection-system/app_media/dataset/my-second-dataset/*')"
      ]
     },
     "metadata": {},
     "execution_count": 22
    }
   ],
   "metadata": {}
  },
  {
   "cell_type": "code",
   "execution_count": 23,
   "source": [
    "from glob import iglob\n",
    "for data_path in iglob(str(dataset_path)):\n",
    "    print(data_path)"
   ],
   "outputs": [],
   "metadata": {}
  },
  {
   "cell_type": "code",
   "execution_count": 17,
   "source": [
    "from PIL import Image\n",
    "image_path=\"/home/rchuzh/.local/share/integrated-vision-inspection-system/app_media/dataset/my-fifth-dataset/house.jpg\""
   ],
   "outputs": [],
   "metadata": {}
  },
  {
   "cell_type": "code",
   "execution_count": 18,
   "source": [
    "with Image.open(Path(image_path)) as img:\n",
    "    image=img"
   ],
   "outputs": [],
   "metadata": {}
  },
  {
   "cell_type": "code",
   "execution_count": 22,
   "source": [
    "Path(image.filename).name"
   ],
   "outputs": [
    {
     "output_type": "execute_result",
     "data": {
      "text/plain": [
       "'house.jpg'"
      ]
     },
     "metadata": {},
     "execution_count": 22
    }
   ],
   "metadata": {}
  },
  {
   "cell_type": "code",
   "execution_count": 34,
   "source": [
    "from videoprops import get_video_properties,get_audio_properties\n",
    "video_path=\"/home/rchuzh/Videos/obs/2021-08-11_13-59-06.mp4\"\n",
    "audio_path=\"/home/rchuzh/Music/bp.mp3\"\n",
    "\n",
    "Path(audio_path).is_file()\n"
   ],
   "outputs": [
    {
     "output_type": "execute_result",
     "data": {
      "text/plain": [
       "True"
      ]
     },
     "metadata": {},
     "execution_count": 34
    }
   ],
   "metadata": {}
  },
  {
   "cell_type": "code",
   "execution_count": 21,
   "source": [
    "props=get_video_properties(video_path)\n",
    "display(props)"
   ],
   "outputs": [
    {
     "output_type": "display_data",
     "data": {
      "text/plain": [
       "{'index': 0,\n",
       " 'codec_name': 'h264',\n",
       " 'codec_long_name': 'H.264 / AVC / MPEG-4 AVC / MPEG-4 part 10',\n",
       " 'profile': 'High',\n",
       " 'codec_type': 'video',\n",
       " 'codec_time_base': '1/120',\n",
       " 'codec_tag_string': 'avc1',\n",
       " 'codec_tag': '0x31637661',\n",
       " 'width': 1920,\n",
       " 'height': 1080,\n",
       " 'coded_width': 1920,\n",
       " 'coded_height': 1088,\n",
       " 'has_b_frames': 2,\n",
       " 'sample_aspect_ratio': '1:1',\n",
       " 'display_aspect_ratio': '16:9',\n",
       " 'pix_fmt': 'yuv420p',\n",
       " 'level': 42,\n",
       " 'color_range': 'tv',\n",
       " 'color_space': 'bt709',\n",
       " 'color_transfer': 'bt709',\n",
       " 'color_primaries': 'bt709',\n",
       " 'chroma_location': 'left',\n",
       " 'refs': 1,\n",
       " 'is_avc': 'true',\n",
       " 'nal_length_size': '4',\n",
       " 'r_frame_rate': '60/1',\n",
       " 'avg_frame_rate': '60/1',\n",
       " 'time_base': '1/15360',\n",
       " 'start_pts': 0,\n",
       " 'start_time': '0.000000',\n",
       " 'duration_ts': 22016,\n",
       " 'duration': '1.433333',\n",
       " 'bit_rate': '480591',\n",
       " 'bits_per_raw_sample': '8',\n",
       " 'nb_frames': '86',\n",
       " 'disposition': {'default': 1,\n",
       "  'dub': 0,\n",
       "  'original': 0,\n",
       "  'comment': 0,\n",
       "  'lyrics': 0,\n",
       "  'karaoke': 0,\n",
       "  'forced': 0,\n",
       "  'hearing_impaired': 0,\n",
       "  'visual_impaired': 0,\n",
       "  'clean_effects': 0,\n",
       "  'attached_pic': 0,\n",
       "  'timed_thumbnails': 0},\n",
       " 'tags': {'language': 'und', 'handler_name': 'VideoHandler'}}"
      ]
     },
     "metadata": {}
    }
   ],
   "metadata": {}
  },
  {
   "cell_type": "code",
   "execution_count": 27,
   "source": [
    "display_attributes=f\"\"\"\n",
    "                ### **DATA**\n",
    "            \n",
    "                ___\n",
    "                ### **MEDIA ATTRIBUTES**\n",
    "                - Codec:{props['codec_name']}\n",
    "                - Width: {props['width']}\n",
    "                - Height: {props['height']}\n",
    "                - Duration: {float(props['duration']):.2f}s\n",
    "                - Frame rate: {props['avg_frame_rate']}\n",
    "                - Frame count: {props['nb_frames']}\n",
    "                \n",
    "                \"\"\"\n",
    "display_attributes"
   ],
   "outputs": [
    {
     "output_type": "execute_result",
     "data": {
      "text/plain": [
       "'\\n                ### **DATA**\\n            \\n                ___\\n                ### **MEDIA ATTRIBUTES**\\n                - Codec:h264\\n                - Width: 1920\\n                - Height: 1080\\n                - Duration: 1.43s\\n                - Frame rate: 60/1\\n                - Frame count: 86\\n                \\n                '"
      ]
     },
     "metadata": {},
     "execution_count": 27
    }
   ],
   "metadata": {}
  },
  {
   "cell_type": "code",
   "execution_count": 36,
   "source": [
    "props=get_audio_properties(audio_path)\n",
    "props"
   ],
   "outputs": [
    {
     "output_type": "execute_result",
     "data": {
      "text/plain": [
       "{'index': 0,\n",
       " 'codec_name': 'mp3',\n",
       " 'codec_long_name': 'MP3 (MPEG audio layer 3)',\n",
       " 'codec_type': 'audio',\n",
       " 'codec_time_base': '1/44100',\n",
       " 'codec_tag_string': '[0][0][0][0]',\n",
       " 'codec_tag': '0x0000',\n",
       " 'sample_fmt': 'fltp',\n",
       " 'sample_rate': '44100',\n",
       " 'channels': 2,\n",
       " 'channel_layout': 'stereo',\n",
       " 'bits_per_sample': 0,\n",
       " 'r_frame_rate': '0/0',\n",
       " 'avg_frame_rate': '0/0',\n",
       " 'time_base': '1/14112000',\n",
       " 'start_pts': 0,\n",
       " 'start_time': '0.000000',\n",
       " 'duration_ts': 2553983057,\n",
       " 'duration': '180.979525',\n",
       " 'bit_rate': '320000',\n",
       " 'disposition': {'default': 0,\n",
       "  'dub': 0,\n",
       "  'original': 0,\n",
       "  'comment': 0,\n",
       "  'lyrics': 0,\n",
       "  'karaoke': 0,\n",
       "  'forced': 0,\n",
       "  'hearing_impaired': 0,\n",
       "  'visual_impaired': 0,\n",
       "  'clean_effects': 0,\n",
       "  'attached_pic': 0,\n",
       "  'timed_thumbnails': 0}}"
      ]
     },
     "metadata": {},
     "execution_count": 36
    }
   ],
   "metadata": {}
  },
  {
   "cell_type": "code",
   "execution_count": 43,
   "source": [
    "display_attributes=f\"\"\"\n",
    "                ### **DATA**\n",
    "              \n",
    "                ___\n",
    "                ### **MEDIA ATTRIBUTES**\n",
    "                - Codec:{props['codec_long_name']}\n",
    "                - Channel Layout: {props['channel_layout']}\n",
    "                - Channels: {props['channels']}\n",
    "                - Duration: {float(props['duration']):.2f}s\n",
    "                - Bit rate: {(float(props['bit_rate'])/1000)}kbps\n",
    "                - Sampling rate: {(float(props['sample_rate'])/1000):.2f}kHz\n",
    "            \n",
    "                \"\"\""
   ],
   "outputs": [],
   "metadata": {}
  },
  {
   "cell_type": "code",
   "execution_count": 38,
   "source": [
    "from pprint import PrettyPrinter\n",
    "pp=PrettyPrinter(indent=2)"
   ],
   "outputs": [],
   "metadata": {}
  },
  {
   "cell_type": "code",
   "execution_count": 42,
   "source": [
    "print(display_attributes)"
   ],
   "outputs": [
    {
     "output_type": "stream",
     "name": "stdout",
     "text": [
      "\n",
      "                ### **DATA**\n",
      "              \n",
      "                ___\n",
      "                ### **MEDIA ATTRIBUTES**\n",
      "                - Codec:MP3 (MPEG audio layer 3)\n",
      "                - Channel Layout: stereo\n",
      "                - Channels: 2\n",
      "                - Duration: 181s\n",
      "                - Bit rate: 320.0kbps\n",
      "                - Sampling rate: 44.10kHz\n",
      "            \n",
      "                \n"
     ]
    }
   ],
   "metadata": {}
  },
  {
   "cell_type": "code",
   "execution_count": 1,
   "source": [
    "# HEX to RGB\n",
    "\n",
    "h = input('Enter hex: ').lstrip('#')\n",
    "print('RGB =', tuple(int(h[i:i+2], 16) for i in (0, 2, 4)))"
   ],
   "outputs": [
    {
     "output_type": "stream",
     "name": "stdout",
     "text": [
      "RGB = (41, 98, 255)\n"
     ]
    }
   ],
   "metadata": {}
  },
  {
   "cell_type": "code",
   "execution_count": 1,
   "source": [
    "import colorsys\n",
    "colorsys.rgb_to_hsv(41,98,255)"
   ],
   "outputs": [
    {
     "output_type": "execute_result",
     "data": {
      "text/plain": [
       "(0.6222741433021807, 0.8392156862745098, 255)"
      ]
     },
     "metadata": {},
     "execution_count": 1
    }
   ],
   "metadata": {}
  },
  {
   "cell_type": "code",
   "execution_count": 2,
   "source": [
    "from typing import NamedTuple\n",
    "\n",
    "class RGB(NamedTuple):\n",
    "    R:int\n",
    "    G:int\n",
    "    B:int\n",
    "class HSV(NamedTuple):\n",
    "    H:int\n",
    "    S:int\n",
    "    V:int\n",
    "def hex_to_hsv(hex_code):\n",
    "    hex_value=hex_code.lstrip('#')\n",
    "    rgb=RGB._make(tuple(int(hex_value[i:i+2], 16) for i in (0, 2, 4)))\n",
    "    hsv=HSV._make((i for i in colorsys.rgb_to_hsv(rgb.R,rgb.G,rgb.B)))\n",
    "    return hsv\n"
   ],
   "outputs": [],
   "metadata": {}
  },
  {
   "cell_type": "code",
   "execution_count": 3,
   "source": [
    "hex_to_hsv('#80CBC4')"
   ],
   "outputs": [
    {
     "output_type": "execute_result",
     "data": {
      "text/plain": [
       "HSV(H=0.48444444444444446, S=0.3694581280788177, V=203)"
      ]
     },
     "metadata": {},
     "execution_count": 3
    }
   ],
   "metadata": {}
  },
  {
   "cell_type": "code",
   "execution_count": 4,
   "source": [
    "rgb=RGB._make([1,2,3])\n",
    "rgb"
   ],
   "outputs": [
    {
     "output_type": "execute_result",
     "data": {
      "text/plain": [
       "RGB(R=1, G=2, B=3)"
      ]
     },
     "metadata": {},
     "execution_count": 4
    }
   ],
   "metadata": {}
  },
  {
   "cell_type": "code",
   "execution_count": 6,
   "source": [
    "from colorutils import Color\n",
    "c=Color(hex='#80CBC4')"
   ],
   "outputs": [],
   "metadata": {}
  },
  {
   "cell_type": "code",
   "execution_count": 10,
   "source": [
    "c.hsv\n",
    "hsv=HSV._make(c.hsv)\n",
    "hsv"
   ],
   "outputs": [
    {
     "output_type": "execute_result",
     "data": {
      "text/plain": [
       "HSV(H=174.4, S=0.369, V=0.796)"
      ]
     },
     "metadata": {},
     "execution_count": 10
    }
   ],
   "metadata": {}
  },
  {
   "cell_type": "markdown",
   "source": [
    "# 12/8/2021"
   ],
   "metadata": {}
  },
  {
   "cell_type": "code",
   "execution_count": 9,
   "source": [
    "from psycopg2 import sql\n",
    "def check_if_exists(table: str, column_name: str, condition, conn):\n",
    "    # Separate schema and tablename from 'table'\n",
    "    schema, tablename = [i for i in table.split('.')]\n",
    "    check_if_exists_SQL = sql.SQL(\"\"\"\n",
    "                        SELECT\n",
    "                            EXISTS (\n",
    "                                SELECT\n",
    "                                    *\n",
    "                                FROM\n",
    "                                    {}\n",
    "                                WHERE\n",
    "                                    {} = %s);\n",
    "                            \"\"\").format(sql.Identifier(schema, tablename), sql.Identifier(column_name))\n",
    "    check_if_exists_vars = [condition]\n",
    "    exist_flag = db_fetchone(check_if_exists_SQL, conn, check_if_exists_vars).exists\n",
    "\n",
    "    return exist_flag"
   ],
   "outputs": [],
   "metadata": {}
  },
  {
   "cell_type": "code",
   "execution_count": 10,
   "source": [
    "table='public.project'\n",
    "column_name='name'\n",
    "condition='My Sixth Project'\n",
    "check_if_exists(table,column_name,condition,conn)"
   ],
   "outputs": [
    {
     "output_type": "execute_result",
     "data": {
      "text/plain": [
       "True"
      ]
     },
     "metadata": {},
     "execution_count": 10
    }
   ],
   "metadata": {}
  },
  {
   "cell_type": "code",
   "execution_count": 14,
   "source": [
    "def random(**kwargs):\n",
    "    for i in kwargs.items():\n",
    "        print(i)\n",
    "test={'a':1,'b':2}\n",
    "random(**test)"
   ],
   "outputs": [
    {
     "output_type": "stream",
     "name": "stdout",
     "text": [
      "('a', 1)\n",
      "('b', 2)\n"
     ]
    }
   ],
   "metadata": {}
  },
  {
   "cell_type": "code",
   "execution_count": 15,
   "source": [
    "x=[1,2,3,4]\n",
    "not x"
   ],
   "outputs": [
    {
     "output_type": "execute_result",
     "data": {
      "text/plain": [
       "False"
      ]
     },
     "metadata": {},
     "execution_count": 15
    }
   ],
   "metadata": {}
  },
  {
   "cell_type": "code",
   "execution_count": 16,
   "source": [
    "def uppercase_decorator(function):\n",
    "    def wrapper():\n",
    "        func=function()\n",
    "        make_uppercase =func.upper()\n",
    "        \n",
    "        return make_uppercase\n",
    "    return wrapper"
   ],
   "outputs": [],
   "metadata": {}
  },
  {
   "cell_type": "code",
   "execution_count": 17,
   "source": [
    "def say_hi():\n",
    "    return 'hello there'\n",
    "\n",
    "decorate=uppercase_decorator(say_hi)\n",
    "decorate()"
   ],
   "outputs": [
    {
     "output_type": "execute_result",
     "data": {
      "text/plain": [
       "'HELLO THERE'"
      ]
     },
     "metadata": {},
     "execution_count": 17
    }
   ],
   "metadata": {}
  },
  {
   "cell_type": "code",
   "execution_count": 18,
   "source": [
    "@uppercase_decorator\n",
    "def say_hi():\n",
    "    return 'hello there'"
   ],
   "outputs": [],
   "metadata": {}
  },
  {
   "cell_type": "code",
   "execution_count": 19,
   "source": [
    "say_hi()"
   ],
   "outputs": [
    {
     "output_type": "execute_result",
     "data": {
      "text/plain": [
       "'HELLO THERE'"
      ]
     },
     "metadata": {},
     "execution_count": 19
    }
   ],
   "metadata": {}
  },
  {
   "cell_type": "code",
   "execution_count": 20,
   "source": [
    "def split_string(function):\n",
    "    def wrapper():\n",
    "        func=function()\n",
    "        splitted_string=func.split()\n",
    "        return splitted_string\n",
    "\n",
    "    return wrapper"
   ],
   "outputs": [],
   "metadata": {}
  },
  {
   "cell_type": "code",
   "execution_count": 21,
   "source": [
    "@split_string\n",
    "@uppercase_decorator\n",
    "def say_hi():\n",
    "    return 'hello there'"
   ],
   "outputs": [],
   "metadata": {}
  },
  {
   "cell_type": "code",
   "execution_count": 23,
   "source": [
    "say_hi()"
   ],
   "outputs": [
    {
     "output_type": "execute_result",
     "data": {
      "text/plain": [
       "['HELLO', 'THERE']"
      ]
     },
     "metadata": {},
     "execution_count": 23
    }
   ],
   "metadata": {}
  },
  {
   "cell_type": "code",
   "execution_count": null,
   "source": [
    "from json import dumps\n",
    "random_dict=[{'bbox':[1,2,3,4],'seg':[4,5,6,7]}]\n",
    "random_json_array=[]\n",
    "for i in random_dict:\n",
    "    random_json_array.append(dumps(i))"
   ],
   "outputs": [],
   "metadata": {}
  },
  {
   "cell_type": "code",
   "execution_count": 7,
   "source": [
    "random_json_array"
   ],
   "outputs": [
    {
     "output_type": "execute_result",
     "data": {
      "text/plain": [
       "['\"bbox\"', '\"seg\"']"
      ]
     },
     "metadata": {},
     "execution_count": 7
    }
   ],
   "metadata": {}
  },
  {
   "cell_type": "code",
   "execution_count": 1,
   "source": [
    "from enum import IntEnum\n",
    "class ProjectPagination(IntEnum):\n",
    "    Dashboard = 0\n",
    "    New = 1\n",
    "    Existing = 2\n",
    "    NewDataset = 3"
   ],
   "outputs": [],
   "metadata": {}
  },
  {
   "cell_type": "code",
   "execution_count": 7,
   "source": [
    "ProjectPagination.Existing+1==ProjectPagination.NewDataset"
   ],
   "outputs": [
    {
     "output_type": "execute_result",
     "data": {
      "text/plain": [
       "True"
      ]
     },
     "metadata": {},
     "execution_count": 7
    }
   ],
   "metadata": {}
  },
  {
   "cell_type": "code",
   "execution_count": 12,
   "source": [
    "class DeploymentType(IntEnum):\n",
    "    Image_Classification = 1\n",
    "    OD = 2\n",
    "    Instance = 3\n",
    "    Semantic = 4\n",
    "\n",
    "    def __str__(self):\n",
    "        return self.name\n",
    "\n",
    "    @classmethod\n",
    "    def from_string(cls, s):\n",
    "        try:\n",
    "            return DeploymentType[s]\n",
    "        except KeyError:\n",
    "            raise ValueError()\n",
    "\n",
    "DEPLOYMENT_TYPE = {\n",
    "    \"Image Classification\": DeploymentType.Image_Classification,\n",
    "    \"Object Detection with Bounding Boxes\": DeploymentType.OD,\n",
    "    \"Semantic Segmentation with Polygons\": DeploymentType.Instance,\n",
    "    \"Semantic Segmentation with Masks\": DeploymentType.Semantic\n",
    "}"
   ],
   "outputs": [],
   "metadata": {}
  },
  {
   "cell_type": "code",
   "execution_count": 13,
   "source": [
    "DEPLOYMENT_TYPE[\"Object Detection with Bounding Boxes\"]"
   ],
   "outputs": [
    {
     "output_type": "execute_result",
     "data": {
      "text/plain": [
       "<DeploymentType.OD: 2>"
      ]
     },
     "metadata": {},
     "execution_count": 13
    }
   ],
   "metadata": {}
  },
  {
   "cell_type": "code",
   "execution_count": 27,
   "source": [
    "type(DEPLOYMENT_TYPE[\"Object Detection with Bounding Boxes\"])"
   ],
   "outputs": [
    {
     "output_type": "execute_result",
     "data": {
      "text/plain": [
       "<enum 'DeploymentType'>"
      ]
     },
     "metadata": {},
     "execution_count": 27
    }
   ],
   "metadata": {}
  },
  {
   "cell_type": "code",
   "execution_count": 28,
   "source": [
    "isinstance(DEPLOYMENT_TYPE[\"Object Detection with Bounding Boxes\"],IntEnum)"
   ],
   "outputs": [
    {
     "output_type": "execute_result",
     "data": {
      "text/plain": [
       "True"
      ]
     },
     "metadata": {},
     "execution_count": 28
    }
   ],
   "metadata": {}
  },
  {
   "cell_type": "code",
   "execution_count": 1,
   "source": [
    "[x for x in range(1)]"
   ],
   "outputs": [
    {
     "output_type": "execute_result",
     "data": {
      "text/plain": [
       "[0]"
      ]
     },
     "metadata": {},
     "execution_count": 1
    }
   ],
   "metadata": {}
  },
  {
   "cell_type": "code",
   "execution_count": 24,
   "source": [
    "some_string=\"\"\"sgfsdgsdfgsdfg   asdfasdfa asdfad    \n",
    "asfsfas\n",
    "asdfad\n",
    "\n",
    "\n",
    "asdfadsf\"\"\"\n",
    "print(some_string)\n",
    "no_line_breaks=[x.strip() for x in some_string.split(\"\\n\") if x.strip()]\n",
    "# for x in some_string.split(\"\\n\"):\n",
    "\n",
    "# [x.strip() for x in some_string.split(\"\\n\")]\n",
    "no_line_breaks=some_string.replace(\"\\n\",\" \")\n",
    "no_line_breaks\n",
    "# \" \".join([x.strip() for x in no_line_breaks])\n",
    "some_string.split()\n",
    "\" \".join([x for x in some_string.split()])"
   ],
   "outputs": [
    {
     "output_type": "stream",
     "name": "stdout",
     "text": [
      "sgfsdgsdfgsdfg   asdfasdfa asdfad    \n",
      "asfsfas\n",
      "asdfad\n",
      "\n",
      "\n",
      "asdfadsf\n"
     ]
    },
    {
     "output_type": "execute_result",
     "data": {
      "text/plain": [
       "'sgfsdgsdfgsdfg asdfasdfa asdfad asfsfas asdfad asdfadsf'"
      ]
     },
     "metadata": {},
     "execution_count": 24
    }
   ],
   "metadata": {}
  },
  {
   "cell_type": "code",
   "execution_count": 20,
   "source": [
    "def myFun(*args):\n",
    "    for arg in args:\n",
    "        print(arg)"
   ],
   "outputs": [],
   "metadata": {}
  },
  {
   "cell_type": "code",
   "execution_count": 23,
   "source": [
    "myFun('Hello',\"Bye\")"
   ],
   "outputs": [
    {
     "output_type": "stream",
     "name": "stdout",
     "text": [
      "Hello\n",
      "Bye\n"
     ]
    }
   ],
   "metadata": {}
  },
  {
   "cell_type": "code",
   "execution_count": 27,
   "source": [
    "x=('Hello',\"Bye\")\n",
    "myFun(*x)"
   ],
   "outputs": [
    {
     "output_type": "stream",
     "name": "stdout",
     "text": [
      "Hello\n",
      "Bye\n"
     ]
    }
   ],
   "metadata": {}
  },
  {
   "cell_type": "code",
   "execution_count": 12,
   "source": [
    "def callback(x=None,y=None,z=None):\n",
    "    # print(x,y,z)\n",
    "    print(\"Hi\")"
   ],
   "outputs": [],
   "metadata": {}
  },
  {
   "cell_type": "code",
   "execution_count": 16,
   "source": [
    "x=(1,2,3,)\n",
    "y={1:1,2:2,3:3}\n",
    "from inspect import signature\n",
    "def check_args_kwargs(wildcards:Union[List,Dict]):\n",
    "    \n",
    "    assert len(wildcards)==len(signature(callback).parameters),\"Length of wildcards does not meet length of arguments required by callback function\"\n",
    "\n",
    "from typing import Callable,Any\n",
    "def main_func(label:str,key:str=None,on_change:Callable[...,Any]=None,args:tuple=None,kwargs:dict=None):\n",
    "\n",
    "    \n",
    "    if on_change:\n",
    "        wildcard=args if args else kwargs\n",
    "        if args or kwargs:\n",
    "            check_args_kwargs(wildcards=wildcard)\n",
    "        if args:\n",
    "            on_change(*args)\n",
    "        elif kwargs:\n",
    "            on_change(*kwargs)\n",
    "        else:\n",
    "            on_change()\n"
   ],
   "outputs": [],
   "metadata": {}
  },
  {
   "cell_type": "code",
   "execution_count": 17,
   "source": [
    "main_func(label=\"test\",key=\"test\",on_change=callback)"
   ],
   "outputs": [
    {
     "output_type": "error",
     "ename": "TypeError",
     "evalue": "callback() argument after * must be an iterable, not NoneType",
     "traceback": [
      "\u001b[0;31m---------------------------------------------------------------------------\u001b[0m",
      "\u001b[0;31mTypeError\u001b[0m                                 Traceback (most recent call last)",
      "\u001b[0;32m/tmp/ipykernel_180492/3628891869.py\u001b[0m in \u001b[0;36m<module>\u001b[0;34m\u001b[0m\n\u001b[0;32m----> 1\u001b[0;31m \u001b[0mmain_func\u001b[0m\u001b[0;34m(\u001b[0m\u001b[0mlabel\u001b[0m\u001b[0;34m=\u001b[0m\u001b[0;34m\"test\"\u001b[0m\u001b[0;34m,\u001b[0m\u001b[0mkey\u001b[0m\u001b[0;34m=\u001b[0m\u001b[0;34m\"test\"\u001b[0m\u001b[0;34m,\u001b[0m\u001b[0mon_change\u001b[0m\u001b[0;34m=\u001b[0m\u001b[0mcallback\u001b[0m\u001b[0;34m)\u001b[0m\u001b[0;34m\u001b[0m\u001b[0;34m\u001b[0m\u001b[0m\n\u001b[0m",
      "\u001b[0;32m/tmp/ipykernel_180492/2703567467.py\u001b[0m in \u001b[0;36mmain_func\u001b[0;34m(label, key, on_change, args, kwargs)\u001b[0m\n\u001b[1;32m     19\u001b[0m             \u001b[0mon_change\u001b[0m\u001b[0;34m(\u001b[0m\u001b[0;34m*\u001b[0m\u001b[0mkwargs\u001b[0m\u001b[0;34m)\u001b[0m\u001b[0;34m\u001b[0m\u001b[0;34m\u001b[0m\u001b[0m\n\u001b[1;32m     20\u001b[0m         \u001b[0;32melse\u001b[0m\u001b[0;34m:\u001b[0m\u001b[0;34m\u001b[0m\u001b[0;34m\u001b[0m\u001b[0m\n\u001b[0;32m---> 21\u001b[0;31m             \u001b[0mon_change\u001b[0m\u001b[0;34m(\u001b[0m\u001b[0;34m*\u001b[0m\u001b[0margs\u001b[0m\u001b[0;34m)\u001b[0m\u001b[0;34m\u001b[0m\u001b[0;34m\u001b[0m\u001b[0m\n\u001b[0m",
      "\u001b[0;31mTypeError\u001b[0m: callback() argument after * must be an iterable, not NoneType"
     ]
    }
   ],
   "metadata": {}
  },
  {
   "cell_type": "code",
   "execution_count": 1,
   "source": [
    "s=None"
   ],
   "outputs": [],
   "metadata": {}
  },
  {
   "cell_type": "code",
   "execution_count": 2,
   "source": [
    "name=s if s is not None else 'f'"
   ],
   "outputs": [],
   "metadata": {}
  },
  {
   "cell_type": "code",
   "execution_count": 3,
   "source": [
    "name"
   ],
   "outputs": [],
   "metadata": {}
  },
  {
   "cell_type": "code",
   "execution_count": null,
   "source": [],
   "outputs": [],
   "metadata": {}
  }
 ],
 "metadata": {
  "orig_nbformat": 4,
  "language_info": {
   "name": "python",
   "version": "3.8.11",
   "mimetype": "text/x-python",
   "codemirror_mode": {
    "name": "ipython",
    "version": 3
   },
   "pygments_lexer": "ipython3",
   "nbconvert_exporter": "python",
   "file_extension": ".py"
  },
  "kernelspec": {
   "name": "python3",
   "display_name": "Python 3.8.11 64-bit ('shrdc': conda)"
  },
  "interpreter": {
   "hash": "6d56d72592a973fda048b7fef6ca03c3d9c8b604605ccc1fc6fa40707c8eea6b"
  }
 },
 "nbformat": 4,
 "nbformat_minor": 2
}