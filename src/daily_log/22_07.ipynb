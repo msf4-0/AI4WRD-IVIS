{
 "cells": [
  {
   "cell_type": "code",
   "execution_count": 15,
   "source": [
    "from IPython.display import display\n",
    "from typing import List,Dict\n",
    "import os\n",
    "import sys\n",
    "import psycopg2\n",
    "os.chdir('/home/rchuzh/programming/image_labelling_shrdc')\n",
    "from pathlib import Path\n",
    "Path.cwd()\n",
    "SRC = Path('/home/rchuzh/programming/image_labelling_shrdc/src')  # ROOT folder -> ./src\n",
    "LIB_PATH = SRC / \"lib\"\n",
    "\n",
    "if str(LIB_PATH) not in sys.path:\n",
    "    sys.path.insert(0, str(LIB_PATH))  # ./lib\n",
    "else:\n",
    "    pass"
   ],
   "outputs": [],
   "metadata": {}
  },
  {
   "cell_type": "code",
   "execution_count": 16,
   "source": [
    "from data_manager.database_manager import db_fetchone,db_no_fetch\n",
    "dsn = \"host=localhost port=5432 dbname=eye user=shrdc password=shrdc\"\n",
    "def init_connection(dsn=None, connection_factory=None, cursor_factory=None, **kwargs):\n",
    "    \"\"\" Connect to the PostgreSQL database server \"\"\"\n",
    "\n",
    "    try:\n",
    "        # read connection parameters\n",
    "        # params = config()\n",
    "\n",
    "        # connect to the PostgreSQL server\n",
    "        display('Connecting to the PostgreSQL database...')\n",
    "        if kwargs:\n",
    "            conn = psycopg2.connect(**kwargs)\n",
    "\n",
    "        else:\n",
    "            conn = psycopg2.connect(dsn, connection_factory, cursor_factory)\n",
    "\n",
    "        # create a cursor\n",
    "        with conn:\n",
    "            with conn.cursor() as cur:\n",
    "\n",
    "                # execute a statement\n",
    "                cur.execute('SELECT version();')\n",
    "                conn.commit()\n",
    "\n",
    "                # display the PostgreSQL database server version\n",
    "                db_version = cur.fetchall()[0]\n",
    "                display(f\"PostgreSQL database version: {db_version}\")\n",
    "                display(f\"PostgreSQL connection status: {conn.info.status}\")\n",
    "                display(\n",
    "                    f\"You are connected to database '{conn.info.dbname}' as user '{conn.info.user}' on host '{conn.info.host}' at port '{conn.info.port}'.\")\n",
    "        return conn\n",
    "    except (Exception, psycopg2.DatabaseError) as error:\n",
    "        display(error)\n",
    "        conn = None\n"
   ],
   "outputs": [],
   "metadata": {}
  },
  {
   "cell_type": "code",
   "execution_count": 17,
   "source": [
    "conn=init_connection(dsn)"
   ],
   "outputs": [
    {
     "output_type": "display_data",
     "data": {
      "text/plain": [
       "'Connecting to the PostgreSQL database...'"
      ]
     },
     "metadata": {}
    },
    {
     "output_type": "display_data",
     "data": {
      "text/plain": [
       "\"PostgreSQL database version: ('PostgreSQL 13.3 (Ubuntu 13.3-1.pgdg20.04+1) on x86_64-pc-linux-gnu, compiled by gcc (Ubuntu 9.3.0-17ubuntu1~20.04) 9.3.0, 64-bit',)\""
      ]
     },
     "metadata": {}
    },
    {
     "output_type": "display_data",
     "data": {
      "text/plain": [
       "'PostgreSQL connection status: 0'"
      ]
     },
     "metadata": {}
    },
    {
     "output_type": "display_data",
     "data": {
      "text/plain": [
       "\"You are connected to database 'eye' as user 'shrdc' on host 'localhost' at port '5432'.\""
      ]
     },
     "metadata": {}
    }
   ],
   "metadata": {}
  },
  {
   "cell_type": "code",
   "execution_count": 30,
   "source": [
    "def db_fetchone(sql_message, conn,vars: List=None):\n",
    "    with conn:\n",
    "        with conn.cursor() as cur:\n",
    "            try:\n",
    "                if vars:\n",
    "                    cur.execute(sql_message, vars)\n",
    "                else:\n",
    "                    cur.execute(sql_message)\n",
    "                conn.commit()\n",
    "                return_one = cur.fetchone()  # return tuple\n",
    "                return return_one\n",
    "            except psycopg2.Error as e:\n",
    "                display(e)"
   ],
   "outputs": [],
   "metadata": {}
  },
  {
   "cell_type": "code",
   "execution_count": 37,
   "source": [
    "def project_dataset(dataset_chosen,conn,project_id):\n",
    "    insert_project_dataset_SQL = \"\"\"\n",
    "                                        INSERT INTO public.project_dataset (\n",
    "                                            project_id,\n",
    "                                            dataset_id)\n",
    "                                        VALUES (\n",
    "                                            %s,\n",
    "                                            %s);\"\"\"\n",
    "    for dataset in dataset_chosen:\n",
    "        dataset_id = dataset_name_id[dataset]\n",
    "        insert_project_dataset_vars = [project_id, dataset_id]\n",
    "        db_fetchone(insert_project_dataset_SQL, conn,\n",
    "                        insert_project_dataset_vars)"
   ],
   "outputs": [],
   "metadata": {}
  },
  {
   "cell_type": "code",
   "execution_count": 32,
   "source": [
    "dataset_chosen=['My Second Dataset','My Third Dataset']\n",
    "dataset_name_id={'My Second Dataset':2,'My Third Dataset':3,'My Fourth Dataset':4}"
   ],
   "outputs": [],
   "metadata": {}
  },
  {
   "cell_type": "code",
   "execution_count": 33,
   "source": [
    "project_id=3\n",
    "for dataset in dataset_chosen:\n",
    "        dataset_id = dataset_name_id[dataset]\n",
    "        insert_project_dataset_vars = [project_id, dataset_id]\n",
    "        print(insert_project_dataset_vars)"
   ],
   "outputs": [
    {
     "output_type": "stream",
     "name": "stdout",
     "text": [
      "[3, 2]\n",
      "[3, 3]\n"
     ]
    }
   ],
   "metadata": {}
  },
  {
   "cell_type": "code",
   "execution_count": 38,
   "source": [
    "project_dataset(dataset_chosen,conn,project_id)"
   ],
   "outputs": [
    {
     "output_type": "display_data",
     "data": {
      "text/plain": [
       "psycopg2.ProgrammingError('no results to fetch')"
      ]
     },
     "metadata": {}
    },
    {
     "output_type": "display_data",
     "data": {
      "text/plain": [
       "psycopg2.ProgrammingError('no results to fetch')"
      ]
     },
     "metadata": {}
    }
   ],
   "metadata": {}
  },
  {
   "cell_type": "code",
   "execution_count": 42,
   "source": [
    "def init_editor(name,editor_config,project_id,conn) -> int:\n",
    "        init_editor_SQL = \"\"\"\n",
    "                                    INSERT INTO public.editor (\n",
    "                                        name,\n",
    "                                        editor_config,\n",
    "                                        project_id)\n",
    "                                    VALUES (\n",
    "                                        %s,\n",
    "                                        %s,\n",
    "                                        %s)\n",
    "                                    RETURNING\n",
    "                                        id;\"\"\"\n",
    "\n",
    "        init_editor_vars = [name, editor_config,project_id]\n",
    "        id = db_fetchone(init_editor_SQL,conn,init_editor_vars)\n",
    "        return id"
   ],
   "outputs": [],
   "metadata": {}
  },
  {
   "cell_type": "code",
   "execution_count": 45,
   "source": [
    "editor_config=\"\"\"\n",
    "<View>\n",
    "<Header value=\"Select label and start to click on image\"/>\n",
    "  <View style=\"display:flex;align-items:start;gap:8px;flex-direction:column-reverse\">\n",
    "    <Image name=\"img\" value=\"$image\" zoom=\"true\" zoomControl=\"true\" rotateControl=\"false\" grid=\"true\" brightnessControl=\"true\" contrastControl=\"true\"/>\n",
    "    <View>\n",
    "      <Filter toName=\"tag\" minlength=\"0\" name=\"filter\"/>\n",
    "      <RectangleLabels name=\"tag\" toName=\"img\" showInline=\"true\" fillOpacity=\"0.5\" strokeWidth=\"5\">\n",
    "        <Label value=\"Hello\" background=\"blue\"/>\n",
    "        <Label value=\"World\" background=\"pink\"/>\n",
    "      </RectangleLabels>\n",
    "    </View>\n",
    "    <View>\n",
    "      <Filter toName=\"tag\" minlength=\"0\" name=\"filter\"/>\n",
    "      <RectangleLabels name=\"tag\" toName=\"img\" showInline=\"true\" fillOpacity=\"0.5\" strokeWidth=\"5\">\n",
    "        <Label value=\"Hello\" background=\"blue\"/>\n",
    "        <Label value=\"World\" background=\"pink\"/>\n",
    "      </RectangleLabels>\n",
    "    </View>\n",
    "  </View>\n",
    "</View>\n",
    "\"\"\"\n",
    "project_id=5"
   ],
   "outputs": [],
   "metadata": {}
  },
  {
   "cell_type": "code",
   "execution_count": 46,
   "source": [
    "init_editor('sfsfg',editor_config,project_id,conn)[0]"
   ],
   "outputs": [
    {
     "output_type": "execute_result",
     "data": {
      "text/plain": [
       "(3,)"
      ]
     },
     "metadata": {},
     "execution_count": 46
    }
   ],
   "metadata": {}
  },
  {
   "cell_type": "markdown",
   "source": [
    "# Editor Config"
   ],
   "metadata": {}
  },
  {
   "cell_type": "code",
   "execution_count": 32,
   "source": [
    "from xml.dom import minidom\n",
    "import xml.dom"
   ],
   "outputs": [],
   "metadata": {}
  },
  {
   "cell_type": "code",
   "execution_count": 49,
   "source": [
    "data=\"\"\"\n",
    "<View>\n",
    "<Header value=\"Select label and start to click on image\"/>\n",
    "  <View style=\"display:flex;align-items:start;gap:8px;flex-direction:column-reverse\">\n",
    "    <Image name=\"img\" value=\"$image\" zoom=\"true\" zoomControl=\"true\" rotateControl=\"false\" grid=\"true\" brightnessControl=\"true\" contrastControl=\"true\"/>\n",
    "    <View>\n",
    "      <Filter toName=\"tag\" minlength=\"0\" name=\"filter\"/>\n",
    "      <RectangleLabels name=\"tag\" toName=\"img\" showInline=\"true\" fillOpacity=\"0.5\" strokeWidth=\"5\">\n",
    "        <Label value=\"Hello\" background=\"blue\"/>\n",
    "        <Label value=\"World\" background=\"pink\"/>\n",
    "      </RectangleLabels>\n",
    "    </View>\n",
    "    <View>\n",
    "      <Filter toName=\"tag\" minlength=\"0\" name=\"filter\"/>\n",
    "      <RectangleLabels name=\"tag\" toName=\"img\" showInline=\"true\" fillOpacity=\"0.5\" strokeWidth=\"5\">\n",
    "        <Label value=\"Hello\" background=\"blue\"/>\n",
    "        <Label value=\"World\" background=\"pink\"/>\n",
    "      </RectangleLabels>\n",
    "    </View>\n",
    "  </View>\n",
    "</View>\n",
    "\"\"\""
   ],
   "outputs": [],
   "metadata": {}
  },
  {
   "cell_type": "code",
   "execution_count": 50,
   "source": [
    "doc=minidom.parseString(data)\n",
    "doc"
   ],
   "outputs": [
    {
     "output_type": "execute_result",
     "data": {
      "text/plain": [
       "<xml.dom.minidom.Document at 0x7f81aa314340>"
      ]
     },
     "metadata": {},
     "execution_count": 50
    }
   ],
   "metadata": {}
  },
  {
   "cell_type": "code",
   "execution_count": 51,
   "source": [
    "doc.getElementsByTagName('RectangleLabels')[0].getElementsByTagName('Label')"
   ],
   "outputs": [
    {
     "output_type": "execute_result",
     "data": {
      "text/plain": [
       "[<DOM Element: RectangleLabels at 0x7f81aa4ebe50>,\n",
       " <DOM Element: RectangleLabels at 0x7f81aa484ca0>]"
      ]
     },
     "metadata": {},
     "execution_count": 51
    }
   ],
   "metadata": {}
  },
  {
   "cell_type": "code",
   "execution_count": 90,
   "source": [
    "parents=doc.getElementsByTagName('RectangleLabels')\n",
    "elements=[]\n",
    "for parent in parents:\n",
    "    childs=parent.getElementsByTagName('Label')\n",
    "    for child in childs:\n",
    "        print(child)\n",
    "        elements.append(child)\n",
    "\n",
    "elements\n",
    "tagName_attributes=[]\n",
    "for element in elements:\n",
    "    print(element.tagName,element.attributes.items())\n",
    "    tagName_attributes.append((element.tagName,element.attributes.items()))\n",
    "    if element.hasAttribute('value'):\n",
    "        print((element.getAttribute('value'))) #gives string of value\n",
    "tagName_attributes\n"
   ],
   "outputs": [
    {
     "output_type": "stream",
     "name": "stdout",
     "text": [
      "<DOM Element: Label at 0x7f81aa4ebee0>\n",
      "<DOM Element: Label at 0x7f81a9f7e280>\n",
      "<DOM Element: Label at 0x7f81aa484430>\n",
      "<DOM Element: Label at 0x7f81aa484550>\n",
      "Label [('value', 'Hello'), ('background', 'blue')]\n",
      "Hello\n",
      "Label [('value', 'World'), ('background', 'pink')]\n",
      "World\n",
      "Label [('value', 'Hello'), ('background', 'blue')]\n",
      "Hello\n",
      "Label [('value', 'World'), ('background', 'pink')]\n",
      "World\n"
     ]
    },
    {
     "output_type": "execute_result",
     "data": {
      "text/plain": [
       "[('Label', [('value', 'Hello'), ('background', 'blue')]),\n",
       " ('Label', [('value', 'World'), ('background', 'pink')]),\n",
       " ('Label', [('value', 'Hello'), ('background', 'blue')]),\n",
       " ('Label', [('value', 'World'), ('background', 'pink')])]"
      ]
     },
     "metadata": {},
     "execution_count": 90
    }
   ],
   "metadata": {}
  },
  {
   "cell_type": "code",
   "execution_count": 37,
   "source": [
    "doc.childNodes"
   ],
   "outputs": [
    {
     "output_type": "execute_result",
     "data": {
      "text/plain": [
       "[<DOM Element: View at 0x7f81aa2f98b0>]"
      ]
     },
     "metadata": {},
     "execution_count": 37
    }
   ],
   "metadata": {}
  },
  {
   "cell_type": "markdown",
   "source": [
    "## Create Node"
   ],
   "metadata": {}
  },
  {
   "cell_type": "code",
   "execution_count": 11,
   "source": [
    "def create_element(doc,parent,tagname,attr,value):\n",
    "    nodeList = doc.getElementsByTagName(parent)[0]\n",
    "    # in php removing node has to be done in reverse order or it changes the\n",
    "    #  nodeList. I assume same is true with python minidom\n",
    "    new_label=doc.createElement(tagname)\n",
    "    new_label.setAttribute(attr,value)\n",
    "    \n",
    "    nodeList.appendChild(new_label)"
   ],
   "outputs": [],
   "metadata": {}
  },
  {
   "cell_type": "code",
   "execution_count": 12,
   "source": [
    "create_element(doc,'RectangleLabels','Label','value','Hello')"
   ],
   "outputs": [],
   "metadata": {}
  },
  {
   "cell_type": "code",
   "execution_count": 13,
   "source": [
    "rectangle=doc.getElementsByTagName('RectangleLabels')[0]\n",
    "print(rectangle)\n",
    "new_label=doc.createElement('Label')\n",
    "new_label.setAttribute(\"value\",\"aruco\")\n",
    "new_label.setAttribute('background','red')\n",
    "rectangle.appendChild(new_label)"
   ],
   "outputs": [
    {
     "output_type": "stream",
     "name": "stdout",
     "text": [
      "<DOM Element: RectangleLabels at 0x7f81aadd1dc0>\n"
     ]
    },
    {
     "output_type": "execute_result",
     "data": {
      "text/plain": [
       "<DOM Element: Label at 0x7f81aa692b80>"
      ]
     },
     "metadata": {},
     "execution_count": 13
    }
   ],
   "metadata": {}
  },
  {
   "cell_type": "markdown",
   "source": [
    "## Remove Nodes"
   ],
   "metadata": {}
  },
  {
   "cell_type": "code",
   "execution_count": 15,
   "source": [
    "def removeNodes(doc,tagname,attr,value):\n",
    "    nodeList = doc.getElementsByTagName(tagname)\n",
    "    # in php removing node has to be done in reverse order or it changes the\n",
    "    #  nodeList. I assume same is true with python minidom\n",
    "    for node in reversed(nodeList):\n",
    "        if node.hasAttribute(attr) and node.getAttribute(attr) == value:\n",
    "            parent = node.parentNode\n",
    "            parent.removeChild(node)"
   ],
   "outputs": [],
   "metadata": {}
  },
  {
   "cell_type": "markdown",
   "source": [
    "## Edit Nodes"
   ],
   "metadata": {}
  },
  {
   "cell_type": "code",
   "execution_count": 16,
   "source": [
    "def set_attribute(doc,tagname,attr,value,new_value):\n",
    "    nodeList = doc.getElementsByTagName(tagname)\n",
    "    # in php removing node has to be done in reverse order or it changes the\n",
    "    #  nodeList. I assume same is true with python minidom\n",
    "    for node in reversed(nodeList):\n",
    "        if node.hasAttribute(attr) and node.getAttribute(attr) == value:\n",
    "            node.setAttribute(attr,new_value)"
   ],
   "outputs": [],
   "metadata": {}
  },
  {
   "cell_type": "code",
   "execution_count": 17,
   "source": [
    "set_attribute(doc,'Label','value','Hello','aruco')"
   ],
   "outputs": [],
   "metadata": {}
  },
  {
   "cell_type": "code",
   "execution_count": null,
   "source": [
    "value={'old':'Hello','new':'aruco'}\n",
    "attrib_value=[value]"
   ],
   "outputs": [],
   "metadata": {}
  },
  {
   "cell_type": "code",
   "execution_count": null,
   "source": [
    "def set_attribute(doc,tagname,attrib_value):\n",
    "    nodeList = doc.getElementsByTagName(tagname)\n",
    "    # in php removing node has to be done in reverse order or it changes the\n",
    "    #  nodeList. I assume same is true with python minidom\n",
    "    for node in reversed(nodeList):\n",
    "        if node.hasAttribute(attr) and node.getAttribute(attr) == value:\n",
    "            node.setAttribute(attr,new_value)"
   ],
   "outputs": [],
   "metadata": {}
  },
  {
   "cell_type": "code",
   "execution_count": 18,
   "source": [
    "removeNodes(doc,'Label','value','Hello')"
   ],
   "outputs": [],
   "metadata": {}
  },
  {
   "cell_type": "code",
   "execution_count": 139,
   "source": [
    "from copy import deepcopy\n",
    "a=[1,2,3,4]\n",
    "b=deepcopy(a)\n",
    "print(b)\n",
    "\n",
    "b\n"
   ],
   "outputs": [
    {
     "output_type": "stream",
     "name": "stdout",
     "text": [
      "[1, 2, 3, 4]\n"
     ]
    },
    {
     "output_type": "execute_result",
     "data": {
      "text/plain": [
       "[1, 2, 3, 4]"
      ]
     },
     "metadata": {},
     "execution_count": 139
    }
   ],
   "metadata": {}
  },
  {
   "cell_type": "markdown",
   "source": [
    "## Print DOM"
   ],
   "metadata": {}
  },
  {
   "cell_type": "code",
   "execution_count": 87,
   "source": [
    "def xml_string(xml_doc):\n",
    "    xml_string=xml_doc.toprettyxml(indent=\"\\t\",newl=\" \",encoding='utf8').decode('utf-8')\n",
    "    return xml_string"
   ],
   "outputs": [],
   "metadata": {}
  },
  {
   "cell_type": "code",
   "execution_count": 140,
   "source": [
    "print(xml_string(doc))"
   ],
   "outputs": [
    {
     "output_type": "stream",
     "name": "stdout",
     "text": [
      "<?xml version=\"1.0\" encoding=\"utf8\"?> <View> \t\n",
      " \t<Header value=\"Select label and start to click on image\"/> \t\n",
      "   \t<View style=\"display:flex;align-items:start;gap:8px;flex-direction:column-reverse\"> \t\t\n",
      "     \t\t<Image name=\"img\" value=\"$image\" zoom=\"true\" zoomControl=\"true\" rotateControl=\"false\" grid=\"true\" brightnessControl=\"true\" contrastControl=\"true\"/> \t\t\n",
      "     \t\t<View> \t\t\t\n",
      "       \t\t\t<Filter toName=\"tag\" minlength=\"0\" name=\"filter\"/> \t\t\t\n",
      "       \t\t\t<RectangleLabels name=\"tag\" toName=\"img\" showInline=\"true\" fillOpacity=\"0.5\" strokeWidth=\"5\"> \t\t\t\t\n",
      "         \t\t\t\t<Label value=\"Hello\" background=\"blue\"/> \t\t\t\t\n",
      "         \t\t\t\t<Label value=\"World\" background=\"pink\"/> \t\t\t\t\n",
      "       \t\t\t</RectangleLabels> \t\t\t\n",
      "     \t\t</View> \t\t\n",
      "     \t\t<View> \t\t\t\n",
      "       \t\t\t<Filter toName=\"tag\" minlength=\"0\" name=\"filter\"/> \t\t\t\n",
      "       \t\t\t<RectangleLabels name=\"tag\" toName=\"img\" showInline=\"true\" fillOpacity=\"0.5\" strokeWidth=\"5\"> \t\t\t\t\n",
      "         \t\t\t\t<Label value=\"Hello\" background=\"blue\"/> \t\t\t\t\n",
      "         \t\t\t\t<Label value=\"World\" background=\"pink\"/> \t\t\t\t\n",
      "       \t\t\t</RectangleLabels> \t\t\t\n",
      "     \t\t</View> \t\t\n",
      "   \t</View> \t\n",
      " </View> \n"
     ]
    }
   ],
   "metadata": {}
  },
  {
   "cell_type": "code",
   "execution_count": 109,
   "source": [
    "list1=[1,2,3,6,7,8,9,10]\n",
    "list2=[1,2,3,6,7,8,9]\n",
    "diff_12=set(list1).difference(list2) #set 1 - set 2\n",
    "diff_21=set(list2).difference(list1) #set 2 - set 1\n",
    "if diff_12:\n",
    "    print(\"Removal\")\n",
    "elif diff_21:\n",
    "    print(\"Addition\")\n",
    "else:\n",
    "    print(\"No Change\")"
   ],
   "outputs": [
    {
     "output_type": "stream",
     "name": "stdout",
     "text": [
      "Removal\n"
     ]
    }
   ],
   "metadata": {}
  },
  {
   "cell_type": "code",
   "execution_count": 104,
   "source": [
    "from core.utils.helper import is_empty\n",
    "x=[1]\n",
    "is_empty(x)"
   ],
   "outputs": [
    {
     "output_type": "execute_result",
     "data": {
      "text/plain": [
       "False"
      ]
     },
     "metadata": {},
     "execution_count": 104
    }
   ],
   "metadata": {}
  },
  {
   "cell_type": "code",
   "execution_count": 136,
   "source": [
    "listA=[1,2,3,6,7,8,9,10]\n",
    "listB=[1,2,3,6,7,8,9]\n",
    "listA.remove(10)\n",
    "# listA=listA+[10]\n",
    "print(listA)"
   ],
   "outputs": [
    {
     "output_type": "stream",
     "name": "stdout",
     "text": [
      "[1, 2, 3, 6, 7, 8, 9]\n"
     ]
    }
   ],
   "metadata": {}
  },
  {
   "cell_type": "code",
   "execution_count": 118,
   "source": [
    "list(diff_12).pop()"
   ],
   "outputs": [
    {
     "output_type": "execute_result",
     "data": {
      "text/plain": [
       "10"
      ]
     },
     "metadata": {},
     "execution_count": 118
    }
   ],
   "metadata": {}
  },
  {
   "cell_type": "code",
   "execution_count": 13,
   "source": [
    "d=['hi','Hi','bye','bye','love']\n",
    "setted=set(d)\n",
    "print(setted)\n",
    "sorted(list(setted))"
   ],
   "outputs": [
    {
     "output_type": "stream",
     "name": "stdout",
     "text": [
      "{'hi', 'bye', 'love', 'Hi'}\n"
     ]
    },
    {
     "output_type": "execute_result",
     "data": {
      "text/plain": [
       "['Hi', 'bye', 'hi', 'love']"
      ]
     },
     "metadata": {},
     "execution_count": 13
    }
   ],
   "metadata": {}
  },
  {
   "cell_type": "code",
   "execution_count": 14,
   "source": [
    "x='HELLO'\n",
    "print(x.lower())\n",
    "x"
   ],
   "outputs": [
    {
     "output_type": "stream",
     "name": "stdout",
     "text": [
      "hello\n"
     ]
    },
    {
     "output_type": "execute_result",
     "data": {
      "text/plain": [
       "'HELLO'"
      ]
     },
     "metadata": {},
     "execution_count": 14
    }
   ],
   "metadata": {}
  }
 ],
 "metadata": {
  "orig_nbformat": 4,
  "language_info": {
   "name": "python",
   "version": "3.8.3",
   "mimetype": "text/x-python",
   "codemirror_mode": {
    "name": "ipython",
    "version": 3
   },
   "pygments_lexer": "ipython3",
   "nbconvert_exporter": "python",
   "file_extension": ".py"
  },
  "kernelspec": {
   "name": "python3",
   "display_name": "Python 3.8.3 64-bit ('project': conda)"
  },
  "interpreter": {
   "hash": "ba56c48e8eb9be168e0389a843d6b05eb98b350e2a11ebd3aad5a11a665ac5a1"
  }
 },
 "nbformat": 4,
 "nbformat_minor": 2
}