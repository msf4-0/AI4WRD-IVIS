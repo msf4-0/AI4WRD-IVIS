{
 "cells": [
  {
   "cell_type": "code",
   "execution_count": 28,
   "source": [
    "from IPython.display import display\n",
    "from typing import List,Dict\n",
    "import os\n",
    "import sys\n",
    "import psycopg2\n",
    "os.chdir('/home/rchuzh/programming/image_labelling_shrdc')\n",
    "from pathlib import Path\n",
    "Path.cwd()\n",
    "SRC = Path('/home/rchuzh/programming/image_labelling_shrdc/src')  # ROOT folder -> ./src\n",
    "LIB_PATH = SRC / \"lib\"\n",
    "\n",
    "if str(LIB_PATH) not in sys.path:\n",
    "    sys.path.insert(0, str(LIB_PATH))  # ./lib\n",
    "else:\n",
    "    pass"
   ],
   "outputs": [],
   "metadata": {}
  },
  {
   "cell_type": "code",
   "execution_count": null,
   "source": [
    "from data_manager.database_manager import db_fetchone\n",
    "dsn = \"host=localhost port=5432 dbname=eye user=shrdc password=shrdc\"\n",
    "def init_connection(dsn=None, connection_factory=None, cursor_factory=None, **kwargs):\n",
    "    \"\"\" Connect to the PostgreSQL database server \"\"\"\n",
    "\n",
    "    try:\n",
    "        # read connection parameters\n",
    "        # params = config()\n",
    "\n",
    "        # connect to the PostgreSQL server\n",
    "        display('Connecting to the PostgreSQL database...')\n",
    "        if kwargs:\n",
    "            conn = psycopg2.connect(**kwargs)\n",
    "\n",
    "        else:\n",
    "            conn = psycopg2.connect(dsn, connection_factory, cursor_factory)\n",
    "\n",
    "        # create a cursor\n",
    "        with conn:\n",
    "            with conn.cursor() as cur:\n",
    "\n",
    "                # execute a statement\n",
    "                cur.execute('SELECT version();')\n",
    "                conn.commit()\n",
    "\n",
    "                # display the PostgreSQL database server version\n",
    "                db_version = cur.fetchall()[0]\n",
    "                display(f\"PostgreSQL database version: {db_version}\")\n",
    "                display(f\"PostgreSQL connection status: {conn.info.status}\")\n",
    "                display(\n",
    "                    f\"You are connected to database '{conn.info.dbname}' as user '{conn.info.user}' on host '{conn.info.host}' at port '{conn.info.port}'.\")\n",
    "        return conn\n",
    "    except (Exception, psycopg2.DatabaseError) as error:\n",
    "        display(error)\n",
    "        conn = None\n"
   ],
   "outputs": [],
   "metadata": {}
  },
  {
   "cell_type": "code",
   "execution_count": null,
   "source": [
    "conn=init_connection(dsn)"
   ],
   "outputs": [],
   "metadata": {}
  },
  {
   "cell_type": "markdown",
   "source": [
    "# Editor Config"
   ],
   "metadata": {}
  },
  {
   "cell_type": "code",
   "execution_count": 4,
   "source": [
    "from xml.dom import minidom\n",
    "import xml.dom"
   ],
   "outputs": [],
   "metadata": {}
  },
  {
   "cell_type": "code",
   "execution_count": 6,
   "source": [
    "data=\"\"\"\n",
    "<View>\n",
    "<Header value=\"Select label and start to click on image\"/>\n",
    "  <View style=\"display:flex;align-items:start;gap:8px;flex-direction:column-reverse\">\n",
    "    <Image name=\"img\" value=\"$image\" zoom=\"true\" zoomControl=\"true\" rotateControl=\"false\" grid=\"true\" brightnessControl=\"true\" contrastControl=\"true\"/>\n",
    "    <View>\n",
    "      <Filter toName=\"tag\" minlength=\"0\" name=\"filter\"/>\n",
    "      <RectangleLabels name=\"tag\" toName=\"img\" showInline=\"true\" fillOpacity=\"0.5\" strokeWidth=\"5\">\n",
    "        <Label value=\"Hello\" background=\"blue\"/>\n",
    "        <Label value=\"World\" background=\"pink\"/>\n",
    "      </RectangleLabels>\n",
    "    </View>\n",
    "  </View>\n",
    "</View>\n",
    "\"\"\""
   ],
   "outputs": [],
   "metadata": {}
  },
  {
   "cell_type": "code",
   "execution_count": 8,
   "source": [
    "doc=minidom.parseString(data)\n",
    "doc"
   ],
   "outputs": [
    {
     "output_type": "execute_result",
     "data": {
      "text/plain": [
       "<xml.dom.minidom.Document at 0x7f81aa6a2280>"
      ]
     },
     "metadata": {},
     "execution_count": 8
    }
   ],
   "metadata": {}
  },
  {
   "cell_type": "code",
   "execution_count": 9,
   "source": [
    "doc.getElementsByTagName('Label')[0].attributes.items()"
   ],
   "outputs": [
    {
     "output_type": "execute_result",
     "data": {
      "text/plain": [
       "[('value', 'Hello'), ('background', 'blue')]"
      ]
     },
     "metadata": {},
     "execution_count": 9
    }
   ],
   "metadata": {}
  },
  {
   "cell_type": "code",
   "execution_count": 10,
   "source": [
    "doc.childNodes"
   ],
   "outputs": [
    {
     "output_type": "execute_result",
     "data": {
      "text/plain": [
       "[<DOM Element: View at 0x7f81aa692310>]"
      ]
     },
     "metadata": {},
     "execution_count": 10
    }
   ],
   "metadata": {}
  },
  {
   "cell_type": "markdown",
   "source": [
    "## Create Node"
   ],
   "metadata": {}
  },
  {
   "cell_type": "code",
   "execution_count": 11,
   "source": [
    "def create_element(doc,parent,tagname,attr,value):\n",
    "    nodeList = doc.getElementsByTagName(parent)[0]\n",
    "    # in php removing node has to be done in reverse order or it changes the\n",
    "    #  nodeList. I assume same is true with python minidom\n",
    "    new_label=doc.createElement(tagname)\n",
    "    new_label.setAttribute(attr,value)\n",
    "    \n",
    "    nodeList.appendChild(new_label)"
   ],
   "outputs": [],
   "metadata": {}
  },
  {
   "cell_type": "code",
   "execution_count": 12,
   "source": [
    "create_element(doc,'RectangleLabels','Label','value','Hello')"
   ],
   "outputs": [],
   "metadata": {}
  },
  {
   "cell_type": "code",
   "execution_count": 13,
   "source": [
    "rectangle=doc.getElementsByTagName('RectangleLabels')[0]\n",
    "print(rectangle)\n",
    "new_label=doc.createElement('Label')\n",
    "new_label.setAttribute(\"value\",\"aruco\")\n",
    "new_label.setAttribute('background','red')\n",
    "rectangle.appendChild(new_label)"
   ],
   "outputs": [
    {
     "output_type": "stream",
     "name": "stdout",
     "text": [
      "<DOM Element: RectangleLabels at 0x7f81aadd1dc0>\n"
     ]
    },
    {
     "output_type": "execute_result",
     "data": {
      "text/plain": [
       "<DOM Element: Label at 0x7f81aa692b80>"
      ]
     },
     "metadata": {},
     "execution_count": 13
    }
   ],
   "metadata": {}
  },
  {
   "cell_type": "markdown",
   "source": [
    "## Remove Nodes"
   ],
   "metadata": {}
  },
  {
   "cell_type": "code",
   "execution_count": 15,
   "source": [
    "def removeNodes(doc,tagname,attr,value):\n",
    "    nodeList = doc.getElementsByTagName(tagname)\n",
    "    # in php removing node has to be done in reverse order or it changes the\n",
    "    #  nodeList. I assume same is true with python minidom\n",
    "    for node in reversed(nodeList):\n",
    "        if node.hasAttribute(attr) and node.getAttribute(attr) == value:\n",
    "            parent = node.parentNode\n",
    "            parent.removeChild(node)"
   ],
   "outputs": [],
   "metadata": {}
  },
  {
   "cell_type": "markdown",
   "source": [
    "## Edit Nodes"
   ],
   "metadata": {}
  },
  {
   "cell_type": "code",
   "execution_count": 16,
   "source": [
    "def set_attribute(doc,tagname,attr,value,new_value):\n",
    "    nodeList = doc.getElementsByTagName(tagname)\n",
    "    # in php removing node has to be done in reverse order or it changes the\n",
    "    #  nodeList. I assume same is true with python minidom\n",
    "    for node in reversed(nodeList):\n",
    "        if node.hasAttribute(attr) and node.getAttribute(attr) == value:\n",
    "            node.setAttribute(attr,new_value)"
   ],
   "outputs": [],
   "metadata": {}
  },
  {
   "cell_type": "code",
   "execution_count": 17,
   "source": [
    "set_attribute(doc,'Label','value','Hello','aruco')"
   ],
   "outputs": [],
   "metadata": {}
  },
  {
   "cell_type": "code",
   "execution_count": 18,
   "source": [
    "removeNodes(doc,'Label','value','Hello')"
   ],
   "outputs": [],
   "metadata": {}
  },
  {
   "cell_type": "markdown",
   "source": [
    "## Print DOM"
   ],
   "metadata": {}
  },
  {
   "cell_type": "code",
   "execution_count": 26,
   "source": [
    "def xml_string(xml_doc):\n",
    "    xml_string=xml_doc.toxml(encoding='utf8').decode('utf-8')\n",
    "    return xml_string"
   ],
   "outputs": [],
   "metadata": {}
  },
  {
   "cell_type": "code",
   "execution_count": 25,
   "source": [
    "print(xml_string(doc))"
   ],
   "outputs": [
    {
     "output_type": "display_data",
     "data": {
      "text/plain": [
       "'<?xml version=\"1.0\" encoding=\"utf8\"?>\\n<View>\\n\\t\\n\\n\\t<Header value=\"Select label and start to click on image\"/>\\n\\t\\n  \\n\\t<View style=\"display:flex;align-items:start;gap:8px;flex-direction:column-reverse\">\\n\\t\\t\\n    \\n\\t\\t<Image name=\"img\" value=\"$image\" zoom=\"true\" zoomControl=\"true\" rotateControl=\"false\" grid=\"true\" brightnessControl=\"true\" contrastControl=\"true\"/>\\n\\t\\t\\n    \\n\\t\\t<View>\\n\\t\\t\\t\\n      \\n\\t\\t\\t<Filter toName=\"tag\" minlength=\"0\" name=\"filter\"/>\\n\\t\\t\\t\\n      \\n\\t\\t\\t<RectangleLabels name=\"tag\" toName=\"img\" showInline=\"true\" fillOpacity=\"0.5\" strokeWidth=\"5\">\\n\\t\\t\\t\\t\\n        \\n\\t\\t\\t\\t<Label value=\"aruco\" background=\"blue\"/>\\n\\t\\t\\t\\t\\n        \\n\\t\\t\\t\\t<Label value=\"World\" background=\"pink\"/>\\n\\t\\t\\t\\t\\n      \\n\\t\\t\\t\\t<Label value=\"aruco\"/>\\n\\t\\t\\t\\t<Label value=\"aruco\" background=\"red\"/>\\n\\t\\t\\t</RectangleLabels>\\n\\t\\t\\t\\n    \\n\\t\\t</View>\\n\\t\\t\\n  \\n\\t</View>\\n\\t\\n\\n</View>\\n'"
      ]
     },
     "metadata": {}
    }
   ],
   "metadata": {}
  },
  {
   "cell_type": "code",
   "execution_count": null,
   "source": [],
   "outputs": [],
   "metadata": {}
  }
 ],
 "metadata": {
  "orig_nbformat": 4,
  "language_info": {
   "name": "python",
   "version": "3.8.3",
   "mimetype": "text/x-python",
   "codemirror_mode": {
    "name": "ipython",
    "version": 3
   },
   "pygments_lexer": "ipython3",
   "nbconvert_exporter": "python",
   "file_extension": ".py"
  },
  "kernelspec": {
   "name": "python3",
   "display_name": "Python 3.8.3 64-bit ('project': conda)"
  },
  "interpreter": {
   "hash": "ba56c48e8eb9be168e0389a843d6b05eb98b350e2a11ebd3aad5a11a665ac5a1"
  }
 },
 "nbformat": 4,
 "nbformat_minor": 2
}