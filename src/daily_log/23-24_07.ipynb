{
 "cells": [
  {
   "cell_type": "markdown",
   "source": [
    "# Init"
   ],
   "metadata": {}
  },
  {
   "cell_type": "code",
   "execution_count": 1,
   "source": [
    "from IPython.display import display\n",
    "from typing import List,Dict\n",
    "import os\n",
    "import sys\n",
    "import psycopg2\n",
    "from psycopg2.extras import NamedTupleCursor\n",
    "os.chdir('/home/rchuzh/programming/image_labelling_shrdc')\n",
    "from pathlib import Path\n",
    "Path.cwd()\n",
    "SRC = Path('/home/rchuzh/programming/image_labelling_shrdc/src')  # ROOT folder -> ./src\n",
    "LIB_PATH = SRC / \"lib\"\n",
    "\n",
    "if str(LIB_PATH) not in sys.path:\n",
    "    sys.path.insert(0, str(LIB_PATH))  # ./lib\n",
    "else:\n",
    "    pass"
   ],
   "outputs": [],
   "metadata": {}
  },
  {
   "cell_type": "code",
   "execution_count": 2,
   "source": [
    "from data_manager.database_manager import db_fetchone,db_no_fetch,db_fetchall\n",
    "from core.utils.log import log_info,log_error\n",
    "dsn = \"host=localhost port=5432 dbname=eye user=shrdc password=shrdc\"\n",
    "def init_connection(dsn=None, connection_factory=None, cursor_factory=None, **kwargs):\n",
    "    \"\"\" Connect to the PostgreSQL database server \"\"\"\n",
    "\n",
    "    try:\n",
    "        # read connection parameters\n",
    "        # params = config()\n",
    "\n",
    "        # connect to the PostgreSQL server\n",
    "        log_info('Connecting to the PostgreSQL database...')\n",
    "        if kwargs:\n",
    "            conn = psycopg2.connect(**kwargs)\n",
    "\n",
    "        else:\n",
    "            conn = psycopg2.connect(dsn, connection_factory, cursor_factory)\n",
    "\n",
    "        # create a cursor\n",
    "        with conn:\n",
    "            with conn.cursor(cursor_factory=NamedTupleCursor) as cur:\n",
    "\n",
    "                # execute a statement\n",
    "                cur.execute('SELECT version();')\n",
    "                conn.commit()\n",
    "\n",
    "                # display the PostgreSQL database server version\n",
    "                db_version = cur.fetchone().version\n",
    "                log_info(f\"PostgreSQL database version: {db_version}\")\n",
    "                log_info(f\"PostgreSQL connection status: {conn.info.status}\")\n",
    "                log_info(\n",
    "                    f\"You are connected to database '{conn.info.dbname}' as user '{conn.info.user}' on host '{conn.info.host}' at port '{conn.info.port}'.\")\n",
    "        return conn\n",
    "    except (Exception, psycopg2.DatabaseError) as error:\n",
    "        log_error(error)\n",
    "        conn = None\n"
   ],
   "outputs": [],
   "metadata": {}
  },
  {
   "cell_type": "code",
   "execution_count": 3,
   "source": [
    "conn=init_connection(dsn)"
   ],
   "outputs": [
    {
     "output_type": "stream",
     "name": "stderr",
     "text": [
      "2021-07-27 13:38:42.951 INFO    root: Connecting to the PostgreSQL database...\n",
      "2021-07-27 13:38:42.968 INFO    root: PostgreSQL database version: PostgreSQL 13.3 (Ubuntu 13.3-1.pgdg20.04+1) on x86_64-pc-linux-gnu, compiled by gcc (Ubuntu 9.3.0-17ubuntu1~20.04) 9.3.0, 64-bit\n",
      "2021-07-27 13:38:42.969 INFO    root: PostgreSQL connection status: 0\n",
      "2021-07-27 13:38:42.970 INFO    root: You are connected to database 'eye' as user 'shrdc' on host 'localhost' at port '5432'.\n"
     ]
    }
   ],
   "metadata": {}
  },
  {
   "cell_type": "markdown",
   "source": [
    "# 23/7/2021"
   ],
   "metadata": {}
  },
  {
   "cell_type": "code",
   "execution_count": 17,
   "source": [
    "from enum import Enum,IntEnum\n",
    "from typing import NamedTuple"
   ],
   "outputs": [],
   "metadata": {}
  },
  {
   "cell_type": "code",
   "execution_count": 18,
   "source": [
    "class Detection(NamedTuple):\n",
    "    name: str\n",
    "    prob: float"
   ],
   "outputs": [],
   "metadata": {}
  },
  {
   "cell_type": "code",
   "execution_count": 19,
   "source": [
    "detection=Detection('car',0.95)"
   ],
   "outputs": [],
   "metadata": {}
  },
  {
   "cell_type": "code",
   "execution_count": 35,
   "source": [
    "detection.name,detection.prob\n",
    "detection"
   ],
   "outputs": [
    {
     "output_type": "execute_result",
     "data": {
      "text/plain": [
       "Detection(name='car', prob=0.95)"
      ]
     },
     "metadata": {},
     "execution_count": 35
    }
   ],
   "metadata": {}
  },
  {
   "cell_type": "code",
   "execution_count": 37,
   "source": [
    "import numpy as np\n",
    "x=np.array([1,2,3])"
   ],
   "outputs": [],
   "metadata": {}
  },
  {
   "cell_type": "code",
   "execution_count": 39,
   "source": [
    "np.asarray(x)"
   ],
   "outputs": [
    {
     "output_type": "execute_result",
     "data": {
      "text/plain": [
       "array([1, 2, 3])"
      ]
     },
     "metadata": {},
     "execution_count": 39
    }
   ],
   "metadata": {}
  },
  {
   "cell_type": "markdown",
   "source": [
    "# 24/7/2021"
   ],
   "metadata": {}
  },
  {
   "cell_type": "code",
   "execution_count": 13,
   "source": [
    "query_project_SQL=\"\"\"\n",
    "                    SELECT\n",
    "                        p.id,\n",
    "                            p.name,\n",
    "                            description,\n",
    "                            deployment_id,\n",
    "                            project_path,\n",
    "                            dt.name as deployment_type\n",
    "                    FROM\n",
    "                        public.project p\n",
    "                        LEFT JOIN deployment_type dt ON dt.id = p.deployment_id\n",
    "                    WHERE\n",
    "                        p.id = 2;\"\"\""
   ],
   "outputs": [],
   "metadata": {}
  },
  {
   "cell_type": "code",
   "execution_count": 15,
   "source": [
    "db_fetchone(query_project_SQL,conn)"
   ],
   "outputs": [
    {
     "output_type": "execute_result",
     "data": {
      "text/plain": [
       "Record(id=2, name='First Project', description='This project is for object detection', deployment_id=2, project_path='/home/rchuzh/.local/share/integrated-vision-inspection-system/app_media/project', deployment_type='Object Detection with Bounding Boxes')"
      ]
     },
     "metadata": {},
     "execution_count": 15
    }
   ],
   "metadata": {}
  },
  {
   "cell_type": "markdown",
   "source": [
    "### Get column names for DB"
   ],
   "metadata": {}
  },
  {
   "cell_type": "code",
   "execution_count": 23,
   "source": [
    "\n",
    "data_rows=[]\n",
    "with conn:\n",
    "            with conn.cursor(cursor_factory=NamedTupleCursor) as cur:\n",
    "\n",
    "                # execute a statement\n",
    "                cur.execute(\"\"\"select pt.id as \"ID\", pt.name as \"Name\",f.name as \"Framework\",model_path as \"Model Path\", pt.updated_at as \"Date/Time\" from pre_trained_models pt left join framework f on framework_id = f.id;\"\"\")\n",
    "                column_names = [desc[0] for desc in cur.description]\n",
    "                for row in cur:\n",
    "                    data_rows.append(row)\n",
    "print(\"Column names: {}\\n\".format(column_names))\n"
   ],
   "outputs": [
    {
     "output_type": "stream",
     "name": "stdout",
     "text": [
      "Column names: ['ID', 'Name', 'Framework', 'Model Path', 'Date/Time']\n",
      "\n"
     ]
    }
   ],
   "metadata": {}
  },
  {
   "cell_type": "code",
   "execution_count": 14,
   "source": [
    "from psycopg2.extras import NamedTupleCursor\n",
    "with conn.cursor(cursor_factory=NamedTupleCursor) as cur:\n",
    "    cur.execute(\"\"\"\n",
    "                select pt.id as \"ID\", pt.name as \"Name\",f.name as \"Framework\",model_path as \"Model Path\", pt.updated_at as \"Date/Time\" from pre_trained_models pt left join framework f on framework_id = f.id;\n",
    "                    \"\"\")\n",
    "    return_all=cur.fetchall()"
   ],
   "outputs": [],
   "metadata": {}
  },
  {
   "cell_type": "code",
   "execution_count": 111,
   "source": [
    "SQL_msg=\"\"\"\n",
    "    select * from json_each_text('{\"a\":\"foo\", \"b\":\"bar\"}')\"\"\"\n",
    "\n",
    "                    \n",
    "return_all,column_names=db_fetchall(SQL_msg,conn=conn,fetch_col_name=True)"
   ],
   "outputs": [],
   "metadata": {}
  },
  {
   "cell_type": "code",
   "execution_count": 112,
   "source": [
    "for i in return_all:\n",
    "    display((i))"
   ],
   "outputs": [
    {
     "output_type": "display_data",
     "data": {
      "text/plain": [
       "Record(key='a', value='foo')"
      ]
     },
     "metadata": {}
    },
    {
     "output_type": "display_data",
     "data": {
      "text/plain": [
       "Record(key='b', value='bar')"
      ]
     },
     "metadata": {}
    }
   ],
   "metadata": {}
  },
  {
   "cell_type": "code",
   "execution_count": 22,
   "source": [
    "column_names=None"
   ],
   "outputs": [],
   "metadata": {}
  },
  {
   "cell_type": "code",
   "execution_count": 61,
   "source": [
    "import pandas as pd"
   ],
   "outputs": [],
   "metadata": {}
  },
  {
   "cell_type": "markdown",
   "source": [
    "####  Create Pandas Dataframe using PostgreSQL column names"
   ],
   "metadata": {}
  },
  {
   "cell_type": "code",
   "execution_count": 91,
   "source": [
    "df=pd.DataFrame(return_all,columns=column_names)\n",
    "display(df)"
   ],
   "outputs": [
    {
     "output_type": "display_data",
     "data": {
      "text/plain": [
       "   ID                                            Name   Framework  \\\n",
       "0   1           [TF] SSD MobileNet V2 FPNLite 320x320  TensorFlow   \n",
       "1   2  [TF] SSD ResNet50 V1 FPN 640x640 (RetinaNet50)  TensorFlow   \n",
       "\n",
       "                        Deployment Type  \\\n",
       "0  Object Detection with Bounding Boxes   \n",
       "1  Object Detection with Bounding Boxes   \n",
       "\n",
       "                                          Model Path  \n",
       "0  ./pre-trained-models/ssd_mobilenet_v2_fpnlite_...  \n",
       "1  ./pre-trained-models/ssd_resnet50_v1_fpn_640x6...  "
      ],
      "text/html": [
       "<div>\n",
       "<style scoped>\n",
       "    .dataframe tbody tr th:only-of-type {\n",
       "        vertical-align: middle;\n",
       "    }\n",
       "\n",
       "    .dataframe tbody tr th {\n",
       "        vertical-align: top;\n",
       "    }\n",
       "\n",
       "    .dataframe thead th {\n",
       "        text-align: right;\n",
       "    }\n",
       "</style>\n",
       "<table border=\"1\" class=\"dataframe\">\n",
       "  <thead>\n",
       "    <tr style=\"text-align: right;\">\n",
       "      <th></th>\n",
       "      <th>ID</th>\n",
       "      <th>Name</th>\n",
       "      <th>Framework</th>\n",
       "      <th>Deployment Type</th>\n",
       "      <th>Model Path</th>\n",
       "    </tr>\n",
       "  </thead>\n",
       "  <tbody>\n",
       "    <tr>\n",
       "      <th>0</th>\n",
       "      <td>1</td>\n",
       "      <td>[TF] SSD MobileNet V2 FPNLite 320x320</td>\n",
       "      <td>TensorFlow</td>\n",
       "      <td>Object Detection with Bounding Boxes</td>\n",
       "      <td>./pre-trained-models/ssd_mobilenet_v2_fpnlite_...</td>\n",
       "    </tr>\n",
       "    <tr>\n",
       "      <th>1</th>\n",
       "      <td>2</td>\n",
       "      <td>[TF] SSD ResNet50 V1 FPN 640x640 (RetinaNet50)</td>\n",
       "      <td>TensorFlow</td>\n",
       "      <td>Object Detection with Bounding Boxes</td>\n",
       "      <td>./pre-trained-models/ssd_resnet50_v1_fpn_640x6...</td>\n",
       "    </tr>\n",
       "  </tbody>\n",
       "</table>\n",
       "</div>"
      ]
     },
     "metadata": {}
    }
   ],
   "metadata": {}
  },
  {
   "cell_type": "code",
   "execution_count": 92,
   "source": [
    "from pathlib import Path\n",
    "x=Path.home()\n",
    "x"
   ],
   "outputs": [
    {
     "output_type": "execute_result",
     "data": {
      "text/plain": [
       "PosixPath('/home/rchuzh')"
      ]
     },
     "metadata": {},
     "execution_count": 92
    }
   ],
   "metadata": {}
  },
  {
   "cell_type": "code",
   "execution_count": 67,
   "source": [
    "y=x/'./programming'"
   ],
   "outputs": [],
   "metadata": {}
  },
  {
   "cell_type": "code",
   "execution_count": 68,
   "source": [
    "y"
   ],
   "outputs": [
    {
     "output_type": "execute_result",
     "data": {
      "text/plain": [
       "PosixPath('/programming')"
      ]
     },
     "metadata": {},
     "execution_count": 68
    }
   ],
   "metadata": {}
  },
  {
   "cell_type": "code",
   "execution_count": 94,
   "source": [
    "DATA_DIR = Path.home() / '.local/share/integrated-vision-inspection-system/app_media'\n",
    "DATA_DIR"
   ],
   "outputs": [
    {
     "output_type": "execute_result",
     "data": {
      "text/plain": [
       "PosixPath('/home/rchuzh/.local/share/integrated-vision-inspection-system/app_media')"
      ]
     },
     "metadata": {},
     "execution_count": 94
    }
   ],
   "metadata": {}
  },
  {
   "cell_type": "markdown",
   "source": [
    "# 25/7/2021"
   ],
   "metadata": {}
  },
  {
   "cell_type": "code",
   "execution_count": 63,
   "source": [
    "from core.utils.helper import create_dataframe"
   ],
   "outputs": [],
   "metadata": {}
  },
  {
   "cell_type": "code",
   "execution_count": 90,
   "source": [
    "df=create_dataframe(return_all,column_names=column_names)\n",
    "df2=df.loc[(df[\"Framework\"]==\"TensorFlow\"),\"ID\":\"Framework\"]\n",
    "display(df2.iloc[10:20])"
   ],
   "outputs": [
    {
     "output_type": "display_data",
     "data": {
      "text/plain": [
       "Empty DataFrame\n",
       "Columns: [ID, Name, Framework]\n",
       "Index: []"
      ],
      "text/html": [
       "<div>\n",
       "<style scoped>\n",
       "    .dataframe tbody tr th:only-of-type {\n",
       "        vertical-align: middle;\n",
       "    }\n",
       "\n",
       "    .dataframe tbody tr th {\n",
       "        vertical-align: top;\n",
       "    }\n",
       "\n",
       "    .dataframe thead th {\n",
       "        text-align: right;\n",
       "    }\n",
       "</style>\n",
       "<table border=\"1\" class=\"dataframe\">\n",
       "  <thead>\n",
       "    <tr style=\"text-align: right;\">\n",
       "      <th></th>\n",
       "      <th>ID</th>\n",
       "      <th>Name</th>\n",
       "      <th>Framework</th>\n",
       "    </tr>\n",
       "    <tr>\n",
       "      <th>No.</th>\n",
       "      <th></th>\n",
       "      <th></th>\n",
       "      <th></th>\n",
       "    </tr>\n",
       "  </thead>\n",
       "  <tbody>\n",
       "  </tbody>\n",
       "</table>\n",
       "</div>"
      ]
     },
     "metadata": {}
    }
   ],
   "metadata": {}
  },
  {
   "cell_type": "code",
   "execution_count": 57,
   "source": [
    "x=pd.Series([True],index=[\"Framework\"])\n",
    "x"
   ],
   "outputs": [
    {
     "output_type": "execute_result",
     "data": {
      "text/plain": [
       "Framework    True\n",
       "dtype: bool"
      ]
     },
     "metadata": {},
     "execution_count": 57
    }
   ],
   "metadata": {}
  },
  {
   "cell_type": "code",
   "execution_count": 97,
   "source": [
    "name_list=[PT.Name for PT in return_all]\n",
    "name_list"
   ],
   "outputs": [
    {
     "output_type": "execute_result",
     "data": {
      "text/plain": [
       "['My Second Dataset', 'My Fourth Dataset']"
      ]
     },
     "metadata": {},
     "execution_count": 97
    }
   ],
   "metadata": {}
  },
  {
   "cell_type": "code",
   "execution_count": 28,
   "source": [
    "x=[1,2,3,4]\n",
    "x.insert(0,\"Select\")\n",
    "x"
   ],
   "outputs": [
    {
     "output_type": "execute_result",
     "data": {
      "text/plain": [
       "['Select', 1, 2, 3, 4]"
      ]
     },
     "metadata": {},
     "execution_count": 28
    }
   ],
   "metadata": {}
  },
  {
   "cell_type": "code",
   "execution_count": 98,
   "source": [
    "for dataset in return_all:\n",
    "    print(list(dataset))"
   ],
   "outputs": [
    {
     "output_type": "stream",
     "name": "stdout",
     "text": [
      "[2, 'My Second Dataset', 4, datetime.datetime(2021, 7, 24, 14, 25, 45, 68588, tzinfo=psycopg2.tz.FixedOffsetTimezone(offset=480, name=None))]\n",
      "[4, 'My Fourth Dataset', 4, datetime.datetime(2021, 7, 24, 14, 25, 45, 68588, tzinfo=psycopg2.tz.FixedOffsetTimezone(offset=480, name=None))]\n"
     ]
    }
   ],
   "metadata": {}
  },
  {
   "cell_type": "code",
   "execution_count": 113,
   "source": [
    "import json"
   ],
   "outputs": [],
   "metadata": {}
  },
  {
   "cell_type": "code",
   "execution_count": 114,
   "source": [
    "json.dumps(None)"
   ],
   "outputs": [
    {
     "output_type": "execute_result",
     "data": {
      "text/plain": [
       "'null'"
      ]
     },
     "metadata": {},
     "execution_count": 114
    }
   ],
   "metadata": {}
  },
  {
   "cell_type": "code",
   "execution_count": 115,
   "source": [
    "from psycopg2.extras import Json"
   ],
   "outputs": [],
   "metadata": {}
  },
  {
   "cell_type": "code",
   "execution_count": 121,
   "source": [
    "print(Json({}))"
   ],
   "outputs": [
    {
     "output_type": "stream",
     "name": "stdout",
     "text": [
      "'{}'\n"
     ]
    }
   ],
   "metadata": {}
  },
  {
   "cell_type": "code",
   "execution_count": 4,
   "source": [
    "class random:\n",
    "    def __init__(self,name,age) -> None:\n",
    "        self.name=name\n",
    "        self.age=age\n",
    "    \n",
    "    @classmethod\n",
    "    def test(self,string):\n",
    "        print(string)"
   ],
   "outputs": [],
   "metadata": {}
  },
  {
   "cell_type": "code",
   "execution_count": 5,
   "source": [
    "test=random(\"Alex\",22)"
   ],
   "outputs": [],
   "metadata": {}
  },
  {
   "cell_type": "code",
   "execution_count": 9,
   "source": [
    "random.test(\"test\")"
   ],
   "outputs": [
    {
     "output_type": "stream",
     "name": "stdout",
     "text": [
      "test\n"
     ]
    }
   ],
   "metadata": {}
  },
  {
   "cell_type": "code",
   "execution_count": 130,
   "source": [
    "def transformer(random:random):\n",
    "    random.name=\"Mandy\"\n",
    "    "
   ],
   "outputs": [],
   "metadata": {}
  },
  {
   "cell_type": "code",
   "execution_count": 131,
   "source": [
    "transformer(test)"
   ],
   "outputs": [],
   "metadata": {}
  },
  {
   "cell_type": "code",
   "execution_count": 132,
   "source": [
    "test.name"
   ],
   "outputs": [
    {
     "output_type": "execute_result",
     "data": {
      "text/plain": [
       "'Mandy'"
      ]
     },
     "metadata": {},
     "execution_count": 132
    }
   ],
   "metadata": {}
  },
  {
   "cell_type": "markdown",
   "source": [
    "# 26/7/2021"
   ],
   "metadata": {}
  },
  {
   "cell_type": "markdown",
   "source": [
    "### snippet for Editor\n",
    "\n",
    "```python\n",
    "if editor not in session_state:\n",
    "    session_state.editor=Editor()\n",
    "\n",
    "deployment_type=selectbox(...)\n",
    "if session_state.project.deployment_type!=deployment_type:\n",
    "    session_state.project.editor_config=load_config...\n",
    "    session_state.editor=Editor(...)\n",
    "```"
   ],
   "metadata": {}
  },
  {
   "cell_type": "code",
   "execution_count": 6,
   "source": [
    "query_editor_SQL=\"\"\"SELECT\n",
    "    editor_config\n",
    "FROM\n",
    "    public.editor\n",
    "WHERE\n",
    "    project_id = %s;\"\"\""
   ],
   "outputs": [],
   "metadata": {}
  },
  {
   "cell_type": "code",
   "execution_count": 12,
   "source": [
    "editor_config=db_fetchone(query_editor_SQL,conn,[7]).editor_config"
   ],
   "outputs": [],
   "metadata": {}
  },
  {
   "cell_type": "code",
   "execution_count": 57,
   "source": [
    "editor_config=\"\"\"<View>\n",
    "  <View style=\"display:flex;align-items:start;gap:8px;flex-direction:column-reverse\">\n",
    "    <Image name=\"img\" value=\"$image\" zoom=\"true\" zoomControl=\"true\" rotateControl=\"false\" grid=\"true\" brightnessControl=\"true\" contrastControl=\"true\"/>\n",
    "    <View>\n",
    "      <Filter toName=\"tag\" minlength=\"0\" name=\"filter\"/>\n",
    "      <RectangleLabels name=\"tag\" toName=\"img\" showInline=\"true\">\n",
    "        <Label value=\"Hello\" background=\"#ff9ef4\"/>\n",
    "        <Label value=\"World\" background=\"#8fd06d\"/>\n",
    "      </RectangleLabels>\n",
    "    </View>\n",
    "  </View>\n",
    "</View>\n",
    "\"\"\""
   ],
   "outputs": [],
   "metadata": {}
  },
  {
   "cell_type": "code",
   "execution_count": 36,
   "source": [
    "from xml.dom import minidom"
   ],
   "outputs": [],
   "metadata": {}
  },
  {
   "cell_type": "code",
   "execution_count": 37,
   "source": [
    "xml_doc=minidom.parseString(editor_config)\n",
    "xml_doc"
   ],
   "outputs": [
    {
     "output_type": "execute_result",
     "data": {
      "text/plain": [
       "<xml.dom.minidom.Document at 0x7f6b4a9e0340>"
      ]
     },
     "metadata": {},
     "execution_count": 37
    }
   ],
   "metadata": {}
  },
  {
   "cell_type": "code",
   "execution_count": 4,
   "source": [
    "from data_export.label_studio_converter.converter import Converter\n",
    "from tempfile import mkdtemp"
   ],
   "outputs": [],
   "metadata": {}
  },
  {
   "cell_type": "code",
   "execution_count": 5,
   "source": [
    "# tmp_filename=mkdtemp()\n",
    "EXPORT_DIR=Path(\"/home/rchuzh/programming/image_labelling_shrdc/src/test/extra/test\").resolve()\n",
    "# tmp_dir=(EXPORT_DIR/tmp_filename).resolve()\n",
    "# tmp_dir"
   ],
   "outputs": [],
   "metadata": {}
  },
  {
   "cell_type": "code",
   "execution_count": 58,
   "source": [
    "from lxml import etree\n",
    "from collections import defaultdict\n",
    "import logging\n",
    "from copy import deepcopy\n",
    "from enum import Enum\n",
    "import json\n",
    "logger = logging.getLogger(__name__)\n",
    "_LABEL_TAGS = {'Label', 'Choice'}\n",
    "_NOT_CONTROL_TAGS = {'Filter',}"
   ],
   "outputs": [],
   "metadata": {}
  },
  {
   "cell_type": "code",
   "execution_count": 59,
   "source": [
    "def parse_config(config_string):\n",
    "    \"\"\"\n",
    "    :param config_string: Label config string\n",
    "    :return: structured config of the form:\n",
    "    {\n",
    "        \"<ControlTag>.name\": {\n",
    "            \"type\": \"ControlTag\",\n",
    "            \"to_name\": [\"<ObjectTag1>.name\", \"<ObjectTag2>.name\"],\n",
    "            \"inputs: [\n",
    "                {\"type\": \"ObjectTag1\", \"value\": \"<ObjectTag1>.value\"},\n",
    "                {\"type\": \"ObjectTag2\", \"value\": \"<ObjectTag2>.value\"}\n",
    "            ],\n",
    "            \"labels\": [\"Label1\", \"Label2\", \"Label3\"] // taken from \"alias\" if exists or \"value\"\n",
    "    }\n",
    "    \"\"\"\n",
    "    if not config_string:\n",
    "        return {}\n",
    "\n",
    "    def _is_input_tag(tag):\n",
    "        return tag.attrib.get('name') and tag.attrib.get('value')\n",
    "\n",
    "    def _is_output_tag(tag):\n",
    "        return tag.attrib.get('name') and tag.attrib.get('toName') and tag.tag not in _NOT_CONTROL_TAGS\n",
    "\n",
    "    def _get_parent_output_tag_name(tag, outputs):\n",
    "        # Find parental <Choices> tag for nested tags like <Choices><View><View><Choice>...\n",
    "        parent = tag\n",
    "        while True:\n",
    "            parent = parent.getparent()\n",
    "            if parent is None:\n",
    "                return\n",
    "            name = parent.attrib.get('name')\n",
    "            if name in outputs:\n",
    "                return name\n",
    "\n",
    "    xml_tree = etree.fromstring(config_string)\n",
    "\n",
    "    inputs, outputs, labels = {}, {}, defaultdict(dict)\n",
    "    for tag in xml_tree.iter():\n",
    "        if _is_output_tag(tag):\n",
    "            tag_info = {'type': tag.tag, 'to_name': tag.attrib['toName'].split(',')}\n",
    "            # Grab conditionals if any\n",
    "            conditionals = {}\n",
    "            if tag.attrib.get('perRegion') == 'true':\n",
    "                if tag.attrib.get('whenTagName'):\n",
    "                    conditionals = {'type': 'tag', 'name': tag.attrib['whenTagName']}\n",
    "                elif tag.attrib.get('whenLabelValue'):\n",
    "                    conditionals = {'type': 'label', 'name': tag.attrib['whenLabelValue']}\n",
    "                elif tag.attrib.get('whenChoiceValue'):\n",
    "                    conditionals = {'type': 'choice', 'name': tag.attrib['whenChoiceValue']}\n",
    "            if conditionals:\n",
    "                tag_info['conditionals'] = conditionals\n",
    "            outputs[tag.attrib['name']] = tag_info\n",
    "        elif _is_input_tag(tag):\n",
    "            inputs[tag.attrib['name']] = {'type': tag.tag, 'value': tag.attrib['value'].lstrip('$')}\n",
    "        if tag.tag not in _LABEL_TAGS:\n",
    "            continue\n",
    "        parent_name = _get_parent_output_tag_name(tag, outputs)\n",
    "        if parent_name is not None:\n",
    "            actual_value = tag.attrib.get('alias') or tag.attrib.get('value')\n",
    "            if not actual_value:\n",
    "                logger.debug(\n",
    "                    'Inspecting tag {tag_name}... found no \"value\" or \"alias\" attributes.'.format(\n",
    "                        tag_name=etree.tostring(tag, encoding='unicode').strip()[:50]))\n",
    "            else:\n",
    "                labels[parent_name][actual_value] = dict(tag.attrib)\n",
    "    for output_tag, tag_info in outputs.items():\n",
    "        tag_info['inputs'] = []\n",
    "        for input_tag_name in tag_info['to_name']:\n",
    "            if input_tag_name not in inputs:\n",
    "                logger.error(\n",
    "                    f'to_name={input_tag_name} is specified for output tag name={output_tag}, '\n",
    "                    'but we can\\'t find it among input tags')\n",
    "                continue\n",
    "            tag_info['inputs'].append(inputs[input_tag_name])\n",
    "        tag_info['labels'] = list(labels[output_tag])\n",
    "        tag_info['labels_attrs'] = labels[output_tag]\n",
    "    return outputs"
   ],
   "outputs": [],
   "metadata": {}
  },
  {
   "cell_type": "code",
   "execution_count": 60,
   "source": [
    "editor_config2=parse_config(editor_config)"
   ],
   "outputs": [],
   "metadata": {}
  },
  {
   "cell_type": "code",
   "execution_count": null,
   "source": [
    "editor_config2"
   ],
   "outputs": [],
   "metadata": {}
  },
  {
   "cell_type": "code",
   "execution_count": 42,
   "source": [
    "def get_export_formats(editor_config):  \n",
    "    config=parse_config(editor_config)\n",
    "    converter = Converter(config=config, project_dir=None)\n",
    "    formats = []\n",
    "    supported_formats = set(converter.supported_formats)\n",
    "    for format, format_info in converter.all_formats().items():\n",
    "        format_info = deepcopy(format_info)\n",
    "        format_info['name'] = format.name\n",
    "        if format.name not in supported_formats:\n",
    "            format_info['disabled'] = True\n",
    "        formats.append(format_info)\n",
    "    return sorted(formats, key=lambda f: f.get('disabled', False))"
   ],
   "outputs": [],
   "metadata": {}
  },
  {
   "cell_type": "code",
   "execution_count": null,
   "source": [
    "get_export_formats(editor_config)"
   ],
   "outputs": [],
   "metadata": {}
  },
  {
   "cell_type": "code",
   "execution_count": 8,
   "source": [
    "class Format(Enum):\n",
    "    JSON = 1\n",
    "    JSON_MIN = 2\n",
    "    CSV = 3\n",
    "    TSV = 4\n",
    "    CONLL2003 = 5\n",
    "    COCO = 6\n",
    "    VOC = 7\n",
    "    BRUSH_TO_NUMPY = 8\n",
    "    BRUSH_TO_PNG = 9\n",
    "    ASR_MANIFEST = 10\n",
    "    YOLO = 11\n",
    "\n",
    "    def __str__(self):\n",
    "        return self.name\n",
    "\n",
    "    @classmethod\n",
    "    def from_string(cls, s):\n",
    "        try:\n",
    "            return Format[s]\n",
    "        except KeyError:\n",
    "            raise ValueError()"
   ],
   "outputs": [],
   "metadata": {}
  },
  {
   "cell_type": "code",
   "execution_count": 44,
   "source": [
    "format=Format.from_string(\"COCO\")\n",
    "format == Format.COCO"
   ],
   "outputs": [
    {
     "output_type": "execute_result",
     "data": {
      "text/plain": [
       "True"
      ]
     },
     "metadata": {},
     "execution_count": 44
    }
   ],
   "metadata": {}
  },
  {
   "cell_type": "code",
   "execution_count": 41,
   "source": [
    "from tempfile import mkdtemp\n",
    "mkdtemp()"
   ],
   "outputs": [
    {
     "output_type": "execute_result",
     "data": {
      "text/plain": [
       "'/tmp/tmpirfokajv'"
      ]
     },
     "metadata": {},
     "execution_count": 41
    }
   ],
   "metadata": {}
  },
  {
   "cell_type": "code",
   "execution_count": 51,
   "source": [
    "project_dir='/home/rchuzh/.local/share/label-studio/media/upload'\n",
    "task_json=\"\"\"{\n",
    "        \"id\": 2,\n",
    "        \"annotations\": [\n",
    "            {\n",
    "                \"id\": 13,\n",
    "                \"completed_by\": {\n",
    "                    \"id\": 3,\n",
    "                    \"email\": \"ecyzc@nottingham.edu.my\",\n",
    "                    \"first_name\": \"\",\n",
    "                    \"last_name\": \"\"\n",
    "                },\n",
    "                \"result\": [\n",
    "                    {\n",
    "                        \"original_width\": 3000,\n",
    "                        \"original_height\": 4000,\n",
    "                        \"image_rotation\": 0,\n",
    "                        \"value\": {\n",
    "                            \"x\": 17.600000000000005,\n",
    "                            \"y\": 47.1,\n",
    "                            \"width\": 32,\n",
    "                            \"height\": 23.5,\n",
    "                            \"rotation\": 0,\n",
    "                            \"rectanglelabels\": [\n",
    "                                \"Hello\"\n",
    "                            ]\n",
    "                        },\n",
    "                        \"id\": \"M4mae6iYcI\",\n",
    "                        \"from_name\": \"tag\",\n",
    "                        \"to_name\": \"img\",\n",
    "                        \"type\": \"rectanglelabels\"\n",
    "                    },\n",
    "                    {\n",
    "                        \"original_width\": 3000,\n",
    "                        \"original_height\": 4000,\n",
    "                        \"image_rotation\": 0,\n",
    "                        \"value\": {\n",
    "                            \"x\": 55.86666666666667,\n",
    "                            \"y\": 27.60000000000001,\n",
    "                            \"width\": 15.333333333333334,\n",
    "                            \"height\": 11.7,\n",
    "                            \"rotation\": 0,\n",
    "                            \"rectanglelabels\": [\n",
    "                                \"Hello\"\n",
    "                            ]\n",
    "                        },\n",
    "                        \"id\": \"76y19AdsUB\",\n",
    "                        \"from_name\": \"tag\",\n",
    "                        \"to_name\": \"img\",\n",
    "                        \"type\": \"rectanglelabels\"\n",
    "                    },\n",
    "                    {\n",
    "                        \"original_width\": 3000,\n",
    "                        \"original_height\": 4000,\n",
    "                        \"image_rotation\": 0,\n",
    "                        \"value\": {\n",
    "                            \"x\": 68,\n",
    "                            \"y\": 42.3,\n",
    "                            \"width\": 15.333333333333334,\n",
    "                            \"height\": 12.5,\n",
    "                            \"rotation\": 0,\n",
    "                            \"rectanglelabels\": [\n",
    "                                \"Hello\"\n",
    "                            ]\n",
    "                        },\n",
    "                        \"id\": \"Dh9hUuSc8Z\",\n",
    "                        \"from_name\": \"tag\",\n",
    "                        \"to_name\": \"img\",\n",
    "                        \"type\": \"rectanglelabels\"\n",
    "                    }\n",
    "                ],\n",
    "                \"was_cancelled\": false,\n",
    "                \"ground_truth\": false,\n",
    "                \"created_at\": \"2021-06-14T09:35:28.773001Z\",\n",
    "                \"updated_at\": \"2021-06-18T07:52:24.910539Z\",\n",
    "                \"lead_time\": 17023.217,\n",
    "                \"prediction\": {},\n",
    "                \"result_count\": 0,\n",
    "                \"task\": 2\n",
    "            }\n",
    "        ],\n",
    "        \"predictions\": [],\n",
    "        \"file_upload\": \"IMG_20210315_181133.jpg\",\n",
    "        \"data\": {\n",
    "\n",
    "            \"image\": \"/home/rchuzh/Documents/aruco/train/IMG_20210315_181133.jpg\"\n",
    "        },\n",
    "        \"meta\": {},\n",
    "        \"created_at\": \"2021-06-14T08:44:41.014786Z\",\n",
    "        \"updated_at\": \"2021-06-18T07:52:24.858387Z\",\n",
    "        \"project\": 8\n",
    "    }\"\"\""
   ],
   "outputs": [],
   "metadata": {}
  },
  {
   "cell_type": "code",
   "execution_count": 54,
   "source": [
    "tasks=json.loads(task_json)\n",
    "type(tasks)"
   ],
   "outputs": [
    {
     "output_type": "execute_result",
     "data": {
      "text/plain": [
       "dict"
      ]
     },
     "metadata": {},
     "execution_count": 54
    }
   ],
   "metadata": {}
  },
  {
   "cell_type": "code",
   "execution_count": 38,
   "source": [
    "import hashlib\n",
    "data = json.dumps(tasks, ensure_ascii=False)\n",
    "md5 = hashlib.md5(json.dumps(data).encode('utf-8')).hexdigest()"
   ],
   "outputs": [],
   "metadata": {}
  },
  {
   "cell_type": "code",
   "execution_count": 47,
   "source": [
    "\n",
    "converter=Converter(editor_config2,project_dir=project_dir)"
   ],
   "outputs": [],
   "metadata": {}
  },
  {
   "cell_type": "code",
   "execution_count": 48,
   "source": [
    "display(vars(converter))"
   ],
   "outputs": [
    {
     "output_type": "display_data",
     "data": {
      "text/plain": [
       "{'project_dir': '/home/rchuzh/.local/share/label-studio/media/upload',\n",
       " 'upload_dir': None,\n",
       " '_schema': {'label': {'type': 'RectangleLabels',\n",
       "   'to_name': ['image'],\n",
       "   'inputs': [{'type': 'Image', 'value': 'image'}],\n",
       "   'labels': ['Hello', 'World'],\n",
       "   'labels_attrs': {'Hello': {'value': 'Hello', 'background': 'green'},\n",
       "    'World': {'value': 'World', 'background': 'blue'}}},\n",
       "  'choice': {'type': 'Choices',\n",
       "   'to_name': ['image'],\n",
       "   'inputs': [{'type': 'Image', 'value': 'image'}],\n",
       "   'labels': ['Boeing', 'Airbus'],\n",
       "   'labels_attrs': {'Boeing': {'value': 'Boeing', 'background': 'blue'},\n",
       "    'Airbus': {'value': 'Airbus', 'background': 'green'}}}},\n",
       " '_data_keys': ['image'],\n",
       " '_output_tags': ['label', 'choice'],\n",
       " '_supported_formats': ['JSON',\n",
       "  'JSON_MIN',\n",
       "  'CSV',\n",
       "  'TSV',\n",
       "  'COCO',\n",
       "  'VOC',\n",
       "  'YOLO']}"
      ]
     },
     "metadata": {}
    }
   ],
   "metadata": {}
  },
  {
   "cell_type": "code",
   "execution_count": 55,
   "source": [
    "item_iterator=converter.iter_from_json_file(tasks,is_string=True)\n",
    "random_list=[]\n",
    "for item_idx, item in enumerate(item_iterator):\n",
    "    random_list.append(item)"
   ],
   "outputs": [
    {
     "output_type": "stream",
     "name": "stdout",
     "text": [
      "Enter string\n",
      "Done\n"
     ]
    }
   ],
   "metadata": {}
  },
  {
   "cell_type": "code",
   "execution_count": 65,
   "source": [
    "random_list=[]\n",
    "for item_idx, item in enumerate(item_iterator):\n",
    "    random_list.append(item)\n"
   ],
   "outputs": [],
   "metadata": {}
  },
  {
   "cell_type": "code",
   "execution_count": 56,
   "source": [
    "random_list"
   ],
   "outputs": [
    {
     "output_type": "execute_result",
     "data": {
      "text/plain": [
       "[]"
      ]
     },
     "metadata": {},
     "execution_count": 56
    }
   ],
   "metadata": {}
  },
  {
   "cell_type": "code",
   "execution_count": 55,
   "source": [
    "class random:\n",
    "    def __init__ (self,age,name):\n",
    "        self.age=age\n",
    "        self.name=name\n",
    "    \n",
    "    def test1(self,some_text,some_flag=False):\n",
    "        def innertest1(data,age):\n",
    "            print(data,age)\n",
    "\n",
    "        if some_flag:\n",
    "            # innertest1(some_text,self.age)\n",
    "            print(self.age)\n",
    "\n",
    "        else:\n",
    "            innertest1(\"else block\",self.age)\n",
    "\n"
   ],
   "outputs": [],
   "metadata": {}
  },
  {
   "cell_type": "code",
   "execution_count": 57,
   "source": [
    "randomtest=random(22,'Alex')\n",
    "randomtest.test1(\"Hello\",True)"
   ],
   "outputs": [
    {
     "output_type": "stream",
     "name": "stdout",
     "text": [
      "22\n"
     ]
    }
   ],
   "metadata": {}
  },
  {
   "cell_type": "code",
   "execution_count": 47,
   "source": [
    "def nextSquare():\n",
    "    i = 1\n",
    "  \n",
    "    # An Infinite loop to generate squares \n",
    "    while True:\n",
    "        yield i*i                \n",
    "        i += 1  # Next execution resumes \n",
    "                # from this point    \n"
   ],
   "outputs": [],
   "metadata": {}
  },
  {
   "cell_type": "code",
   "execution_count": 48,
   "source": [
    "for num in nextSquare():\n",
    "    if num > 100:\n",
    "         break    \n",
    "    print(num)\n"
   ],
   "outputs": [
    {
     "output_type": "stream",
     "name": "stdout",
     "text": [
      "1\n",
      "4\n",
      "9\n",
      "16\n",
      "25\n",
      "36\n",
      "49\n",
      "64\n",
      "81\n",
      "100\n"
     ]
    }
   ],
   "metadata": {}
  },
  {
   "cell_type": "code",
   "execution_count": null,
   "source": [],
   "outputs": [],
   "metadata": {}
  }
 ],
 "metadata": {
  "orig_nbformat": 4,
  "language_info": {
   "name": "python",
   "version": "3.8.3",
   "mimetype": "text/x-python",
   "codemirror_mode": {
    "name": "ipython",
    "version": 3
   },
   "pygments_lexer": "ipython3",
   "nbconvert_exporter": "python",
   "file_extension": ".py"
  },
  "kernelspec": {
   "name": "python3",
   "display_name": "Python 3.8.3 64-bit ('project': conda)"
  },
  "interpreter": {
   "hash": "ba56c48e8eb9be168e0389a843d6b05eb98b350e2a11ebd3aad5a11a665ac5a1"
  }
 },
 "nbformat": 4,
 "nbformat_minor": 2
}