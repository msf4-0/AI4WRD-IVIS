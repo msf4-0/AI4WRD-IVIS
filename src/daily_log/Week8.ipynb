{
 "cells": [
  {
   "cell_type": "markdown",
   "source": [
    "# Init"
   ],
   "metadata": {}
  },
  {
   "cell_type": "code",
   "execution_count": 4,
   "source": [
    "from IPython.display import display\n",
    "from typing import List,Dict\n",
    "import os\n",
    "import sys\n",
    "import psycopg2\n",
    "from psycopg2.extras import NamedTupleCursor\n",
    "os.chdir('/home/rchuzh/programming/image_labelling_shrdc')\n",
    "from pathlib import Path\n",
    "Path.cwd()\n",
    "SRC = Path('/home/rchuzh/programming/image_labelling_shrdc/src')  # ROOT folder -> ./src\n",
    "LIB_PATH = SRC / \"lib\"\n",
    "\n",
    "if str(LIB_PATH) not in sys.path:\n",
    "    sys.path.insert(0, str(LIB_PATH))  # ./lib\n",
    "else:\n",
    "    pass"
   ],
   "outputs": [],
   "metadata": {}
  },
  {
   "cell_type": "code",
   "execution_count": 5,
   "source": [
    "from data_manager.database_manager import db_fetchone,db_no_fetch,db_fetchall\n",
    "from core.utils.log import log_info,log_error\n",
    "dsn = \"host=localhost port=5432 dbname=eye user=shrdc password=shrdc\"\n",
    "def init_connection(dsn=None, connection_factory=None, cursor_factory=None, **kwargs):\n",
    "    \"\"\" Connect to the PostgreSQL database server \"\"\"\n",
    "\n",
    "    try:\n",
    "        # read connection parameters\n",
    "        # params = config()\n",
    "\n",
    "        # connect to the PostgreSQL server\n",
    "        log_info('Connecting to the PostgreSQL database...')\n",
    "        if kwargs:\n",
    "            conn = psycopg2.connect(**kwargs)\n",
    "\n",
    "        else:\n",
    "            conn = psycopg2.connect(dsn, connection_factory, cursor_factory)\n",
    "\n",
    "        # create a cursor\n",
    "        with conn:\n",
    "            with conn.cursor(cursor_factory=NamedTupleCursor) as cur:\n",
    "\n",
    "                # execute a statement\n",
    "                cur.execute('SELECT version();')\n",
    "                conn.commit()\n",
    "\n",
    "                # display the PostgreSQL database server version\n",
    "                db_version = cur.fetchone().version\n",
    "                log_info(f\"PostgreSQL database version: {db_version}\")\n",
    "                log_info(f\"PostgreSQL connection status: {conn.info.status}\")\n",
    "                log_info(\n",
    "                    f\"You are connected to database '{conn.info.dbname}' as user '{conn.info.user}' on host '{conn.info.host}' at port '{conn.info.port}'.\")\n",
    "        return conn\n",
    "    except (Exception, psycopg2.DatabaseError) as error:\n",
    "        log_error(error)\n",
    "        conn = None\n"
   ],
   "outputs": [],
   "metadata": {}
  },
  {
   "cell_type": "code",
   "execution_count": 6,
   "source": [
    "conn=init_connection(dsn)"
   ],
   "outputs": [
    {
     "output_type": "stream",
     "name": "stderr",
     "text": [
      "2021-07-29 14:46:01.703 INFO    root: Connecting to the PostgreSQL database...\n",
      "2021-07-29 14:46:01.714 INFO    root: PostgreSQL database version: PostgreSQL 13.3 (Ubuntu 13.3-1.pgdg20.04+1) on x86_64-pc-linux-gnu, compiled by gcc (Ubuntu 9.3.0-17ubuntu1~20.04) 9.3.0, 64-bit\n",
      "2021-07-29 14:46:01.715 INFO    root: PostgreSQL connection status: 0\n",
      "2021-07-29 14:46:01.716 INFO    root: You are connected to database 'eye' as user 'shrdc' on host 'localhost' at port '5432'.\n"
     ]
    }
   ],
   "metadata": {}
  },
  {
   "cell_type": "markdown",
   "source": [
    "# 28/7/2021"
   ],
   "metadata": {}
  },
  {
   "cell_type": "code",
   "execution_count": 16,
   "source": [
    "from enum import IntEnum\n",
    "class DeploymentType(IntEnum):\n",
    "    Image_Classification = 1\n",
    "    OD = 2\n",
    "    Instance = 3\n",
    "    Semantic = 4\n",
    "\n",
    "    def __str__(self):\n",
    "        return self.name\n",
    "\n",
    "    @classmethod\n",
    "    def from_string(cls, s):\n",
    "        try:\n",
    "            return DeploymentType[s]\n",
    "        except KeyError:\n",
    "            raise ValueError()"
   ],
   "outputs": [],
   "metadata": {}
  },
  {
   "cell_type": "code",
   "execution_count": 17,
   "source": [
    "format=DeploymentType.from_string('OD')\n",
    "format == DeploymentType.OD"
   ],
   "outputs": [
    {
     "output_type": "execute_result",
     "data": {
      "text/plain": [
       "True"
      ]
     },
     "metadata": {},
     "execution_count": 17
    }
   ],
   "metadata": {}
  },
  {
   "cell_type": "code",
   "execution_count": null,
   "source": [
    "return_all=db_fetchone(query_dt_sql,conn)\n",
    "return_all"
   ],
   "outputs": [],
   "metadata": {}
  },
  {
   "cell_type": "code",
   "execution_count": 71,
   "source": [
    "for i in return_all:\n",
    "    display(i)"
   ],
   "outputs": [
    {
     "output_type": "error",
     "ename": "TypeError",
     "evalue": "'NoneType' object is not iterable",
     "traceback": [
      "\u001b[0;31m---------------------------------------------------------------------------\u001b[0m",
      "\u001b[0;31mTypeError\u001b[0m                                 Traceback (most recent call last)",
      "\u001b[0;32m<ipython-input-71-9a565fd414c9>\u001b[0m in \u001b[0;36m<module>\u001b[0;34m\u001b[0m\n\u001b[0;32m----> 1\u001b[0;31m \u001b[0;32mfor\u001b[0m \u001b[0mi\u001b[0m \u001b[0;32min\u001b[0m \u001b[0mreturn_all\u001b[0m\u001b[0;34m:\u001b[0m\u001b[0;34m\u001b[0m\u001b[0;34m\u001b[0m\u001b[0m\n\u001b[0m\u001b[1;32m      2\u001b[0m     \u001b[0mdisplay\u001b[0m\u001b[0;34m(\u001b[0m\u001b[0mi\u001b[0m\u001b[0;34m)\u001b[0m\u001b[0;34m\u001b[0m\u001b[0;34m\u001b[0m\u001b[0m\n",
      "\u001b[0;31mTypeError\u001b[0m: 'NoneType' object is not iterable"
     ]
    }
   ],
   "metadata": {}
  },
  {
   "cell_type": "code",
   "execution_count": 55,
   "source": [
    "y=[i.Model_Path for i in return_all if i.Name=='[TF] SSD MobileNet V2 FPNLite 320x320'][0]\n",
    "y"
   ],
   "outputs": [
    {
     "output_type": "execute_result",
     "data": {
      "text/plain": [
       "'./pre-trained-models/ssd_mobilenet_v2_fpnlite_320x320_coco17_tpu-8'"
      ]
     },
     "metadata": {},
     "execution_count": 55
    }
   ],
   "metadata": {}
  },
  {
   "cell_type": "code",
   "execution_count": 56,
   "source": [
    "model_list=[model.Name for model in return_all]"
   ],
   "outputs": [],
   "metadata": {}
  },
  {
   "cell_type": "code",
   "execution_count": 61,
   "source": [
    "model_selected='[TF] SSD MobileNet V2 FPNLite 320x320'\n",
    "model_id=return_all[model_list.index(\"[TF] SSD MobileNet V2 FPNLite 320x320\")].ID\n",
    "model_id"
   ],
   "outputs": [
    {
     "output_type": "execute_result",
     "data": {
      "text/plain": [
       "1"
      ]
     },
     "metadata": {},
     "execution_count": 61
    }
   ],
   "metadata": {}
  },
  {
   "cell_type": "code",
   "execution_count": 48,
   "source": [
    "from psycopg2 import sql"
   ],
   "outputs": [],
   "metadata": {}
  },
  {
   "cell_type": "code",
   "execution_count": 49,
   "source": [
    "query_dt_sql=sql.SQL(\"\"\"SELECT\n",
    "                m.id AS \"ID\",\n",
    "                m.name AS \"Name\",\n",
    "                f.name AS \"Framework\",\n",
    "                m.model_path AS \"Model Path\"\n",
    "            FROM\n",
    "                {} m\n",
    "                LEFT JOIN public.framework f ON f.id = m.framework_id\n",
    "                where m.deployment_id = (SELECT id from public.deployment_type where name = %s);\"\"\").format(sql.Identifier('public','models'))\n",
    "\n"
   ],
   "outputs": [],
   "metadata": {}
  },
  {
   "cell_type": "code",
   "execution_count": 45,
   "source": [
    "\n",
    "with conn.cursor() as cur:\n",
    "    print(cur.mogrify(query_dt_sql,[\"Object Detection with Bounding Boxes\"]))"
   ],
   "outputs": [
    {
     "output_type": "stream",
     "name": "stdout",
     "text": [
      "b'SELECT\\n                m.id AS \"ID\",\\n                m.name AS \"Name\",\\n                f.name AS \"Framework\",\\n                m.model_path AS \"Model Path\"\\n            FROM\\n                \"public\".\"models\" m\\n                LEFT JOIN public.framework f ON f.id = m.framework_id\\n                where m.deployment_id = (SELECT id from public.deployment_type where name = \\'Object Detection with Bounding Boxes\\');'\n"
     ]
    }
   ],
   "metadata": {}
  },
  {
   "cell_type": "code",
   "execution_count": 50,
   "source": [
    "db_fetchall(query_dt_sql,conn,[\"Object Detection with Bounding Boxes\"])"
   ],
   "outputs": [
    {
     "output_type": "execute_result",
     "data": {
      "text/plain": [
       "[Record(ID=2, Name='ssd300 retinanet merdeka model', Framework='TensorFlow', Model_Path=None)]"
      ]
     },
     "metadata": {},
     "execution_count": 50
    }
   ],
   "metadata": {}
  },
  {
   "cell_type": "code",
   "execution_count": 50,
   "source": [
    "one,two= [x for x in \"public.models\".split('.')]"
   ],
   "outputs": [],
   "metadata": {}
  },
  {
   "cell_type": "code",
   "execution_count": 51,
   "source": [
    "one"
   ],
   "outputs": [
    {
     "output_type": "execute_result",
     "data": {
      "text/plain": [
       "'public'"
      ]
     },
     "metadata": {},
     "execution_count": 51
    }
   ],
   "metadata": {}
  },
  {
   "cell_type": "code",
   "execution_count": 60,
   "source": [
    "def check_if_exists(table: str, column_name: str, condition, conn):\n",
    "    # Separate schema and tablename from 'table'\n",
    "    schema, tablename = [i for i in table.split('.')]\n",
    "    check_if_exists_SQL = sql.SQL(\"\"\"\n",
    "                        SELECT\n",
    "                            EXISTS (\n",
    "                                SELECT\n",
    "                                    *\n",
    "                                FROM\n",
    "                                    {}\n",
    "                                WHERE\n",
    "                                    {} = %s);\n",
    "                            \"\"\").format(sql.Identifier(schema, tablename), sql.Identifier(column_name))\n",
    "    check_if_exists_vars = [ condition]\n",
    "    exist_flag = db_fetchone(check_if_exists_SQL, conn, check_if_exists_vars)\n",
    "\n",
    "    return exist_flag"
   ],
   "outputs": [],
   "metadata": {}
  },
  {
   "cell_type": "code",
   "execution_count": 62,
   "source": [
    "check_if_exists(\"public.roles\",\"id\",1,conn).exists"
   ],
   "outputs": [
    {
     "output_type": "execute_result",
     "data": {
      "text/plain": [
       "True"
      ]
     },
     "metadata": {},
     "execution_count": 62
    }
   ],
   "metadata": {}
  },
  {
   "cell_type": "code",
   "execution_count": 65,
   "source": [
    "class Task():\n",
    "    \n",
    "        \n",
    "\n",
    "    # TODO: check if current image exists as a 'task' in DB\n",
    "    @staticmethod\n",
    "    def check_if_task_exists(table: str, column_name: str, condition, conn=conn):\n",
    "        \"\"\"SELECT\n",
    "                EXISTS (\n",
    "                    SELECT\n",
    "                        *\n",
    "                    FROM\n",
    "                        {schema,tablename} --from 'table'\n",
    "                    WHERE\n",
    "                        {column_name} = %s); -- %s=condition\n",
    "                \"\"\"\n",
    "        return check_if_exists(table, column_name, condition, conn).exists"
   ],
   "outputs": [],
   "metadata": {}
  },
  {
   "cell_type": "code",
   "execution_count": 67,
   "source": [
    "Task.check_if_task_exists(\"public.roles\",\"id\",1,conn)"
   ],
   "outputs": [
    {
     "output_type": "execute_result",
     "data": {
      "text/plain": [
       "True"
      ]
     },
     "metadata": {},
     "execution_count": 67
    }
   ],
   "metadata": {}
  },
  {
   "cell_type": "code",
   "execution_count": null,
   "source": [],
   "outputs": [],
   "metadata": {}
  },
  {
   "cell_type": "markdown",
   "source": [
    "# 29/7/2021"
   ],
   "metadata": {}
  },
  {
   "cell_type": "code",
   "execution_count": 7,
   "source": [
    "from PIL import Image\n",
    "from io import BytesIO\n",
    "from base64 import b64encode\n",
    "from mimetypes import guess_type\n",
    "import cv2\n",
    "from time import perf_counter"
   ],
   "outputs": [],
   "metadata": {}
  },
  {
   "cell_type": "code",
   "execution_count": 8,
   "source": [
    "image_path=Path(\"/home/rchuzh/.local/share/integrated-vision-inspection-system/app_media/dataset/My-Third-Dataset/IMG_20210315_184229.jpg\")"
   ],
   "outputs": [],
   "metadata": {}
  },
  {
   "cell_type": "code",
   "execution_count": 17,
   "source": [
    "    start_time=perf_counter()\n",
    "    img=cv2.imread(str(image_path))\n",
    "    log_info(\"Loading image\")\n",
    "    \n",
    "    # img_byte=BytesIO()\n",
    "    log_info(\"Saving image\")\n",
    "    extension=Path(image_path).suffix\n",
    "    # _,img_byte=cv2.imencode(extension,img)\n",
    "    log_info(\"Done Saving\")\n",
    "    start_en=perf_counter()\n",
    "    log_info(\"Encoding\")\n",
    "    # bb=img_byte.getvalue()\n",
    "    \n",
    "    # b64code=b64encode(img_byte).decode('utf-8')\n",
    "    log_info(\"Done encoding\")\n",
    "    end_en=perf_counter()\n",
    "    mime=guess_type(image_path)[0]\n",
    "    image_name=Path(image_path).name\n",
    "    log_info(f\"{image_name} ; {mime}\")\n",
    "    # data_url=f\"data:{mime};base64{b64code}\"\n",
    "    log_info(f\"Data url generated\")\n",
    "    end_time=perf_counter()\n",
    "    time_elapsed=end_time-start_time\n",
    "    print(time_elapsed,(end_en-start_en))\n",
    "    # pp.pprint(data_url)"
   ],
   "outputs": [
    {
     "output_type": "stream",
     "name": "stderr",
     "text": [
      "2021-07-29 14:51:04.732 INFO    root: Loading image\n",
      "2021-07-29 14:51:04.732 INFO    root: Saving image\n",
      "2021-07-29 14:51:05.117 INFO    root: Done Saving\n",
      "2021-07-29 14:51:05.118 INFO    root: Encoding\n",
      "2021-07-29 14:51:05.119 INFO    root: Done encoding\n",
      "2021-07-29 14:51:05.119 INFO    root: IMG_20210315_184229.jpg ; image/jpeg\n",
      "2021-07-29 14:51:05.120 INFO    root: Data url generated\n"
     ]
    },
    {
     "output_type": "stream",
     "name": "stdout",
     "text": [
      "0.5926613599986013 0.0011203909998585004\n"
     ]
    }
   ],
   "metadata": {}
  },
  {
   "cell_type": "code",
   "execution_count": 19,
   "source": [
    "with Image.open(image_path) as img:\n",
    "    start_time=perf_counter()\n",
    "    log_info(\"Loading image\")\n",
    "    \n",
    "    img_byte=BytesIO()\n",
    "    log_info(\"Saving image\")\n",
    "    img.save(img_byte,format=img.format)\n",
    "    log_info(\"Done Saving\")\n",
    "    log_info(\"Encoding\")\n",
    "    # bb=img_byte.getvalue()\n",
    "    \n",
    "    # b64code=b64encode(bb).decode('utf-8')\n",
    "    log_info(\"Done encoding\")\n",
    "    # mime=guess_type(img.filename)[0]\n",
    "    image_name=image_path.name\n",
    "    log_info(f\"{image_name} ; {mime}\")\n",
    "    # data_url=f\"data:{mime};base64{b64code}\"\n",
    "    log_info(f\"Data url generated\")\n",
    "    end_time=perf_counter()\n",
    "    time_elapsed=end_time-start_time\n",
    "    print(time_elapsed)\n",
    "    \n",
    "    "
   ],
   "outputs": [
    {
     "output_type": "stream",
     "name": "stderr",
     "text": [
      "2021-07-29 15:19:57.807 INFO    root: Loading image\n",
      "2021-07-29 15:19:57.808 INFO    root: Saving image\n",
      "2021-07-29 15:19:58.473 INFO    root: Done Saving\n",
      "2021-07-29 15:19:58.473 INFO    root: Encoding\n",
      "2021-07-29 15:19:58.477 INFO    root: Done encoding\n",
      "2021-07-29 15:19:58.478 INFO    root: IMG_20210315_184229.jpg ; image/jpeg\n",
      "2021-07-29 15:19:58.479 INFO    root: Data url generated\n"
     ]
    },
    {
     "output_type": "stream",
     "name": "stdout",
     "text": [
      "0.6730980270003784\n"
     ]
    }
   ],
   "metadata": {}
  },
  {
   "cell_type": "code",
   "execution_count": 36,
   "source": [
    "def load_image(image_path: Path) -> str:\n",
    "\n",
    "    log_info(\"Loading Image\")\n",
    "\n",
    "    img = cv2.imread(image_path)\n",
    "    return img"
   ],
   "outputs": [],
   "metadata": {}
  },
  {
   "cell_type": "code",
   "execution_count": null,
   "source": [
    "image=load_image(str(image_path))\n",
    "_,buffer=cv2.imencode(Path(image_path).suffix,image)\n",
    "b64encode(buffer)"
   ],
   "outputs": [],
   "metadata": {}
  },
  {
   "cell_type": "code",
   "execution_count": 24,
   "source": [
    "def data_url_encoder(image: Image):\n",
    "    \"\"\"Load Image and generate Data URL in base64 bytes\n",
    "\n",
    "    Args:\n",
    "        image (bytes-like): BytesIO object\n",
    "\n",
    "    Returns:\n",
    "        bytes: UTF-8 encoded base64 bytes\n",
    "    \"\"\"\n",
    "    img_byte = BytesIO()\n",
    "    image_name = Path(image.filename).name #use Path().name\n",
    "    log_info(f\"Encoding image into bytes: {str(image_name)}\")\n",
    "    image.save(img_byte, format=image.format)\n",
    "    log_info(\"Done enconding into bytes\")\n",
    "\n",
    "    log_info(\"Start B64 Encoding\")\n",
    "    bb = img_byte.getvalue()\n",
    "    b64code = b64encode(bb).decode('utf-8')\n",
    "    log_info(\"Done B64 encoding\")\n",
    "\n",
    "    mime = guess_type(image.filename)[0]\n",
    "    log_info(f\"{image_name} ; {mime}\")\n",
    "    data_url = f\"data:{mime};base64{b64code}\"\n",
    "    log_info(\"Data url generated\")\n",
    "\n",
    "    return data_url"
   ],
   "outputs": [],
   "metadata": {}
  },
  {
   "cell_type": "code",
   "execution_count": null,
   "source": [
    "img=Image.open(image_path)\n",
    "data_url_encoder(img)"
   ],
   "outputs": [],
   "metadata": {}
  },
  {
   "cell_type": "code",
   "execution_count": 58,
   "source": [
    "from glob import iglob"
   ],
   "outputs": [],
   "metadata": {}
  },
  {
   "cell_type": "code",
   "execution_count": 56,
   "source": [
    "path=[\"/home/rchuzh/.local/share/integrated-vision-inspection-system/app_media/dataset/My-Third-Dataset\",\"/home/rchuzh/.local/share/integrated-vision-inspection-system/app_media/dataset/My-Fourth-Dataset\"]\n",
    "path=[(p+\"/*\") for p in path if path]\n",
    "print(path)\n",
    "dataset_list={}\n",
    "\n",
    "DATA_DIR='/home/rchuzh/.local/share/integrated-vision-inspection-system/app_media/'\n",
    "Path(path[0]).relative_to(DATA_DIR).parent"
   ],
   "outputs": [
    {
     "output_type": "stream",
     "name": "stdout",
     "text": [
      "['/home/rchuzh/.local/share/integrated-vision-inspection-system/app_media/dataset/My-Third-Dataset/*', '/home/rchuzh/.local/share/integrated-vision-inspection-system/app_media/dataset/My-Fourth-Dataset/*']\n"
     ]
    },
    {
     "output_type": "execute_result",
     "data": {
      "text/plain": [
       "PosixPath('dataset/My-Third-Dataset')"
      ]
     },
     "metadata": {},
     "execution_count": 56
    }
   ],
   "metadata": {}
  },
  {
   "cell_type": "code",
   "execution_count": 66,
   "source": [
    "for p in path:\n",
    "    image_list={}\n",
    "    for image in (iglob(p)):\n",
    "        image_name=Path(image).name\n",
    "        image_list[str(image_name)]=image\n",
    "    dataset_list[str(Path(p).relative_to(DATA_DIR).parent)]=image_list\n",
    "dataset_list\n"
   ],
   "outputs": [
    {
     "output_type": "execute_result",
     "data": {
      "text/plain": [
       "{'dataset/My-Third-Dataset': {'IMG_20210315_184229.jpg': '/home/rchuzh/.local/share/integrated-vision-inspection-system/app_media/dataset/My-Third-Dataset/IMG_20210315_184229.jpg',\n",
       "  'IMG_20210315_184240.jpg': '/home/rchuzh/.local/share/integrated-vision-inspection-system/app_media/dataset/My-Third-Dataset/IMG_20210315_184240.jpg',\n",
       "  'IMG_20210315_184238.jpg': '/home/rchuzh/.local/share/integrated-vision-inspection-system/app_media/dataset/My-Third-Dataset/IMG_20210315_184238.jpg',\n",
       "  'IMG_20210315_184236.jpg': '/home/rchuzh/.local/share/integrated-vision-inspection-system/app_media/dataset/My-Third-Dataset/IMG_20210315_184236.jpg'},\n",
       " 'dataset/My-Fourth-Dataset': {'IMG_20210315_184217.jpg': '/home/rchuzh/.local/share/integrated-vision-inspection-system/app_media/dataset/My-Fourth-Dataset/IMG_20210315_184217.jpg',\n",
       "  'IMG_20210315_184212.jpg': '/home/rchuzh/.local/share/integrated-vision-inspection-system/app_media/dataset/My-Fourth-Dataset/IMG_20210315_184212.jpg',\n",
       "  'IMG_20210315_184157.jpg': '/home/rchuzh/.local/share/integrated-vision-inspection-system/app_media/dataset/My-Fourth-Dataset/IMG_20210315_184157.jpg',\n",
       "  'IMG_20210315_184215.jpg': '/home/rchuzh/.local/share/integrated-vision-inspection-system/app_media/dataset/My-Fourth-Dataset/IMG_20210315_184215.jpg'}}"
      ]
     },
     "metadata": {},
     "execution_count": 66
    }
   ],
   "metadata": {}
  },
  {
   "cell_type": "code",
   "execution_count": 62,
   "source": [
    "from pprint import PrettyPrinter,pprint\n",
    "pp=PrettyPrinter(indent=4)\n",
    "pp.pprint(dataset_list)"
   ],
   "outputs": [
    {
     "output_type": "stream",
     "name": "stdout",
     "text": [
      "{   'dataset/My-Fourth-Dataset': {   'IMG_20210315_184157.jpg': '/home/rchuzh/.local/share/integrated-vision-inspection-system/app_media/dataset/My-Fourth-Dataset/IMG_20210315_184157.jpg',\n",
      "                                     'IMG_20210315_184212.jpg': '/home/rchuzh/.local/share/integrated-vision-inspection-system/app_media/dataset/My-Fourth-Dataset/IMG_20210315_184212.jpg',\n",
      "                                     'IMG_20210315_184215.jpg': '/home/rchuzh/.local/share/integrated-vision-inspection-system/app_media/dataset/My-Fourth-Dataset/IMG_20210315_184215.jpg',\n",
      "                                     'IMG_20210315_184217.jpg': '/home/rchuzh/.local/share/integrated-vision-inspection-system/app_media/dataset/My-Fourth-Dataset/IMG_20210315_184217.jpg'},\n",
      "    'dataset/My-Third-Dataset': {   'IMG_20210315_184229.jpg': '/home/rchuzh/.local/share/integrated-vision-inspection-system/app_media/dataset/My-Third-Dataset/IMG_20210315_184229.jpg',\n",
      "                                    'IMG_20210315_184236.jpg': '/home/rchuzh/.local/share/integrated-vision-inspection-system/app_media/dataset/My-Third-Dataset/IMG_20210315_184236.jpg',\n",
      "                                    'IMG_20210315_184238.jpg': '/home/rchuzh/.local/share/integrated-vision-inspection-system/app_media/dataset/My-Third-Dataset/IMG_20210315_184238.jpg',\n",
      "                                    'IMG_20210315_184240.jpg': '/home/rchuzh/.local/share/integrated-vision-inspection-system/app_media/dataset/My-Third-Dataset/IMG_20210315_184240.jpg'}}\n"
     ]
    }
   ],
   "metadata": {}
  },
  {
   "cell_type": "code",
   "execution_count": 52,
   "source": [
    "def random():\n",
    "    for i in range(3):\n",
    "        yield i\n",
    "        print(\"Inside\")\n",
    "    print(\"Hi\")"
   ],
   "outputs": [],
   "metadata": {}
  },
  {
   "cell_type": "code",
   "execution_count": 53,
   "source": [
    "y=random()"
   ],
   "outputs": [],
   "metadata": {}
  },
  {
   "cell_type": "code",
   "execution_count": 54,
   "source": [
    "for i in y:\n",
    "    print(i)"
   ],
   "outputs": [
    {
     "output_type": "stream",
     "name": "stdout",
     "text": [
      "0\n",
      "Inside\n",
      "1\n",
      "Inside\n",
      "2\n",
      "Inside\n",
      "Hi\n"
     ]
    }
   ],
   "metadata": {}
  },
  {
   "cell_type": "code",
   "execution_count": 70,
   "source": [
    "\n",
    "query_task_SQL = \"\"\"\n",
    "                        SELECT\n",
    "                            id AS \"ID\",\n",
    "                            is_labelled AS \"Is Labelled\",\n",
    "                            skipped AS \"Skipped\"\n",
    "                        FROM\n",
    "                            public.task\n",
    "                        WHERE\n",
    "                            name = 'IMG_20210315_184229.jpg'\n",
    "                            AND project_id = 6\n",
    "                            AND dataset_id = 3;\n",
    "                                \"\"\""
   ],
   "outputs": [],
   "metadata": {}
  },
  {
   "cell_type": "code",
   "execution_count": 71,
   "source": [
    "db_fetchone(query_task_SQL,conn,fetch_col_name=True)"
   ],
   "outputs": [
    {
     "output_type": "execute_result",
     "data": {
      "text/plain": [
       "(None, ['ID', 'Is Labelled', 'Skipped'])"
      ]
     },
     "metadata": {},
     "execution_count": 71
    }
   ],
   "metadata": {}
  }
 ],
 "metadata": {
  "orig_nbformat": 4,
  "language_info": {
   "name": "python",
   "version": "3.8.3",
   "mimetype": "text/x-python",
   "codemirror_mode": {
    "name": "ipython",
    "version": 3
   },
   "pygments_lexer": "ipython3",
   "nbconvert_exporter": "python",
   "file_extension": ".py"
  },
  "kernelspec": {
   "name": "python3",
   "display_name": "Python 3.8.3 64-bit ('project': conda)"
  },
  "interpreter": {
   "hash": "ba56c48e8eb9be168e0389a843d6b05eb98b350e2a11ebd3aad5a11a665ac5a1"
  }
 },
 "nbformat": 4,
 "nbformat_minor": 2
}