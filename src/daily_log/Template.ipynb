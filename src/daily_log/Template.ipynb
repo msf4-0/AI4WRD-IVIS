{
 "cells": [
  {
   "cell_type": "markdown",
   "source": [
    "# Init"
   ],
   "metadata": {}
  },
  {
   "cell_type": "code",
   "execution_count": 1,
   "source": [
    "from IPython.display import display\n",
    "from typing import List,Dict\n",
    "import os\n",
    "import sys\n",
    "import psycopg2\n",
    "from psycopg2.extras import NamedTupleCursor\n",
    "os.chdir('/home/rchuzh/programming/image_labelling_shrdc')\n",
    "from pathlib import Path\n",
    "Path.cwd()\n",
    "SRC = Path('/home/rchuzh/programming/image_labelling_shrdc/src')  # ROOT folder -> ./src\n",
    "LIB_PATH = SRC / \"lib\"\n",
    "\n",
    "if str(LIB_PATH) not in sys.path:\n",
    "    sys.path.insert(0, str(LIB_PATH))  # ./lib\n",
    "else:\n",
    "    pass"
   ],
   "outputs": [],
   "metadata": {}
  },
  {
   "cell_type": "code",
   "execution_count": 2,
   "source": [
    "from data_manager.database_manager import db_fetchone,db_no_fetch,db_fetchall\n",
    "from core.utils.log import log_info,log_error\n",
    "dsn = \"host=localhost port=5432 dbname=eye user=shrdc password=shrdc\"\n",
    "def init_connection(dsn=None, connection_factory=None, cursor_factory=None, **kwargs):\n",
    "    \"\"\" Connect to the PostgreSQL database server \"\"\"\n",
    "\n",
    "    try:\n",
    "        # read connection parameters\n",
    "        # params = config()\n",
    "\n",
    "        # connect to the PostgreSQL server\n",
    "        log_info('Connecting to the PostgreSQL database...')\n",
    "        if kwargs:\n",
    "            conn = psycopg2.connect(**kwargs)\n",
    "\n",
    "        else:\n",
    "            conn = psycopg2.connect(dsn, connection_factory, cursor_factory)\n",
    "\n",
    "        # create a cursor\n",
    "        with conn:\n",
    "            with conn.cursor(cursor_factory=NamedTupleCursor) as cur:\n",
    "\n",
    "                # execute a statement\n",
    "                cur.execute('SELECT version();')\n",
    "                conn.commit()\n",
    "\n",
    "                # display the PostgreSQL database server version\n",
    "                db_version = cur.fetchone().version\n",
    "                log_info(f\"PostgreSQL database version: {db_version}\")\n",
    "                log_info(f\"PostgreSQL connection status: {conn.info.status}\")\n",
    "                log_info(\n",
    "                    f\"You are connected to database '{conn.info.dbname}' as user '{conn.info.user}' on host '{conn.info.host}' at port '{conn.info.port}'.\")\n",
    "        return conn\n",
    "    except (Exception, psycopg2.DatabaseError) as error:\n",
    "        log_error(error)\n",
    "        conn = None\n"
   ],
   "outputs": [],
   "metadata": {}
  },
  {
   "cell_type": "code",
   "execution_count": 3,
   "source": [
    "conn=init_connection(dsn)"
   ],
   "outputs": [
    {
     "output_type": "stream",
     "name": "stderr",
     "text": [
      "2021-07-27 13:38:42.951 INFO    root: Connecting to the PostgreSQL database...\n",
      "2021-07-27 13:38:42.968 INFO    root: PostgreSQL database version: PostgreSQL 13.3 (Ubuntu 13.3-1.pgdg20.04+1) on x86_64-pc-linux-gnu, compiled by gcc (Ubuntu 9.3.0-17ubuntu1~20.04) 9.3.0, 64-bit\n",
      "2021-07-27 13:38:42.969 INFO    root: PostgreSQL connection status: 0\n",
      "2021-07-27 13:38:42.970 INFO    root: You are connected to database 'eye' as user 'shrdc' on host 'localhost' at port '5432'.\n"
     ]
    }
   ],
   "metadata": {}
  },
  {
   "cell_type": "markdown",
   "source": [
    "# 28/7/2021"
   ],
   "metadata": {}
  },
  {
   "cell_type": "code",
   "execution_count": null,
   "source": [],
   "outputs": [],
   "metadata": {}
  }
 ],
 "metadata": {
  "orig_nbformat": 4,
  "language_info": {
   "name": "python"
  }
 },
 "nbformat": 4,
 "nbformat_minor": 2
}